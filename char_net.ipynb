{
  "cells": [
    {
      "cell_type": "markdown",
      "metadata": {
        "id": "view-in-github",
        "colab_type": "text"
      },
      "source": [
        "<a href=\"https://colab.research.google.com/github/GreihMurray/KriolTranscriber/blob/master/char_net.ipynb\" target=\"_parent\"><img src=\"https://colab.research.google.com/assets/colab-badge.svg\" alt=\"Open In Colab\"/></a>"
      ]
    },
    {
      "cell_type": "code",
      "execution_count": 1,
      "metadata": {
        "colab": {
          "base_uri": "https://localhost:8080/"
        },
        "id": "BiuMPTFJxYCe",
        "outputId": "11b0cd90-a2e8-4172-fde5-bddf486898c7"
      },
      "outputs": [
        {
          "output_type": "stream",
          "name": "stdout",
          "text": [
            "Looking in indexes: https://pypi.org/simple, https://us-python.pkg.dev/colab-wheels/public/simple/\n",
            "Collecting evaluate\n",
            "  Downloading evaluate-0.3.0-py3-none-any.whl (72 kB)\n",
            "\u001b[K     |████████████████████████████████| 72 kB 860 kB/s \n",
            "\u001b[?25hCollecting datasets>=2.0.0\n",
            "  Downloading datasets-2.7.1-py3-none-any.whl (451 kB)\n",
            "\u001b[K     |████████████████████████████████| 451 kB 66.8 MB/s \n",
            "\u001b[?25hCollecting responses<0.19\n",
            "  Downloading responses-0.18.0-py3-none-any.whl (38 kB)\n",
            "Collecting huggingface-hub>=0.7.0\n",
            "  Downloading huggingface_hub-0.11.1-py3-none-any.whl (182 kB)\n",
            "\u001b[K     |████████████████████████████████| 182 kB 84.1 MB/s \n",
            "\u001b[?25hRequirement already satisfied: requests>=2.19.0 in /usr/local/lib/python3.8/dist-packages (from evaluate) (2.23.0)\n",
            "Requirement already satisfied: dill in /usr/local/lib/python3.8/dist-packages (from evaluate) (0.3.6)\n",
            "Requirement already satisfied: tqdm>=4.62.1 in /usr/local/lib/python3.8/dist-packages (from evaluate) (4.64.1)\n",
            "Collecting xxhash\n",
            "  Downloading xxhash-3.1.0-cp38-cp38-manylinux_2_17_x86_64.manylinux2014_x86_64.whl (212 kB)\n",
            "\u001b[K     |████████████████████████████████| 212 kB 48.0 MB/s \n",
            "\u001b[?25hCollecting multiprocess\n",
            "  Downloading multiprocess-0.70.14-py38-none-any.whl (132 kB)\n",
            "\u001b[K     |████████████████████████████████| 132 kB 15.3 MB/s \n",
            "\u001b[?25hRequirement already satisfied: fsspec[http]>=2021.05.0 in /usr/local/lib/python3.8/dist-packages (from evaluate) (2022.11.0)\n",
            "Requirement already satisfied: packaging in /usr/local/lib/python3.8/dist-packages (from evaluate) (21.3)\n",
            "Requirement already satisfied: pandas in /usr/local/lib/python3.8/dist-packages (from evaluate) (1.3.5)\n",
            "Requirement already satisfied: numpy>=1.17 in /usr/local/lib/python3.8/dist-packages (from evaluate) (1.21.6)\n",
            "Requirement already satisfied: aiohttp in /usr/local/lib/python3.8/dist-packages (from datasets>=2.0.0->evaluate) (3.8.3)\n",
            "Requirement already satisfied: pyarrow>=6.0.0 in /usr/local/lib/python3.8/dist-packages (from datasets>=2.0.0->evaluate) (9.0.0)\n",
            "Requirement already satisfied: pyyaml>=5.1 in /usr/local/lib/python3.8/dist-packages (from datasets>=2.0.0->evaluate) (6.0)\n",
            "Requirement already satisfied: charset-normalizer<3.0,>=2.0 in /usr/local/lib/python3.8/dist-packages (from aiohttp->datasets>=2.0.0->evaluate) (2.1.1)\n",
            "Requirement already satisfied: async-timeout<5.0,>=4.0.0a3 in /usr/local/lib/python3.8/dist-packages (from aiohttp->datasets>=2.0.0->evaluate) (4.0.2)\n",
            "Requirement already satisfied: yarl<2.0,>=1.0 in /usr/local/lib/python3.8/dist-packages (from aiohttp->datasets>=2.0.0->evaluate) (1.8.1)\n",
            "Requirement already satisfied: attrs>=17.3.0 in /usr/local/lib/python3.8/dist-packages (from aiohttp->datasets>=2.0.0->evaluate) (22.1.0)\n",
            "Requirement already satisfied: frozenlist>=1.1.1 in /usr/local/lib/python3.8/dist-packages (from aiohttp->datasets>=2.0.0->evaluate) (1.3.3)\n",
            "Requirement already satisfied: aiosignal>=1.1.2 in /usr/local/lib/python3.8/dist-packages (from aiohttp->datasets>=2.0.0->evaluate) (1.3.1)\n",
            "Requirement already satisfied: multidict<7.0,>=4.5 in /usr/local/lib/python3.8/dist-packages (from aiohttp->datasets>=2.0.0->evaluate) (6.0.2)\n",
            "Requirement already satisfied: typing-extensions>=3.7.4.3 in /usr/local/lib/python3.8/dist-packages (from huggingface-hub>=0.7.0->evaluate) (4.1.1)\n",
            "Requirement already satisfied: filelock in /usr/local/lib/python3.8/dist-packages (from huggingface-hub>=0.7.0->evaluate) (3.8.0)\n",
            "Requirement already satisfied: pyparsing!=3.0.5,>=2.0.2 in /usr/local/lib/python3.8/dist-packages (from packaging->evaluate) (3.0.9)\n",
            "Requirement already satisfied: chardet<4,>=3.0.2 in /usr/local/lib/python3.8/dist-packages (from requests>=2.19.0->evaluate) (3.0.4)\n",
            "Requirement already satisfied: certifi>=2017.4.17 in /usr/local/lib/python3.8/dist-packages (from requests>=2.19.0->evaluate) (2022.9.24)\n",
            "Requirement already satisfied: idna<3,>=2.5 in /usr/local/lib/python3.8/dist-packages (from requests>=2.19.0->evaluate) (2.10)\n",
            "Requirement already satisfied: urllib3!=1.25.0,!=1.25.1,<1.26,>=1.21.1 in /usr/local/lib/python3.8/dist-packages (from requests>=2.19.0->evaluate) (1.24.3)\n",
            "Collecting urllib3!=1.25.0,!=1.25.1,<1.26,>=1.21.1\n",
            "  Downloading urllib3-1.25.11-py2.py3-none-any.whl (127 kB)\n",
            "\u001b[K     |████████████████████████████████| 127 kB 76.2 MB/s \n",
            "\u001b[?25hRequirement already satisfied: python-dateutil>=2.7.3 in /usr/local/lib/python3.8/dist-packages (from pandas->evaluate) (2.8.2)\n",
            "Requirement already satisfied: pytz>=2017.3 in /usr/local/lib/python3.8/dist-packages (from pandas->evaluate) (2022.6)\n",
            "Requirement already satisfied: six>=1.5 in /usr/local/lib/python3.8/dist-packages (from python-dateutil>=2.7.3->pandas->evaluate) (1.15.0)\n",
            "Installing collected packages: urllib3, xxhash, responses, multiprocess, huggingface-hub, datasets, evaluate\n",
            "  Attempting uninstall: urllib3\n",
            "    Found existing installation: urllib3 1.24.3\n",
            "    Uninstalling urllib3-1.24.3:\n",
            "      Successfully uninstalled urllib3-1.24.3\n",
            "Successfully installed datasets-2.7.1 evaluate-0.3.0 huggingface-hub-0.11.1 multiprocess-0.70.14 responses-0.18.0 urllib3-1.25.11 xxhash-3.1.0\n",
            "Looking in indexes: https://pypi.org/simple, https://us-python.pkg.dev/colab-wheels/public/simple/\n",
            "Collecting jiwer\n",
            "  Downloading jiwer-2.5.1-py3-none-any.whl (15 kB)\n",
            "Collecting levenshtein==0.20.2\n",
            "  Downloading Levenshtein-0.20.2-cp38-cp38-manylinux_2_17_x86_64.manylinux2014_x86_64.whl (1.4 MB)\n",
            "\u001b[K     |████████████████████████████████| 1.4 MB 32.5 MB/s \n",
            "\u001b[?25hCollecting rapidfuzz<3.0.0,>=2.3.0\n",
            "  Downloading rapidfuzz-2.13.3-cp38-cp38-manylinux_2_17_x86_64.manylinux2014_x86_64.whl (2.2 MB)\n",
            "\u001b[K     |████████████████████████████████| 2.2 MB 63.5 MB/s \n",
            "\u001b[?25hInstalling collected packages: rapidfuzz, levenshtein, jiwer\n",
            "Successfully installed jiwer-2.5.1 levenshtein-0.20.2 rapidfuzz-2.13.3\n"
          ]
        }
      ],
      "source": [
        "!pip install evaluate\n",
        "!pip install jiwer"
      ]
    },
    {
      "cell_type": "code",
      "execution_count": 2,
      "metadata": {
        "id": "tiEm2CJT-ufY"
      },
      "outputs": [],
      "source": [
        "from keras.utils import to_categorical\n",
        "from tensorflow.keras.models import Sequential\n",
        "from tensorflow.keras.layers import Dense\n",
        "import tensorflow as tf\n",
        "import numpy as np\n",
        "import itertools\n",
        "from evaluate import load\n",
        "from scipy.io import wavfile\n",
        "from keras.models import load_model\n",
        "from evaluate import load"
      ]
    },
    {
      "cell_type": "code",
      "execution_count": 3,
      "metadata": {
        "id": "5Yl8pSEy8_hu"
      },
      "outputs": [],
      "source": [
        "import math, random\n",
        "import torch\n",
        "import torchaudio\n",
        "from torchaudio import transforms\n",
        "import pandas as pd\n",
        "from tqdm import tqdm\n",
        "import os\n",
        "import unicodedata\n",
        "import re"
      ]
    },
    {
      "cell_type": "code",
      "execution_count": 4,
      "metadata": {
        "colab": {
          "base_uri": "https://localhost:8080/"
        },
        "id": "nzyMxwpr9E2o",
        "outputId": "851aef59-5ec1-4c3d-8189-9d8f968c8bff"
      },
      "outputs": [
        {
          "output_type": "stream",
          "name": "stdout",
          "text": [
            "Mounted at /content/gdrive\n"
          ]
        }
      ],
      "source": [
        "from google.colab import drive\n",
        "\n",
        "drive.mount('/content/gdrive')"
      ]
    },
    {
      "cell_type": "code",
      "execution_count": 5,
      "metadata": {
        "id": "u-KbCzwD9F7D"
      },
      "outputs": [],
      "source": [
        "DEFAULT_DIR = '/content/gdrive/MyDrive/Colab_Notebooks/NLP/project/'\n",
        "SR = 44100"
      ]
    },
    {
      "cell_type": "code",
      "execution_count": 6,
      "metadata": {
        "id": "Ujj8a26e9HOp"
      },
      "outputs": [],
      "source": [
        "def load_html_data(dir_ext):\n",
        "    all_data = []\n",
        "    chars_to_replace = '.,;:<>?/\\'\\\\[]()!#$%\"”“'\n",
        "    directory = DEFAULT_DIR + 'html/' + dir_ext + '/'\n",
        "\n",
        "    dir_files = sorted(os.listdir(directory))\n",
        "\n",
        "    for file in tqdm(dir_files, desc='Loading HTML Data'):\n",
        "        file = directory + file\n",
        "        divs = []\n",
        "        with open(file, 'r', encoding='UTF-8') as in_file:\n",
        "            data = ' '.join(in_file.readlines())\n",
        "            data = unicodedata.normalize('NFC', data)\n",
        "            data = re.sub(r'<span class=.*?</span>', '', data)\n",
        "            data = re.sub(r'<a.*?</a>', '', data)\n",
        "            data = data.replace(u'\\xa0', u' ')\n",
        "            check_divs = re.findall(r'<div class=\\'mt\\'.*?>(.*?) </div>', data)\n",
        "            check_divs.extend(re.findall(r'<div class=\\'mt2\\'.*?>(.*?) </div>', data))\n",
        "            # print(data)\n",
        "            check_divs.extend(re.findall(r'<div class=\\'ip\\'>(.*)', data))\n",
        "\n",
        "            if len(check_divs) > 0:\n",
        "                full = '!'.join(check_divs)\n",
        "                full = re.sub(r'[\\,,@,#,$,%,^,&,*,(,),\\[,\\],\\',\\\",;,:,“,”,‘,’]', '', full)\n",
        "                full = re.sub('^\\s+', ' ', full).strip('\\u00A0')\n",
        "                full = re.split('[\\.,\\?,!,\\n]', str(full))\n",
        "                all_data.extend([s.strip() for s in full])\n",
        "\n",
        "            divs.extend(re.findall(r'<div class=\\'[p,s]\\'.*?>(.*?) </div>', data))\n",
        "\n",
        "        full_data = '!'.join(divs)\n",
        "        full_data = re.sub(r'[\\,,@,#,$,%,^,&,*,(,),\\[,\\],\\',\\\",;,:,“,”,‘,’]', '', full_data)\n",
        "        full_data = re.sub(' +', ' ', full_data)\n",
        "        full_data = re.split('[\\.,\\?,!,\\n]', str(full_data))\n",
        "\n",
        "        all_data.extend([s.strip() for s in full_data])\n",
        "\n",
        "        clean = []\n",
        "        for row2 in all_data:\n",
        "            if len(row2) >= 1:\n",
        "                clean.append(row2.lower())\n",
        "\n",
        "    return clean"
      ]
    },
    {
      "cell_type": "code",
      "execution_count": 7,
      "metadata": {
        "id": "WxujUpiQ9IjU"
      },
      "outputs": [],
      "source": [
        "def load_dataset(dir_ext):\n",
        "    transcripts = load_html_data(dir_ext)\n",
        "    all_x = []\n",
        "    all_y = []\n",
        "    directory = DEFAULT_DIR + 'audio/' + dir_ext + '/'\n",
        "\n",
        "    order = []\n",
        "\n",
        "    dir_files = sorted(os.listdir(directory))\n",
        "\n",
        "    for i, file in tqdm(enumerate(dir_files), desc='Loading Audio Data & Creating Dataset'):\n",
        "        file = directory + file\n",
        "        \n",
        "        sr, data = wavfile.read(file)\n",
        "\n",
        "        max_len = SR//1000 * 15000\n",
        "\n",
        "        if len(data) > max_len:\n",
        "          continue\n",
        "\n",
        "        all_x.append(data)\n",
        "        all_y.append(transcripts[i])\n",
        "\n",
        "\n",
        "    return pd.DataFrame(list(zip(all_x, all_y)), columns=['audio', 'transcription'])"
      ]
    },
    {
      "cell_type": "code",
      "execution_count": 18,
      "metadata": {
        "id": "FQb1aO129R-t"
      },
      "outputs": [],
      "source": [
        "def one_hot(data, test_data, map_use=None):\n",
        "    mapping = {}\n",
        "    mapped = []\n",
        "    \n",
        "    if not test_data:\n",
        "        i = 0\n",
        "\n",
        "        for sentence in data:\n",
        "          cur_map = []\n",
        "          for word in sentence:\n",
        "              if word in mapping.keys():\n",
        "                cur_map.append(mapping[word])\n",
        "              else:\n",
        "                i += 1\n",
        "                cur_map.append(i)\n",
        "                mapping[word] = i\n",
        "                \n",
        "          mapped.append(cur_map)\n",
        "    else:\n",
        "          for sentence in data:\n",
        "            cur_map = []\n",
        "            for word in sentence:\n",
        "                if word in map_use.keys():\n",
        "                  cur_map.append(map_use[word])\n",
        "                else:\n",
        "                  i += 1\n",
        "                  cur_map.append(i)\n",
        "                  map_use[word] = i\n",
        "          mapped.append(cur_map)\n",
        "      \n",
        "    return mapped, mapping"
      ]
    },
    {
      "cell_type": "code",
      "execution_count": 11,
      "metadata": {
        "id": "w1aYZcfH9TDQ"
      },
      "outputs": [],
      "source": [
        "def vectorize(data):\n",
        "    vecs = []\n",
        "    for row in data:\n",
        "      cur_vec = [0] * len(row[0])\n",
        "      for piece in row:\n",
        "        piece = list(piece)\n",
        "        cur_vec[piece.index(1)] += 1\n",
        "      cur_vec[7] = 1\n",
        "      vecs.append(cur_vec)\n",
        "\n",
        "    return vecs"
      ]
    },
    {
      "cell_type": "code",
      "execution_count": 12,
      "metadata": {
        "id": "oYBr-R5393cs"
      },
      "outputs": [],
      "source": [
        "def pad_audio(data):\n",
        "    max_len = SR//1000 * 15000\n",
        "\n",
        "    for i, aud in tqdm(enumerate(data), desc='Padding audio'):\n",
        "      if len(aud) < max_len:\n",
        "        data[i] = np.array(np.append(aud, np.zeros(max_len - len(aud))))\n",
        "\n",
        "    return data"
      ]
    },
    {
      "cell_type": "code",
      "execution_count": 13,
      "metadata": {
        "id": "XDzD3p6QBLV-"
      },
      "outputs": [],
      "source": [
        "def build_model(input_len, output_len):\n",
        "    model = Sequential()\n",
        "    model.add(Dense(256, input_shape=(input_len,), activation=\"sigmoid\"))\n",
        "    model.add(Dense(128, activation=\"sigmoid\"))\n",
        "    model.add(Dense(output_len, activation=\"relu\"))\n",
        "\n",
        "    model.compile(loss='poisson', metrics=['accuracy'])\n",
        "\n",
        "    return model"
      ]
    },
    {
      "cell_type": "code",
      "source": [
        "def load_and_process_data(folder_path, test_data=False, map_use=None):\n",
        "    df = load_dataset(folder_path)\n",
        "    clean_y = list(df['transcription'])\n",
        "\n",
        "    padded_y = list(zip(*itertools.zip_longest(*list(df['transcription']), fillvalue='!')))\n",
        "    enc_y, mapping = one_hot(padded_y, test_data, map_use)\n",
        "    enc_y = np.array(enc_y)\n",
        "\n",
        "    padded_x = pad_audio(df['audio'])\n",
        "\n",
        "    padded_x = np.stack(padded_x)\n",
        "\n",
        "    return clean_y, enc_y, padded_x, mapping"
      ],
      "metadata": {
        "id": "YkAsq4XJK-SM"
      },
      "execution_count": 14,
      "outputs": []
    },
    {
      "cell_type": "code",
      "source": [
        "def evaluate(model, padded_x, mapping, clean_y):\n",
        "    cur_words = []\n",
        "\n",
        "    map_list = mapping.items()\n",
        "    map_keys = list(mapping.keys())\n",
        "    map_vals = list(mapping.values())\n",
        "\n",
        "    all_words = []\n",
        "    preds = model.predict(padded_x)\n",
        "\n",
        "    for pred in preds:\n",
        "        cur_words = []\n",
        "        for i, val in enumerate(pred):\n",
        "            if val > 0:\n",
        "                if round(val) == 0:\n",
        "                    val = 1\n",
        "                if round(val) == 7:\n",
        "                    break\n",
        "                cur_words.append(map_keys[map_vals.index(round(val))])\n",
        "        all_words.append(''.join(cur_words))\n",
        "\n",
        "    cer = load('cer')\n",
        "    cer_score = cer.compute(predictions=all_words, references=clean_y)\n",
        "    print('Character Error Rate:', cer_score)\n",
        "\n",
        "    wer = load('wer')\n",
        "    wer_score = wer.compute(predictions=all_words, references=clean_y)\n",
        "    print('Word Error Rate:', wer_score)"
      ],
      "metadata": {
        "id": "ZpAMHZ_tL6pf"
      },
      "execution_count": 15,
      "outputs": []
    },
    {
      "cell_type": "code",
      "source": [
        "def main(train=False, model_path='/content/gdrive/MyDrive/Colab_Notebooks/NLP/project/charnet_model_350e'):\n",
        "    clean_y, enc_y, padded_x, mapping = load_and_process_data('train')\n",
        "    y_test, _, x_test, _ = load_and_process_data('train', test_data=True, map_use=mapping)\n",
        "\n",
        "    if train:\n",
        "        model = build_model(len(padded_x[0]), len(enc_y[0]))\n",
        "        model.fit(padded_x, enc_y, epochs=50, verbose=1, batch_size=1)\n",
        "    else:\n",
        "        model = load_model(model_path)\n",
        "\n",
        "    evaluate(model, x_test, mapping, y_test)"
      ],
      "metadata": {
        "id": "vefNw6AhLRSp"
      },
      "execution_count": 16,
      "outputs": []
    },
    {
      "cell_type": "code",
      "source": [
        "main()"
      ],
      "metadata": {
        "colab": {
          "base_uri": "https://localhost:8080/",
          "height": 272,
          "referenced_widgets": [
            "09515e4ab6f44f6b95a5ac92a37d3ab5",
            "d8a3081cb52641a8a1fa178d4d854ab1",
            "a67b9c87d8c64df7a32aef28c236afbd",
            "23d02fca038148f1b282b98041869db5",
            "6783278dade2461fb35b1d0e0f303cd8",
            "e33c018deb4e44b48cdc11245ae98c19",
            "52f69e8286044dc5b72ea1aa579ea692",
            "c5cfa8caf5ae4478a77580a72fd33110",
            "10b6aef0c9184406bbfbea55eecfb58b",
            "4b6cad5d019b4212b28442b2a3f8b22d",
            "a220e43c69d8476889c273a33ae1f724",
            "c7fcb08065b84f56be1e335a65adcd70",
            "65b0ccebffc448b3ba4cf712d1f48db2",
            "3340288a9ac8486985f2efdd93d426b0",
            "b918183ab27b445491723be45a451691",
            "1f21f4c277b641c6a7857576950f04b9",
            "fc8ac2ec021340e2b62ca44961b55b51",
            "531c873dc9dc48acbbe9a70b6a1d56cf",
            "a0acc66acd9c4848b64817eec602d716",
            "5097509a6b64497598a16352f8207452",
            "c3c3f98626db4fae90f141f069c25702",
            "c1cd7844ab824cab87efe5ffb28de73f"
          ]
        },
        "id": "hLhYYSJyN8N8",
        "outputId": "0e50fc2d-0bf2-452e-afc8-afdc7520130c"
      },
      "execution_count": 19,
      "outputs": [
        {
          "output_type": "stream",
          "name": "stderr",
          "text": [
            "Loading HTML Data: 100%|██████████| 293/293 [00:01<00:00, 205.28it/s]\n",
            "Loading Audio Data & Creating Dataset: 0it [00:00, ?it/s]<ipython-input-7-6963f008061e>:14: WavFileWarning: Chunk (non-data) not understood, skipping it.\n",
            "  sr, data = wavfile.read(file)\n",
            "Loading Audio Data & Creating Dataset: 356it [00:00, 419.15it/s]\n",
            "Padding audio: 306it [00:00, 808.53it/s]\n",
            "Loading HTML Data: 100%|██████████| 293/293 [00:01<00:00, 214.38it/s]\n",
            "Loading Audio Data & Creating Dataset: 356it [00:00, 453.58it/s]\n",
            "Padding audio: 306it [00:00, 937.87it/s]\n"
          ]
        },
        {
          "output_type": "stream",
          "name": "stdout",
          "text": [
            "10/10 [==============================] - 2s 180ms/step\n"
          ]
        },
        {
          "output_type": "display_data",
          "data": {
            "text/plain": [
              "Downloading builder script:   0%|          | 0.00/5.60k [00:00<?, ?B/s]"
            ],
            "application/vnd.jupyter.widget-view+json": {
              "version_major": 2,
              "version_minor": 0,
              "model_id": "09515e4ab6f44f6b95a5ac92a37d3ab5"
            }
          },
          "metadata": {}
        },
        {
          "output_type": "stream",
          "name": "stdout",
          "text": [
            "Character Error Rate: 0.8919685968080793\n"
          ]
        },
        {
          "output_type": "display_data",
          "data": {
            "text/plain": [
              "Downloading builder script:   0%|          | 0.00/4.49k [00:00<?, ?B/s]"
            ],
            "application/vnd.jupyter.widget-view+json": {
              "version_major": 2,
              "version_minor": 0,
              "model_id": "c7fcb08065b84f56be1e335a65adcd70"
            }
          },
          "metadata": {}
        },
        {
          "output_type": "stream",
          "name": "stdout",
          "text": [
            "Word Error Rate: 0.9990221005280657\n"
          ]
        }
      ]
    }
  ],
  "metadata": {
    "colab": {
      "provenance": [],
      "authorship_tag": "ABX9TyMqgRUcLy6rUTh/tIIuy9Po",
      "include_colab_link": true
    },
    "kernelspec": {
      "display_name": "Python 3",
      "name": "python3"
    },
    "language_info": {
      "name": "python"
    },
    "widgets": {
      "application/vnd.jupyter.widget-state+json": {
        "09515e4ab6f44f6b95a5ac92a37d3ab5": {
          "model_module": "@jupyter-widgets/controls",
          "model_name": "HBoxModel",
          "model_module_version": "1.5.0",
          "state": {
            "_dom_classes": [],
            "_model_module": "@jupyter-widgets/controls",
            "_model_module_version": "1.5.0",
            "_model_name": "HBoxModel",
            "_view_count": null,
            "_view_module": "@jupyter-widgets/controls",
            "_view_module_version": "1.5.0",
            "_view_name": "HBoxView",
            "box_style": "",
            "children": [
              "IPY_MODEL_d8a3081cb52641a8a1fa178d4d854ab1",
              "IPY_MODEL_a67b9c87d8c64df7a32aef28c236afbd",
              "IPY_MODEL_23d02fca038148f1b282b98041869db5"
            ],
            "layout": "IPY_MODEL_6783278dade2461fb35b1d0e0f303cd8"
          }
        },
        "d8a3081cb52641a8a1fa178d4d854ab1": {
          "model_module": "@jupyter-widgets/controls",
          "model_name": "HTMLModel",
          "model_module_version": "1.5.0",
          "state": {
            "_dom_classes": [],
            "_model_module": "@jupyter-widgets/controls",
            "_model_module_version": "1.5.0",
            "_model_name": "HTMLModel",
            "_view_count": null,
            "_view_module": "@jupyter-widgets/controls",
            "_view_module_version": "1.5.0",
            "_view_name": "HTMLView",
            "description": "",
            "description_tooltip": null,
            "layout": "IPY_MODEL_e33c018deb4e44b48cdc11245ae98c19",
            "placeholder": "​",
            "style": "IPY_MODEL_52f69e8286044dc5b72ea1aa579ea692",
            "value": "Downloading builder script: 100%"
          }
        },
        "a67b9c87d8c64df7a32aef28c236afbd": {
          "model_module": "@jupyter-widgets/controls",
          "model_name": "FloatProgressModel",
          "model_module_version": "1.5.0",
          "state": {
            "_dom_classes": [],
            "_model_module": "@jupyter-widgets/controls",
            "_model_module_version": "1.5.0",
            "_model_name": "FloatProgressModel",
            "_view_count": null,
            "_view_module": "@jupyter-widgets/controls",
            "_view_module_version": "1.5.0",
            "_view_name": "ProgressView",
            "bar_style": "success",
            "description": "",
            "description_tooltip": null,
            "layout": "IPY_MODEL_c5cfa8caf5ae4478a77580a72fd33110",
            "max": 5599,
            "min": 0,
            "orientation": "horizontal",
            "style": "IPY_MODEL_10b6aef0c9184406bbfbea55eecfb58b",
            "value": 5599
          }
        },
        "23d02fca038148f1b282b98041869db5": {
          "model_module": "@jupyter-widgets/controls",
          "model_name": "HTMLModel",
          "model_module_version": "1.5.0",
          "state": {
            "_dom_classes": [],
            "_model_module": "@jupyter-widgets/controls",
            "_model_module_version": "1.5.0",
            "_model_name": "HTMLModel",
            "_view_count": null,
            "_view_module": "@jupyter-widgets/controls",
            "_view_module_version": "1.5.0",
            "_view_name": "HTMLView",
            "description": "",
            "description_tooltip": null,
            "layout": "IPY_MODEL_4b6cad5d019b4212b28442b2a3f8b22d",
            "placeholder": "​",
            "style": "IPY_MODEL_a220e43c69d8476889c273a33ae1f724",
            "value": " 5.60k/5.60k [00:00&lt;00:00, 133kB/s]"
          }
        },
        "6783278dade2461fb35b1d0e0f303cd8": {
          "model_module": "@jupyter-widgets/base",
          "model_name": "LayoutModel",
          "model_module_version": "1.2.0",
          "state": {
            "_model_module": "@jupyter-widgets/base",
            "_model_module_version": "1.2.0",
            "_model_name": "LayoutModel",
            "_view_count": null,
            "_view_module": "@jupyter-widgets/base",
            "_view_module_version": "1.2.0",
            "_view_name": "LayoutView",
            "align_content": null,
            "align_items": null,
            "align_self": null,
            "border": null,
            "bottom": null,
            "display": null,
            "flex": null,
            "flex_flow": null,
            "grid_area": null,
            "grid_auto_columns": null,
            "grid_auto_flow": null,
            "grid_auto_rows": null,
            "grid_column": null,
            "grid_gap": null,
            "grid_row": null,
            "grid_template_areas": null,
            "grid_template_columns": null,
            "grid_template_rows": null,
            "height": null,
            "justify_content": null,
            "justify_items": null,
            "left": null,
            "margin": null,
            "max_height": null,
            "max_width": null,
            "min_height": null,
            "min_width": null,
            "object_fit": null,
            "object_position": null,
            "order": null,
            "overflow": null,
            "overflow_x": null,
            "overflow_y": null,
            "padding": null,
            "right": null,
            "top": null,
            "visibility": null,
            "width": null
          }
        },
        "e33c018deb4e44b48cdc11245ae98c19": {
          "model_module": "@jupyter-widgets/base",
          "model_name": "LayoutModel",
          "model_module_version": "1.2.0",
          "state": {
            "_model_module": "@jupyter-widgets/base",
            "_model_module_version": "1.2.0",
            "_model_name": "LayoutModel",
            "_view_count": null,
            "_view_module": "@jupyter-widgets/base",
            "_view_module_version": "1.2.0",
            "_view_name": "LayoutView",
            "align_content": null,
            "align_items": null,
            "align_self": null,
            "border": null,
            "bottom": null,
            "display": null,
            "flex": null,
            "flex_flow": null,
            "grid_area": null,
            "grid_auto_columns": null,
            "grid_auto_flow": null,
            "grid_auto_rows": null,
            "grid_column": null,
            "grid_gap": null,
            "grid_row": null,
            "grid_template_areas": null,
            "grid_template_columns": null,
            "grid_template_rows": null,
            "height": null,
            "justify_content": null,
            "justify_items": null,
            "left": null,
            "margin": null,
            "max_height": null,
            "max_width": null,
            "min_height": null,
            "min_width": null,
            "object_fit": null,
            "object_position": null,
            "order": null,
            "overflow": null,
            "overflow_x": null,
            "overflow_y": null,
            "padding": null,
            "right": null,
            "top": null,
            "visibility": null,
            "width": null
          }
        },
        "52f69e8286044dc5b72ea1aa579ea692": {
          "model_module": "@jupyter-widgets/controls",
          "model_name": "DescriptionStyleModel",
          "model_module_version": "1.5.0",
          "state": {
            "_model_module": "@jupyter-widgets/controls",
            "_model_module_version": "1.5.0",
            "_model_name": "DescriptionStyleModel",
            "_view_count": null,
            "_view_module": "@jupyter-widgets/base",
            "_view_module_version": "1.2.0",
            "_view_name": "StyleView",
            "description_width": ""
          }
        },
        "c5cfa8caf5ae4478a77580a72fd33110": {
          "model_module": "@jupyter-widgets/base",
          "model_name": "LayoutModel",
          "model_module_version": "1.2.0",
          "state": {
            "_model_module": "@jupyter-widgets/base",
            "_model_module_version": "1.2.0",
            "_model_name": "LayoutModel",
            "_view_count": null,
            "_view_module": "@jupyter-widgets/base",
            "_view_module_version": "1.2.0",
            "_view_name": "LayoutView",
            "align_content": null,
            "align_items": null,
            "align_self": null,
            "border": null,
            "bottom": null,
            "display": null,
            "flex": null,
            "flex_flow": null,
            "grid_area": null,
            "grid_auto_columns": null,
            "grid_auto_flow": null,
            "grid_auto_rows": null,
            "grid_column": null,
            "grid_gap": null,
            "grid_row": null,
            "grid_template_areas": null,
            "grid_template_columns": null,
            "grid_template_rows": null,
            "height": null,
            "justify_content": null,
            "justify_items": null,
            "left": null,
            "margin": null,
            "max_height": null,
            "max_width": null,
            "min_height": null,
            "min_width": null,
            "object_fit": null,
            "object_position": null,
            "order": null,
            "overflow": null,
            "overflow_x": null,
            "overflow_y": null,
            "padding": null,
            "right": null,
            "top": null,
            "visibility": null,
            "width": null
          }
        },
        "10b6aef0c9184406bbfbea55eecfb58b": {
          "model_module": "@jupyter-widgets/controls",
          "model_name": "ProgressStyleModel",
          "model_module_version": "1.5.0",
          "state": {
            "_model_module": "@jupyter-widgets/controls",
            "_model_module_version": "1.5.0",
            "_model_name": "ProgressStyleModel",
            "_view_count": null,
            "_view_module": "@jupyter-widgets/base",
            "_view_module_version": "1.2.0",
            "_view_name": "StyleView",
            "bar_color": null,
            "description_width": ""
          }
        },
        "4b6cad5d019b4212b28442b2a3f8b22d": {
          "model_module": "@jupyter-widgets/base",
          "model_name": "LayoutModel",
          "model_module_version": "1.2.0",
          "state": {
            "_model_module": "@jupyter-widgets/base",
            "_model_module_version": "1.2.0",
            "_model_name": "LayoutModel",
            "_view_count": null,
            "_view_module": "@jupyter-widgets/base",
            "_view_module_version": "1.2.0",
            "_view_name": "LayoutView",
            "align_content": null,
            "align_items": null,
            "align_self": null,
            "border": null,
            "bottom": null,
            "display": null,
            "flex": null,
            "flex_flow": null,
            "grid_area": null,
            "grid_auto_columns": null,
            "grid_auto_flow": null,
            "grid_auto_rows": null,
            "grid_column": null,
            "grid_gap": null,
            "grid_row": null,
            "grid_template_areas": null,
            "grid_template_columns": null,
            "grid_template_rows": null,
            "height": null,
            "justify_content": null,
            "justify_items": null,
            "left": null,
            "margin": null,
            "max_height": null,
            "max_width": null,
            "min_height": null,
            "min_width": null,
            "object_fit": null,
            "object_position": null,
            "order": null,
            "overflow": null,
            "overflow_x": null,
            "overflow_y": null,
            "padding": null,
            "right": null,
            "top": null,
            "visibility": null,
            "width": null
          }
        },
        "a220e43c69d8476889c273a33ae1f724": {
          "model_module": "@jupyter-widgets/controls",
          "model_name": "DescriptionStyleModel",
          "model_module_version": "1.5.0",
          "state": {
            "_model_module": "@jupyter-widgets/controls",
            "_model_module_version": "1.5.0",
            "_model_name": "DescriptionStyleModel",
            "_view_count": null,
            "_view_module": "@jupyter-widgets/base",
            "_view_module_version": "1.2.0",
            "_view_name": "StyleView",
            "description_width": ""
          }
        },
        "c7fcb08065b84f56be1e335a65adcd70": {
          "model_module": "@jupyter-widgets/controls",
          "model_name": "HBoxModel",
          "model_module_version": "1.5.0",
          "state": {
            "_dom_classes": [],
            "_model_module": "@jupyter-widgets/controls",
            "_model_module_version": "1.5.0",
            "_model_name": "HBoxModel",
            "_view_count": null,
            "_view_module": "@jupyter-widgets/controls",
            "_view_module_version": "1.5.0",
            "_view_name": "HBoxView",
            "box_style": "",
            "children": [
              "IPY_MODEL_65b0ccebffc448b3ba4cf712d1f48db2",
              "IPY_MODEL_3340288a9ac8486985f2efdd93d426b0",
              "IPY_MODEL_b918183ab27b445491723be45a451691"
            ],
            "layout": "IPY_MODEL_1f21f4c277b641c6a7857576950f04b9"
          }
        },
        "65b0ccebffc448b3ba4cf712d1f48db2": {
          "model_module": "@jupyter-widgets/controls",
          "model_name": "HTMLModel",
          "model_module_version": "1.5.0",
          "state": {
            "_dom_classes": [],
            "_model_module": "@jupyter-widgets/controls",
            "_model_module_version": "1.5.0",
            "_model_name": "HTMLModel",
            "_view_count": null,
            "_view_module": "@jupyter-widgets/controls",
            "_view_module_version": "1.5.0",
            "_view_name": "HTMLView",
            "description": "",
            "description_tooltip": null,
            "layout": "IPY_MODEL_fc8ac2ec021340e2b62ca44961b55b51",
            "placeholder": "​",
            "style": "IPY_MODEL_531c873dc9dc48acbbe9a70b6a1d56cf",
            "value": "Downloading builder script: 100%"
          }
        },
        "3340288a9ac8486985f2efdd93d426b0": {
          "model_module": "@jupyter-widgets/controls",
          "model_name": "FloatProgressModel",
          "model_module_version": "1.5.0",
          "state": {
            "_dom_classes": [],
            "_model_module": "@jupyter-widgets/controls",
            "_model_module_version": "1.5.0",
            "_model_name": "FloatProgressModel",
            "_view_count": null,
            "_view_module": "@jupyter-widgets/controls",
            "_view_module_version": "1.5.0",
            "_view_name": "ProgressView",
            "bar_style": "success",
            "description": "",
            "description_tooltip": null,
            "layout": "IPY_MODEL_a0acc66acd9c4848b64817eec602d716",
            "max": 4485,
            "min": 0,
            "orientation": "horizontal",
            "style": "IPY_MODEL_5097509a6b64497598a16352f8207452",
            "value": 4485
          }
        },
        "b918183ab27b445491723be45a451691": {
          "model_module": "@jupyter-widgets/controls",
          "model_name": "HTMLModel",
          "model_module_version": "1.5.0",
          "state": {
            "_dom_classes": [],
            "_model_module": "@jupyter-widgets/controls",
            "_model_module_version": "1.5.0",
            "_model_name": "HTMLModel",
            "_view_count": null,
            "_view_module": "@jupyter-widgets/controls",
            "_view_module_version": "1.5.0",
            "_view_name": "HTMLView",
            "description": "",
            "description_tooltip": null,
            "layout": "IPY_MODEL_c3c3f98626db4fae90f141f069c25702",
            "placeholder": "​",
            "style": "IPY_MODEL_c1cd7844ab824cab87efe5ffb28de73f",
            "value": " 4.49k/4.49k [00:00&lt;00:00, 151kB/s]"
          }
        },
        "1f21f4c277b641c6a7857576950f04b9": {
          "model_module": "@jupyter-widgets/base",
          "model_name": "LayoutModel",
          "model_module_version": "1.2.0",
          "state": {
            "_model_module": "@jupyter-widgets/base",
            "_model_module_version": "1.2.0",
            "_model_name": "LayoutModel",
            "_view_count": null,
            "_view_module": "@jupyter-widgets/base",
            "_view_module_version": "1.2.0",
            "_view_name": "LayoutView",
            "align_content": null,
            "align_items": null,
            "align_self": null,
            "border": null,
            "bottom": null,
            "display": null,
            "flex": null,
            "flex_flow": null,
            "grid_area": null,
            "grid_auto_columns": null,
            "grid_auto_flow": null,
            "grid_auto_rows": null,
            "grid_column": null,
            "grid_gap": null,
            "grid_row": null,
            "grid_template_areas": null,
            "grid_template_columns": null,
            "grid_template_rows": null,
            "height": null,
            "justify_content": null,
            "justify_items": null,
            "left": null,
            "margin": null,
            "max_height": null,
            "max_width": null,
            "min_height": null,
            "min_width": null,
            "object_fit": null,
            "object_position": null,
            "order": null,
            "overflow": null,
            "overflow_x": null,
            "overflow_y": null,
            "padding": null,
            "right": null,
            "top": null,
            "visibility": null,
            "width": null
          }
        },
        "fc8ac2ec021340e2b62ca44961b55b51": {
          "model_module": "@jupyter-widgets/base",
          "model_name": "LayoutModel",
          "model_module_version": "1.2.0",
          "state": {
            "_model_module": "@jupyter-widgets/base",
            "_model_module_version": "1.2.0",
            "_model_name": "LayoutModel",
            "_view_count": null,
            "_view_module": "@jupyter-widgets/base",
            "_view_module_version": "1.2.0",
            "_view_name": "LayoutView",
            "align_content": null,
            "align_items": null,
            "align_self": null,
            "border": null,
            "bottom": null,
            "display": null,
            "flex": null,
            "flex_flow": null,
            "grid_area": null,
            "grid_auto_columns": null,
            "grid_auto_flow": null,
            "grid_auto_rows": null,
            "grid_column": null,
            "grid_gap": null,
            "grid_row": null,
            "grid_template_areas": null,
            "grid_template_columns": null,
            "grid_template_rows": null,
            "height": null,
            "justify_content": null,
            "justify_items": null,
            "left": null,
            "margin": null,
            "max_height": null,
            "max_width": null,
            "min_height": null,
            "min_width": null,
            "object_fit": null,
            "object_position": null,
            "order": null,
            "overflow": null,
            "overflow_x": null,
            "overflow_y": null,
            "padding": null,
            "right": null,
            "top": null,
            "visibility": null,
            "width": null
          }
        },
        "531c873dc9dc48acbbe9a70b6a1d56cf": {
          "model_module": "@jupyter-widgets/controls",
          "model_name": "DescriptionStyleModel",
          "model_module_version": "1.5.0",
          "state": {
            "_model_module": "@jupyter-widgets/controls",
            "_model_module_version": "1.5.0",
            "_model_name": "DescriptionStyleModel",
            "_view_count": null,
            "_view_module": "@jupyter-widgets/base",
            "_view_module_version": "1.2.0",
            "_view_name": "StyleView",
            "description_width": ""
          }
        },
        "a0acc66acd9c4848b64817eec602d716": {
          "model_module": "@jupyter-widgets/base",
          "model_name": "LayoutModel",
          "model_module_version": "1.2.0",
          "state": {
            "_model_module": "@jupyter-widgets/base",
            "_model_module_version": "1.2.0",
            "_model_name": "LayoutModel",
            "_view_count": null,
            "_view_module": "@jupyter-widgets/base",
            "_view_module_version": "1.2.0",
            "_view_name": "LayoutView",
            "align_content": null,
            "align_items": null,
            "align_self": null,
            "border": null,
            "bottom": null,
            "display": null,
            "flex": null,
            "flex_flow": null,
            "grid_area": null,
            "grid_auto_columns": null,
            "grid_auto_flow": null,
            "grid_auto_rows": null,
            "grid_column": null,
            "grid_gap": null,
            "grid_row": null,
            "grid_template_areas": null,
            "grid_template_columns": null,
            "grid_template_rows": null,
            "height": null,
            "justify_content": null,
            "justify_items": null,
            "left": null,
            "margin": null,
            "max_height": null,
            "max_width": null,
            "min_height": null,
            "min_width": null,
            "object_fit": null,
            "object_position": null,
            "order": null,
            "overflow": null,
            "overflow_x": null,
            "overflow_y": null,
            "padding": null,
            "right": null,
            "top": null,
            "visibility": null,
            "width": null
          }
        },
        "5097509a6b64497598a16352f8207452": {
          "model_module": "@jupyter-widgets/controls",
          "model_name": "ProgressStyleModel",
          "model_module_version": "1.5.0",
          "state": {
            "_model_module": "@jupyter-widgets/controls",
            "_model_module_version": "1.5.0",
            "_model_name": "ProgressStyleModel",
            "_view_count": null,
            "_view_module": "@jupyter-widgets/base",
            "_view_module_version": "1.2.0",
            "_view_name": "StyleView",
            "bar_color": null,
            "description_width": ""
          }
        },
        "c3c3f98626db4fae90f141f069c25702": {
          "model_module": "@jupyter-widgets/base",
          "model_name": "LayoutModel",
          "model_module_version": "1.2.0",
          "state": {
            "_model_module": "@jupyter-widgets/base",
            "_model_module_version": "1.2.0",
            "_model_name": "LayoutModel",
            "_view_count": null,
            "_view_module": "@jupyter-widgets/base",
            "_view_module_version": "1.2.0",
            "_view_name": "LayoutView",
            "align_content": null,
            "align_items": null,
            "align_self": null,
            "border": null,
            "bottom": null,
            "display": null,
            "flex": null,
            "flex_flow": null,
            "grid_area": null,
            "grid_auto_columns": null,
            "grid_auto_flow": null,
            "grid_auto_rows": null,
            "grid_column": null,
            "grid_gap": null,
            "grid_row": null,
            "grid_template_areas": null,
            "grid_template_columns": null,
            "grid_template_rows": null,
            "height": null,
            "justify_content": null,
            "justify_items": null,
            "left": null,
            "margin": null,
            "max_height": null,
            "max_width": null,
            "min_height": null,
            "min_width": null,
            "object_fit": null,
            "object_position": null,
            "order": null,
            "overflow": null,
            "overflow_x": null,
            "overflow_y": null,
            "padding": null,
            "right": null,
            "top": null,
            "visibility": null,
            "width": null
          }
        },
        "c1cd7844ab824cab87efe5ffb28de73f": {
          "model_module": "@jupyter-widgets/controls",
          "model_name": "DescriptionStyleModel",
          "model_module_version": "1.5.0",
          "state": {
            "_model_module": "@jupyter-widgets/controls",
            "_model_module_version": "1.5.0",
            "_model_name": "DescriptionStyleModel",
            "_view_count": null,
            "_view_module": "@jupyter-widgets/base",
            "_view_module_version": "1.2.0",
            "_view_name": "StyleView",
            "description_width": ""
          }
        }
      }
    }
  },
  "nbformat": 4,
  "nbformat_minor": 0
}