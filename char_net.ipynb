{
  "cells": [
    {
      "cell_type": "markdown",
      "metadata": {
        "id": "view-in-github",
        "colab_type": "text"
      },
      "source": [
        "<a href=\"https://colab.research.google.com/github/GreihMurray/KriolTranscriber/blob/master/char_net.ipynb\" target=\"_parent\"><img src=\"https://colab.research.google.com/assets/colab-badge.svg\" alt=\"Open In Colab\"/></a>"
      ]
    },
    {
      "cell_type": "code",
      "execution_count": null,
      "metadata": {
        "colab": {
          "base_uri": "https://localhost:8080/"
        },
        "id": "BiuMPTFJxYCe",
        "outputId": "f82ba536-841f-4059-bc0f-e78163e600f9"
      },
      "outputs": [
        {
          "output_type": "stream",
          "name": "stdout",
          "text": [
            "Looking in indexes: https://pypi.org/simple, https://us-python.pkg.dev/colab-wheels/public/simple/\n",
            "Collecting evaluate\n",
            "  Downloading evaluate-0.3.0-py3-none-any.whl (72 kB)\n",
            "\u001b[K     |████████████████████████████████| 72 kB 582 kB/s \n",
            "\u001b[?25hRequirement already satisfied: packaging in /usr/local/lib/python3.8/dist-packages (from evaluate) (21.3)\n",
            "Requirement already satisfied: fsspec[http]>=2021.05.0 in /usr/local/lib/python3.8/dist-packages (from evaluate) (2022.11.0)\n",
            "Requirement already satisfied: numpy>=1.17 in /usr/local/lib/python3.8/dist-packages (from evaluate) (1.21.6)\n",
            "Requirement already satisfied: requests>=2.19.0 in /usr/local/lib/python3.8/dist-packages (from evaluate) (2.23.0)\n",
            "Requirement already satisfied: tqdm>=4.62.1 in /usr/local/lib/python3.8/dist-packages (from evaluate) (4.64.1)\n",
            "Requirement already satisfied: dill in /usr/local/lib/python3.8/dist-packages (from evaluate) (0.3.6)\n",
            "Requirement already satisfied: pandas in /usr/local/lib/python3.8/dist-packages (from evaluate) (1.3.5)\n",
            "Collecting xxhash\n",
            "  Downloading xxhash-3.1.0-cp38-cp38-manylinux_2_17_x86_64.manylinux2014_x86_64.whl (212 kB)\n",
            "\u001b[K     |████████████████████████████████| 212 kB 10.4 MB/s \n",
            "\u001b[?25hCollecting multiprocess\n",
            "  Downloading multiprocess-0.70.14-py38-none-any.whl (132 kB)\n",
            "\u001b[K     |████████████████████████████████| 132 kB 19.6 MB/s \n",
            "\u001b[?25hCollecting responses<0.19\n",
            "  Downloading responses-0.18.0-py3-none-any.whl (38 kB)\n",
            "Collecting huggingface-hub>=0.7.0\n",
            "  Downloading huggingface_hub-0.11.1-py3-none-any.whl (182 kB)\n",
            "\u001b[K     |████████████████████████████████| 182 kB 30.3 MB/s \n",
            "\u001b[?25hCollecting datasets>=2.0.0\n",
            "  Downloading datasets-2.7.1-py3-none-any.whl (451 kB)\n",
            "\u001b[K     |████████████████████████████████| 451 kB 11.4 MB/s \n",
            "\u001b[?25hRequirement already satisfied: pyyaml>=5.1 in /usr/local/lib/python3.8/dist-packages (from datasets>=2.0.0->evaluate) (6.0)\n",
            "Requirement already satisfied: pyarrow>=6.0.0 in /usr/local/lib/python3.8/dist-packages (from datasets>=2.0.0->evaluate) (9.0.0)\n",
            "Requirement already satisfied: aiohttp in /usr/local/lib/python3.8/dist-packages (from datasets>=2.0.0->evaluate) (3.8.3)\n",
            "Requirement already satisfied: multidict<7.0,>=4.5 in /usr/local/lib/python3.8/dist-packages (from aiohttp->datasets>=2.0.0->evaluate) (6.0.2)\n",
            "Requirement already satisfied: async-timeout<5.0,>=4.0.0a3 in /usr/local/lib/python3.8/dist-packages (from aiohttp->datasets>=2.0.0->evaluate) (4.0.2)\n",
            "Requirement already satisfied: charset-normalizer<3.0,>=2.0 in /usr/local/lib/python3.8/dist-packages (from aiohttp->datasets>=2.0.0->evaluate) (2.1.1)\n",
            "Requirement already satisfied: frozenlist>=1.1.1 in /usr/local/lib/python3.8/dist-packages (from aiohttp->datasets>=2.0.0->evaluate) (1.3.3)\n",
            "Requirement already satisfied: aiosignal>=1.1.2 in /usr/local/lib/python3.8/dist-packages (from aiohttp->datasets>=2.0.0->evaluate) (1.3.1)\n",
            "Requirement already satisfied: attrs>=17.3.0 in /usr/local/lib/python3.8/dist-packages (from aiohttp->datasets>=2.0.0->evaluate) (22.1.0)\n",
            "Requirement already satisfied: yarl<2.0,>=1.0 in /usr/local/lib/python3.8/dist-packages (from aiohttp->datasets>=2.0.0->evaluate) (1.8.1)\n",
            "Requirement already satisfied: filelock in /usr/local/lib/python3.8/dist-packages (from huggingface-hub>=0.7.0->evaluate) (3.8.0)\n",
            "Requirement already satisfied: typing-extensions>=3.7.4.3 in /usr/local/lib/python3.8/dist-packages (from huggingface-hub>=0.7.0->evaluate) (4.1.1)\n",
            "Requirement already satisfied: pyparsing!=3.0.5,>=2.0.2 in /usr/local/lib/python3.8/dist-packages (from packaging->evaluate) (3.0.9)\n",
            "Requirement already satisfied: certifi>=2017.4.17 in /usr/local/lib/python3.8/dist-packages (from requests>=2.19.0->evaluate) (2022.9.24)\n",
            "Requirement already satisfied: idna<3,>=2.5 in /usr/local/lib/python3.8/dist-packages (from requests>=2.19.0->evaluate) (2.10)\n",
            "Requirement already satisfied: urllib3!=1.25.0,!=1.25.1,<1.26,>=1.21.1 in /usr/local/lib/python3.8/dist-packages (from requests>=2.19.0->evaluate) (1.24.3)\n",
            "Requirement already satisfied: chardet<4,>=3.0.2 in /usr/local/lib/python3.8/dist-packages (from requests>=2.19.0->evaluate) (3.0.4)\n",
            "Collecting urllib3!=1.25.0,!=1.25.1,<1.26,>=1.21.1\n",
            "  Downloading urllib3-1.25.11-py2.py3-none-any.whl (127 kB)\n",
            "\u001b[K     |████████████████████████████████| 127 kB 23.2 MB/s \n",
            "\u001b[?25hRequirement already satisfied: pytz>=2017.3 in /usr/local/lib/python3.8/dist-packages (from pandas->evaluate) (2022.6)\n",
            "Requirement already satisfied: python-dateutil>=2.7.3 in /usr/local/lib/python3.8/dist-packages (from pandas->evaluate) (2.8.2)\n",
            "Requirement already satisfied: six>=1.5 in /usr/local/lib/python3.8/dist-packages (from python-dateutil>=2.7.3->pandas->evaluate) (1.15.0)\n",
            "Installing collected packages: urllib3, xxhash, responses, multiprocess, huggingface-hub, datasets, evaluate\n",
            "  Attempting uninstall: urllib3\n",
            "    Found existing installation: urllib3 1.24.3\n",
            "    Uninstalling urllib3-1.24.3:\n",
            "      Successfully uninstalled urllib3-1.24.3\n",
            "Successfully installed datasets-2.7.1 evaluate-0.3.0 huggingface-hub-0.11.1 multiprocess-0.70.14 responses-0.18.0 urllib3-1.25.11 xxhash-3.1.0\n"
          ]
        }
      ],
      "source": [
        "!pip install evaluate"
      ]
    },
    {
      "cell_type": "code",
      "execution_count": null,
      "metadata": {
        "id": "tiEm2CJT-ufY"
      },
      "outputs": [],
      "source": [
        "from keras.utils import to_categorical\n",
        "from tensorflow.keras.models import Sequential\n",
        "from tensorflow.keras.layers import Dense\n",
        "import tensorflow as tf\n",
        "import numpy as np\n",
        "import itertools\n",
        "from scipy.io import wavfile\n",
        "from keras.models import load_model\n",
        "from evaluate import load"
      ]
    },
    {
      "cell_type": "code",
      "execution_count": null,
      "metadata": {
        "id": "5Yl8pSEy8_hu"
      },
      "outputs": [],
      "source": [
        "import math, random\n",
        "import torch\n",
        "import torchaudio\n",
        "from torchaudio import transforms\n",
        "import pandas as pd\n",
        "from tqdm import tqdm\n",
        "import os\n",
        "import unicodedata\n",
        "import re"
      ]
    },
    {
      "cell_type": "code",
      "execution_count": null,
      "metadata": {
        "colab": {
          "base_uri": "https://localhost:8080/"
        },
        "id": "nzyMxwpr9E2o",
        "outputId": "5d465604-488f-4ced-bd3b-5c3e62deea4e"
      },
      "outputs": [
        {
          "output_type": "stream",
          "name": "stdout",
          "text": [
            "Mounted at /content/gdrive\n"
          ]
        }
      ],
      "source": [
        "from google.colab import drive\n",
        "\n",
        "drive.mount('/content/gdrive')"
      ]
    },
    {
      "cell_type": "code",
      "execution_count": null,
      "metadata": {
        "id": "u-KbCzwD9F7D"
      },
      "outputs": [],
      "source": [
        "DEFAULT_DIR = '/content/gdrive/MyDrive/Colab_Notebooks/NLP/project/'\n",
        "SR = 44100"
      ]
    },
    {
      "cell_type": "code",
      "execution_count": null,
      "metadata": {
        "id": "Ujj8a26e9HOp"
      },
      "outputs": [],
      "source": [
        "def load_html_data(dir_ext):\n",
        "    all_data = []\n",
        "    chars_to_replace = '.,;:<>?/\\'\\\\[]()!#$%\"”“'\n",
        "    directory = DEFAULT_DIR + 'html/' + dir_ext + '/'\n",
        "\n",
        "    dir_files = sorted(os.listdir(directory))\n",
        "\n",
        "    for file in tqdm(dir_files, desc='Loading HTML Data'):\n",
        "        file = directory + file\n",
        "        divs = []\n",
        "        with open(file, 'r', encoding='UTF-8') as in_file:\n",
        "            data = ' '.join(in_file.readlines())\n",
        "            data = unicodedata.normalize('NFC', data)\n",
        "            data = re.sub(r'<span class=.*?</span>', '', data)\n",
        "            data = re.sub(r'<a.*?</a>', '', data)\n",
        "            data = data.replace(u'\\xa0', u' ')\n",
        "            check_divs = re.findall(r'<div class=\\'mt\\'.*?>(.*?) </div>', data)\n",
        "            check_divs.extend(re.findall(r'<div class=\\'mt2\\'.*?>(.*?) </div>', data))\n",
        "            # print(data)\n",
        "            check_divs.extend(re.findall(r'<div class=\\'ip\\'>(.*)', data))\n",
        "\n",
        "            if len(check_divs) > 0:\n",
        "                full = '!'.join(check_divs)\n",
        "                full = re.sub(r'[\\,,@,#,$,%,^,&,*,(,),\\[,\\],\\',\\\",;,:,“,”,‘,’]', '', full)\n",
        "                full = re.sub('^\\s+', ' ', full).strip('\\u00A0')\n",
        "                full = re.split('[\\.,\\?,!,\\n]', str(full))\n",
        "                all_data.extend([s.strip() for s in full])\n",
        "\n",
        "            divs.extend(re.findall(r'<div class=\\'[p,s]\\'.*?>(.*?) </div>', data))\n",
        "\n",
        "        full_data = '!'.join(divs)\n",
        "        full_data = re.sub(r'[\\,,@,#,$,%,^,&,*,(,),\\[,\\],\\',\\\",;,:,“,”,‘,’]', '', full_data)\n",
        "        full_data = re.sub(' +', ' ', full_data)\n",
        "        full_data = re.split('[\\.,\\?,!,\\n]', str(full_data))\n",
        "\n",
        "        all_data.extend([s.strip() for s in full_data])\n",
        "\n",
        "        clean = []\n",
        "        for row2 in all_data:\n",
        "            if len(row2) >= 1:\n",
        "                clean.append(row2.lower())\n",
        "\n",
        "    return clean"
      ]
    },
    {
      "cell_type": "code",
      "execution_count": null,
      "metadata": {
        "id": "WxujUpiQ9IjU"
      },
      "outputs": [],
      "source": [
        "def load_dataset(dir_ext):\n",
        "    transcripts = load_html_data(dir_ext)\n",
        "    all_x = []\n",
        "    all_y = []\n",
        "    directory = DEFAULT_DIR + 'audio/' + dir_ext + '/'\n",
        "\n",
        "    order = []\n",
        "\n",
        "    dir_files = sorted(os.listdir(directory))\n",
        "\n",
        "    for i, file in tqdm(enumerate(dir_files), desc='Loading Audio Data & Creating Dataset'):\n",
        "        file = directory + file\n",
        "        \n",
        "        sr, data = wavfile.read(file)\n",
        "\n",
        "        max_len = SR//1000 * 15000\n",
        "\n",
        "        if len(data) > max_len:\n",
        "          continue\n",
        "\n",
        "        all_x.append(data)\n",
        "        all_y.append(transcripts[i])\n",
        "\n",
        "\n",
        "    return pd.DataFrame(list(zip(all_x, all_y)), columns=['audio', 'transcription'])"
      ]
    },
    {
      "cell_type": "code",
      "execution_count": null,
      "metadata": {
        "id": "FQb1aO129R-t"
      },
      "outputs": [],
      "source": [
        "def one_hot(data):\n",
        "    mapping = {}\n",
        "    mapped = []\n",
        "\n",
        "    i = 0\n",
        "\n",
        "    for sentence in data:\n",
        "      cur_map = []\n",
        "      for word in sentence:\n",
        "          if word in mapping.keys():\n",
        "            cur_map.append(mapping[word])\n",
        "          else:\n",
        "            i += 1\n",
        "            cur_map.append(i)\n",
        "            mapping[word] = i\n",
        "            \n",
        "      mapped.append(cur_map)\n",
        "      \n",
        "    return mapped, mapping"
      ]
    },
    {
      "cell_type": "code",
      "execution_count": null,
      "metadata": {
        "id": "w1aYZcfH9TDQ"
      },
      "outputs": [],
      "source": [
        "def vectorize(data):\n",
        "    vecs = []\n",
        "    for row in data:\n",
        "      cur_vec = [0] * len(row[0])\n",
        "      for piece in row:\n",
        "        piece = list(piece)\n",
        "        cur_vec[piece.index(1)] += 1\n",
        "      cur_vec[7] = 1\n",
        "      vecs.append(cur_vec)\n",
        "\n",
        "    return vecs"
      ]
    },
    {
      "cell_type": "code",
      "execution_count": null,
      "metadata": {
        "id": "oYBr-R5393cs"
      },
      "outputs": [],
      "source": [
        "def pad_audio(data):\n",
        "    max_len = SR//1000 * 15000\n",
        "\n",
        "    for i, aud in tqdm(enumerate(data), desc='Padding audio'):\n",
        "      if len(aud) < max_len:\n",
        "        data[i] = np.array(np.append(aud, np.zeros(max_len - len(aud))))\n",
        "\n",
        "    return data"
      ]
    },
    {
      "cell_type": "code",
      "execution_count": null,
      "metadata": {
        "id": "XDzD3p6QBLV-"
      },
      "outputs": [],
      "source": [
        "def build_model(input_len, output_len):\n",
        "    model = Sequential()\n",
        "    model.add(Dense(256, input_shape=(input_len,), activation=\"sigmoid\"))\n",
        "    model.add(Dense(128, activation=\"sigmoid\"))\n",
        "    model.add(Dense(output_len, activation=\"relu\"))\n",
        "\n",
        "    model.compile(loss='poisson', metrics=['accuracy'])\n",
        "\n",
        "    return model"
      ]
    },
    {
      "cell_type": "code",
      "execution_count": null,
      "metadata": {
        "colab": {
          "base_uri": "https://localhost:8080/"
        },
        "id": "XDVnkmLG9N3E",
        "outputId": "1f43a356-e1d2-43eb-9818-f01ab26a0027"
      },
      "outputs": [
        {
          "output_type": "stream",
          "name": "stderr",
          "text": [
            "Loading HTML Data: 100%|██████████| 293/293 [00:04<00:00, 71.55it/s] \n",
            "Loading Audio Data & Creating Dataset: 0it [00:00, ?it/s]<ipython-input-7-6963f008061e>:14: WavFileWarning: Chunk (non-data) not understood, skipping it.\n",
            "  sr, data = wavfile.read(file)\n",
            "Loading Audio Data & Creating Dataset: 356it [00:06, 54.64it/s] \n"
          ]
        }
      ],
      "source": [
        "df = load_dataset('train')"
      ]
    },
    {
      "cell_type": "code",
      "source": [
        "clean_y = list(df['transcription'])"
      ],
      "metadata": {
        "id": "qaCm-iWZPhBu"
      },
      "execution_count": null,
      "outputs": []
    },
    {
      "cell_type": "code",
      "execution_count": null,
      "metadata": {
        "colab": {
          "base_uri": "https://localhost:8080/"
        },
        "id": "Zq16jeiqEy7z",
        "outputId": "119081db-b903-4935-b1c4-5e32be4beda8"
      },
      "outputs": [
        {
          "output_type": "stream",
          "name": "stdout",
          "text": [
            "                                               audio  \\\n",
            "0  [-41, -35, -10, -4, -31, -67, -63, -41, -15, -...   \n",
            "1  [-38, -37, -36, -34, -36, -32, -32, -29, -30, ...   \n",
            "2  [1, -1, 1, -3, 1, 0, -2, 0, -3, 2, 1, 0, 3, 1,...   \n",
            "3  [-4, -4, 1, -4, 0, -1, -7, -1, -7, -2, -1, -4,...   \n",
            "4  [7, 4, 8, 5, 6, 10, 4, 9, 8, 6, 10, 7, 8, 9, 3...   \n",
            "\n",
            "                                       transcription  \n",
            "0                                            jenasis  \n",
            "1                                ola basdamwan stori  \n",
            "2  wal dijan im stat garram det stori blanga god ...  \n",
            "3                            god bin meigim ebrijing  \n",
            "4  orait longtaim wen god bin stat meigimbat ebri...  \n"
          ]
        }
      ],
      "source": [
        "print(df.head())"
      ]
    },
    {
      "cell_type": "code",
      "execution_count": null,
      "metadata": {
        "id": "XSl7x0zO9et1"
      },
      "outputs": [],
      "source": [
        "padded_y = list(zip(*itertools.zip_longest(*list(df['transcription']), fillvalue='!')))\n",
        "enc_y, mapping = one_hot(padded_y)\n",
        "enc_y = np.array(enc_y)\n",
        "# cat_y = to_categorical(enc_y)\n",
        "# vec_y = np.array(vectorize(cat_y))"
      ]
    },
    {
      "cell_type": "code",
      "source": [
        "print(enc_y[0])"
      ],
      "metadata": {
        "colab": {
          "base_uri": "https://localhost:8080/"
        },
        "id": "dAnaJ2QtbMY1",
        "outputId": "cf6e6b2c-54ee-4e76-ec0c-151e72114e74"
      },
      "execution_count": null,
      "outputs": [
        {
          "output_type": "stream",
          "name": "stdout",
          "text": [
            "[1 2 3 4 5 6 5 7 7 7 7 7 7 7 7 7 7 7 7 7 7 7 7 7 7 7 7 7 7 7 7 7 7 7 7 7 7\n",
            " 7 7 7 7 7 7 7 7 7 7 7 7 7 7 7 7 7 7 7 7 7 7 7 7 7 7 7 7 7 7 7 7 7 7 7 7 7\n",
            " 7 7 7 7 7 7 7 7 7 7 7 7 7 7 7 7 7 7 7 7 7 7 7 7 7 7 7 7 7 7 7 7 7 7 7 7 7\n",
            " 7 7 7 7 7 7 7 7 7 7 7 7 7 7 7 7 7 7 7 7 7 7 7 7 7 7 7 7 7 7 7 7 7 7 7 7 7\n",
            " 7 7 7 7 7 7 7 7 7 7 7 7 7 7 7 7 7 7 7 7 7 7 7 7 7 7 7 7 7 7 7 7 7 7 7 7 7\n",
            " 7 7 7 7 7 7 7 7 7 7 7 7 7 7 7 7 7 7 7 7 7 7 7 7 7 7 7 7 7 7 7 7 7 7 7 7 7\n",
            " 7 7 7 7 7 7 7 7 7 7 7 7 7 7 7 7 7 7 7 7 7 7 7 7 7 7 7 7 7 7 7 7 7 7 7 7 7\n",
            " 7 7 7 7 7 7 7 7 7 7 7 7 7 7 7 7 7 7 7 7 7 7 7 7 7 7 7 7 7 7 7 7 7 7 7 7 7\n",
            " 7 7 7 7 7 7 7 7 7 7 7 7 7 7 7 7 7 7 7 7 7 7 7 7 7]\n"
          ]
        }
      ]
    },
    {
      "cell_type": "code",
      "execution_count": null,
      "metadata": {
        "colab": {
          "base_uri": "https://localhost:8080/"
        },
        "id": "2mbsOrDEFBgt",
        "outputId": "a4e37d6e-3e6a-4d28-e54e-c2d4dfdbf378"
      },
      "outputs": [
        {
          "output_type": "stream",
          "name": "stdout",
          "text": [
            "[1 2 3 4 5 6 5 7 7 7 7 7 7 7 7 7 7 7 7 7 7 7 7 7 7 7 7 7 7 7 7 7 7 7 7 7 7\n",
            " 7 7 7 7 7 7 7 7 7 7 7 7 7 7 7 7 7 7 7 7 7 7 7 7 7 7 7 7 7 7 7 7 7 7 7 7 7\n",
            " 7 7 7 7 7 7 7 7 7 7 7 7 7 7 7 7 7 7 7 7 7 7 7 7 7 7 7 7 7 7 7 7 7 7 7 7 7\n",
            " 7 7 7 7 7 7 7 7 7 7 7 7 7 7 7 7 7 7 7 7 7 7 7 7 7 7 7 7 7 7 7 7 7 7 7 7 7\n",
            " 7 7 7 7 7 7 7 7 7 7 7 7 7 7 7 7 7 7 7 7 7 7 7 7 7 7 7 7 7 7 7 7 7 7 7 7 7\n",
            " 7 7 7 7 7 7 7 7 7 7 7 7 7 7 7 7 7 7 7 7 7 7 7 7 7 7 7 7 7 7 7 7 7 7 7 7 7\n",
            " 7 7 7 7 7 7 7 7 7 7 7 7 7 7 7 7 7 7 7 7 7 7 7 7 7 7 7 7 7 7 7 7 7 7 7 7 7\n",
            " 7 7 7 7 7 7 7 7 7 7 7 7 7 7 7 7 7 7 7 7 7 7 7 7 7 7 7 7 7 7 7 7 7 7 7 7 7\n",
            " 7 7 7 7 7 7 7 7 7 7 7 7 7 7 7 7 7 7 7 7 7 7 7 7 7]\n",
            "{'j': 1, 'e': 2, 'n': 3, 'a': 4, 's': 5, 'i': 6, '!': 7, 'o': 8, 'l': 9, ' ': 10, 'b': 11, 'd': 12, 'm': 13, 'w': 14, 't': 15, 'r': 16, 'g': 17, 'y': 18, 'f': 19, 'u': 20, 'k': 21, 'p': 22, 'h': 23, '4': 24, '5': 25, '7': 26, '3': 27, '9': 28, '0': 29, '1': 30, '2': 31, '6': 32, '8': 33}\n"
          ]
        }
      ],
      "source": [
        "print(enc_y[0])\n",
        "print(mapping)"
      ]
    },
    {
      "cell_type": "code",
      "execution_count": null,
      "metadata": {
        "colab": {
          "base_uri": "https://localhost:8080/"
        },
        "id": "q2ZGBdw2A4gF",
        "outputId": "a86a77b3-fa5a-4e58-eefd-fa99a1678bec"
      },
      "outputs": [
        {
          "output_type": "stream",
          "name": "stderr",
          "text": [
            "Padding audio: 306it [00:01, 187.82it/s]\n"
          ]
        }
      ],
      "source": [
        "padded_x = pad_audio(df['audio'])"
      ]
    },
    {
      "cell_type": "code",
      "execution_count": null,
      "metadata": {
        "colab": {
          "base_uri": "https://localhost:8080/"
        },
        "id": "Uwy8CkzQ-gX2",
        "outputId": "dafab842-40c1-4cb7-e34b-926d4b9e29f9"
      },
      "outputs": [
        {
          "output_type": "stream",
          "name": "stdout",
          "text": [
            "[-41. -35. -10. ...   0.   0.   0.]\n"
          ]
        }
      ],
      "source": [
        "print(padded_x[0])"
      ]
    },
    {
      "cell_type": "code",
      "execution_count": null,
      "metadata": {
        "id": "5rv5xN5cArfP"
      },
      "outputs": [],
      "source": [
        "padded_x = np.stack(padded_x)"
      ]
    },
    {
      "cell_type": "code",
      "execution_count": null,
      "metadata": {
        "id": "cFMangWVA15q"
      },
      "outputs": [],
      "source": [
        "model = build_model(len(padded_x[0]), len(enc_y[0]))"
      ]
    },
    {
      "cell_type": "code",
      "execution_count": null,
      "metadata": {
        "colab": {
          "base_uri": "https://localhost:8080/"
        },
        "id": "TLHkq1A8BsQr",
        "outputId": "edee28d3-35db-4165-8a11-ecc6d703fcbd"
      },
      "outputs": [
        {
          "output_type": "stream",
          "name": "stdout",
          "text": [
            "(306, 660000)\n",
            "(660000,)\n",
            "(306, 321)\n"
          ]
        }
      ],
      "source": [
        "print(padded_x.shape)\n",
        "print(padded_x[0].shape)\n",
        "print(enc_y.shape)"
      ]
    },
    {
      "cell_type": "code",
      "execution_count": null,
      "metadata": {
        "id": "jdNpvlkJN1Wn"
      },
      "outputs": [],
      "source": [
        "model = load_model('/content/gdrive/MyDrive/Colab_Notebooks/NLP/project/charnet_model_350e')"
      ]
    },
    {
      "cell_type": "code",
      "execution_count": null,
      "metadata": {
        "colab": {
          "base_uri": "https://localhost:8080/",
          "height": 1000
        },
        "id": "s-zc6vuVBajf",
        "outputId": "443743c3-d4cb-43dc-cb94-8189b0029b29"
      },
      "outputs": [
        {
          "output_type": "stream",
          "name": "stdout",
          "text": [
            "Epoch 1/50\n",
            "306/306 [==============================] - 450s 1s/step - loss: -0.9504 - accuracy: 0.3431\n",
            "Epoch 2/50\n",
            "306/306 [==============================] - 461s 2s/step - loss: -0.9509 - accuracy: 0.3399\n",
            "Epoch 3/50\n",
            "306/306 [==============================] - 443s 1s/step - loss: -0.9511 - accuracy: 0.3366\n",
            "Epoch 4/50\n",
            "306/306 [==============================] - 451s 1s/step - loss: -0.9514 - accuracy: 0.3301\n",
            "Epoch 5/50\n",
            "306/306 [==============================] - 457s 1s/step - loss: -0.9513 - accuracy: 0.3464\n",
            "Epoch 6/50\n",
            "306/306 [==============================] - 452s 1s/step - loss: -0.9515 - accuracy: 0.3595\n",
            "Epoch 7/50\n",
            "306/306 [==============================] - 461s 2s/step - loss: -0.9517 - accuracy: 0.3366\n",
            "Epoch 8/50\n",
            "306/306 [==============================] - 455s 1s/step - loss: -0.9517 - accuracy: 0.3464\n",
            "Epoch 9/50\n",
            "306/306 [==============================] - 454s 1s/step - loss: -0.9522 - accuracy: 0.3301\n",
            "Epoch 10/50\n",
            "306/306 [==============================] - 450s 1s/step - loss: -0.9522 - accuracy: 0.3366\n",
            "Epoch 11/50\n",
            "306/306 [==============================] - 444s 1s/step - loss: -0.9526 - accuracy: 0.3399\n",
            "Epoch 12/50\n",
            "306/306 [==============================] - 448s 1s/step - loss: -0.9527 - accuracy: 0.3268\n",
            "Epoch 13/50\n",
            "306/306 [==============================] - 450s 1s/step - loss: -0.9531 - accuracy: 0.3399\n",
            "Epoch 14/50\n",
            "306/306 [==============================] - 452s 1s/step - loss: -0.9530 - accuracy: 0.3431\n",
            "Epoch 15/50\n",
            "306/306 [==============================] - 447s 1s/step - loss: -0.9530 - accuracy: 0.3529\n",
            "Epoch 16/50\n",
            "306/306 [==============================] - 448s 1s/step - loss: -0.9533 - accuracy: 0.3333\n",
            "Epoch 17/50\n",
            "306/306 [==============================] - 454s 1s/step - loss: -0.9536 - accuracy: 0.3464\n",
            "Epoch 18/50\n",
            "306/306 [==============================] - 456s 1s/step - loss: -0.9538 - accuracy: 0.3333\n",
            "Epoch 19/50\n",
            "306/306 [==============================] - 446s 1s/step - loss: -0.9535 - accuracy: 0.3366\n",
            "Epoch 20/50\n",
            "306/306 [==============================] - 445s 1s/step - loss: -0.9539 - accuracy: 0.3595\n",
            "Epoch 21/50\n",
            "306/306 [==============================] - 449s 1s/step - loss: -0.9543 - accuracy: 0.3301\n",
            "Epoch 22/50\n",
            "306/306 [==============================] - 448s 1s/step - loss: -0.9544 - accuracy: 0.3431\n",
            "Epoch 23/50\n",
            "306/306 [==============================] - 445s 1s/step - loss: -0.9539 - accuracy: 0.3595\n",
            "Epoch 24/50\n",
            "306/306 [==============================] - 449s 1s/step - loss: -0.9546 - accuracy: 0.3464\n",
            "Epoch 25/50\n",
            "306/306 [==============================] - 453s 1s/step - loss: -0.9547 - accuracy: 0.3464\n",
            "Epoch 26/50\n",
            "306/306 [==============================] - 451s 1s/step - loss: -0.9549 - accuracy: 0.3399\n",
            "Epoch 27/50\n",
            "306/306 [==============================] - 447s 1s/step - loss: -0.9552 - accuracy: 0.3366\n",
            "Epoch 28/50\n",
            "306/306 [==============================] - 448s 1s/step - loss: -0.9552 - accuracy: 0.3497\n",
            "Epoch 29/50\n",
            "306/306 [==============================] - 451s 1s/step - loss: -0.9553 - accuracy: 0.3235\n",
            "Epoch 30/50\n",
            "306/306 [==============================] - 449s 1s/step - loss: -0.9555 - accuracy: 0.3431\n",
            "Epoch 31/50\n",
            "306/306 [==============================] - 445s 1s/step - loss: -0.9556 - accuracy: 0.3431\n",
            "Epoch 32/50\n",
            "306/306 [==============================] - 447s 1s/step - loss: -0.9557 - accuracy: 0.3529\n",
            "Epoch 33/50\n",
            "306/306 [==============================] - 454s 1s/step - loss: -0.9561 - accuracy: 0.3366\n",
            "Epoch 34/50\n",
            "306/306 [==============================] - 451s 1s/step - loss: -0.9559 - accuracy: 0.3497\n",
            "Epoch 35/50\n",
            "306/306 [==============================] - 449s 1s/step - loss: -0.9562 - accuracy: 0.3497\n",
            "Epoch 36/50\n",
            "306/306 [==============================] - 445s 1s/step - loss: -0.9564 - accuracy: 0.3268\n",
            "Epoch 37/50\n",
            "306/306 [==============================] - 454s 1s/step - loss: -0.9567 - accuracy: 0.3301\n",
            "Epoch 38/50\n",
            "306/306 [==============================] - 458s 1s/step - loss: -0.9570 - accuracy: 0.3301\n",
            "Epoch 39/50\n",
            "306/306 [==============================] - 452s 1s/step - loss: -0.9568 - accuracy: 0.3497\n",
            "Epoch 40/50\n",
            "306/306 [==============================] - 449s 1s/step - loss: -0.9570 - accuracy: 0.3431\n",
            "Epoch 41/50\n",
            "306/306 [==============================] - 454s 1s/step - loss: -0.9572 - accuracy: 0.3562\n",
            "Epoch 42/50\n",
            "306/306 [==============================] - 460s 2s/step - loss: -0.9574 - accuracy: 0.3497\n",
            "Epoch 43/50\n",
            "164/306 [===============>..............] - ETA: 3:32 - loss: -0.9561 - accuracy: 0.3110"
          ]
        },
        {
          "output_type": "stream",
          "name": "stderr",
          "text": [
            "ERROR:root:Internal Python error in the inspect module.\n",
            "Below is the traceback from this internal error.\n",
            "\n"
          ]
        },
        {
          "output_type": "stream",
          "name": "stdout",
          "text": [
            "Traceback (most recent call last):\n",
            "  File \"/usr/local/lib/python3.8/dist-packages/IPython/core/interactiveshell.py\", line 3326, in run_code\n",
            "    exec(code_obj, self.user_global_ns, self.user_ns)\n",
            "  File \"<ipython-input-35-9c56ac32f251>\", line 1, in <module>\n",
            "    model.fit(padded_x, enc_y, epochs=50, verbose=1, batch_size=1)\n",
            "  File \"/usr/local/lib/python3.8/dist-packages/keras/utils/traceback_utils.py\", line 64, in error_handler\n",
            "    return fn(*args, **kwargs)\n",
            "  File \"/usr/local/lib/python3.8/dist-packages/keras/engine/training.py\", line 1409, in fit\n",
            "    tmp_logs = self.train_function(iterator)\n",
            "  File \"/usr/local/lib/python3.8/dist-packages/tensorflow/python/util/traceback_utils.py\", line 150, in error_handler\n",
            "    return fn(*args, **kwargs)\n",
            "  File \"/usr/local/lib/python3.8/dist-packages/tensorflow/python/eager/def_function.py\", line 915, in __call__\n",
            "    result = self._call(*args, **kwds)\n",
            "  File \"/usr/local/lib/python3.8/dist-packages/tensorflow/python/eager/def_function.py\", line 947, in _call\n",
            "    return self._stateless_fn(*args, **kwds)  # pylint: disable=not-callable\n",
            "  File \"/usr/local/lib/python3.8/dist-packages/tensorflow/python/eager/function.py\", line 2453, in __call__\n",
            "    return graph_function._call_flat(\n",
            "  File \"/usr/local/lib/python3.8/dist-packages/tensorflow/python/eager/function.py\", line 1860, in _call_flat\n",
            "    return self._build_call_outputs(self._inference_function.call(\n",
            "  File \"/usr/local/lib/python3.8/dist-packages/tensorflow/python/eager/function.py\", line 497, in call\n",
            "    outputs = execute.execute(\n",
            "  File \"/usr/local/lib/python3.8/dist-packages/tensorflow/python/eager/execute.py\", line 54, in quick_execute\n",
            "    tensors = pywrap_tfe.TFE_Py_Execute(ctx._handle, device_name, op_name,\n",
            "KeyboardInterrupt\n",
            "\n",
            "During handling of the above exception, another exception occurred:\n",
            "\n",
            "Traceback (most recent call last):\n",
            "  File \"/usr/local/lib/python3.8/dist-packages/IPython/core/interactiveshell.py\", line 2040, in showtraceback\n",
            "    stb = value._render_traceback_()\n",
            "AttributeError: 'KeyboardInterrupt' object has no attribute '_render_traceback_'\n",
            "\n",
            "During handling of the above exception, another exception occurred:\n",
            "\n",
            "Traceback (most recent call last):\n",
            "  File \"/usr/local/lib/python3.8/dist-packages/IPython/core/ultratb.py\", line 1101, in get_records\n",
            "    return _fixed_getinnerframes(etb, number_of_lines_of_context, tb_offset)\n",
            "  File \"/usr/local/lib/python3.8/dist-packages/IPython/core/ultratb.py\", line 319, in wrapped\n",
            "    return f(*args, **kwargs)\n",
            "  File \"/usr/local/lib/python3.8/dist-packages/IPython/core/ultratb.py\", line 353, in _fixed_getinnerframes\n",
            "    records = fix_frame_records_filenames(inspect.getinnerframes(etb, context))\n",
            "  File \"/usr/lib/python3.8/inspect.py\", line 1515, in getinnerframes\n",
            "    frameinfo = (tb.tb_frame,) + getframeinfo(tb, context)\n",
            "  File \"/usr/lib/python3.8/inspect.py\", line 1473, in getframeinfo\n",
            "    filename = getsourcefile(frame) or getfile(frame)\n",
            "  File \"/usr/lib/python3.8/inspect.py\", line 708, in getsourcefile\n",
            "    if getattr(getmodule(object, filename), '__loader__', None) is not None:\n",
            "  File \"/usr/lib/python3.8/inspect.py\", line 751, in getmodule\n",
            "    f = getabsfile(module)\n",
            "  File \"/usr/lib/python3.8/inspect.py\", line 720, in getabsfile\n",
            "    _filename = getsourcefile(object) or getfile(object)\n",
            "  File \"/usr/lib/python3.8/inspect.py\", line 705, in getsourcefile\n",
            "    if os.path.exists(filename):\n",
            "  File \"/usr/lib/python3.8/genericpath.py\", line 19, in exists\n",
            "    os.stat(path)\n",
            "KeyboardInterrupt\n"
          ]
        },
        {
          "output_type": "error",
          "ename": "KeyboardInterrupt",
          "evalue": "ignored",
          "traceback": [
            "\u001b[0;31m---------------------------------------------------------------------------\u001b[0m"
          ]
        }
      ],
      "source": [
        "model.fit(padded_x, enc_y, epochs=50, verbose=1, batch_size=1)"
      ]
    },
    {
      "cell_type": "code",
      "execution_count": null,
      "metadata": {
        "id": "1UGoeCIhh0wT"
      },
      "outputs": [],
      "source": [
        "model.save('/content/gdrive/MyDrive/Colab_Notebooks/NLP/project/charnet_model_400e')"
      ]
    },
    {
      "cell_type": "code",
      "execution_count": null,
      "metadata": {
        "colab": {
          "base_uri": "https://localhost:8080/"
        },
        "id": "yq0K-kkpDUzh",
        "outputId": "de3d34d0-716c-4879-c4c7-d2d11b2d85a6"
      },
      "outputs": [
        {
          "output_type": "stream",
          "name": "stdout",
          "text": [
            "1/1 [==============================] - 1s 745ms/step\n"
          ]
        }
      ],
      "source": [
        "preds = model.predict(padded_x[:5])"
      ]
    },
    {
      "cell_type": "code",
      "execution_count": null,
      "metadata": {
        "colab": {
          "base_uri": "https://localhost:8080/"
        },
        "id": "45RG3YEhDdTw",
        "outputId": "fc76d9e3-ca9d-4ee5-f3f9-8c05a9b2cabd"
      },
      "outputs": [
        {
          "output_type": "stream",
          "name": "stdout",
          "text": [
            "[0.95105976, 1.0968852, 4.293931, 3.8894193, 5.786033, 5.3364453, 7.1176314, 7.5195417, 8.647802, 5.954364, 8.40326, 5.833742, 8.433533, 5.940993, 8.03411, 6.0828767, 6.9753113, 7.164442, 7.277256, 4.775851, 5.5980344, 8.994245, 0.0, 5.912291, 7.121748, 5.3818455, 7.263736, 7.0212383, 7.6859345, 8.5756035, 7.463218, 7.9209685, 6.984968, 7.75491, 6.0806026, 6.1755543, 6.841129, 7.1973977, 10.0632305, 6.488615, 7.7286544, 7.56567, 6.4215956, 8.72812, 5.5774846, 8.433198, 8.908519, 0.0, 8.291846, 8.215379, 7.9059825, 8.101697, 6.9118705, 8.041801, 7.856848, 7.032808, 8.586787, 6.534698, 7.404859, 8.38932, 5.8053036, 7.1542487, 0.0, 0.0, 6.7600245, 7.101625, 5.3133206, 7.1035504, 7.8313527, 0.0, 6.5645547, 6.4634595, 6.7056785, 7.249283, 6.0019584, 6.6703873, 8.826771, 6.5105515, 6.674313, 8.069011, 5.2594595, 7.087092, 7.5515194, 6.8225694, 6.0771217, 6.80709, 7.329076, 9.30311, 7.2455993, 7.3225827, 7.563947, 6.3112345, 6.509956, 7.8165574, 6.9766436, 8.065083, 8.296447, 7.4648714, 9.229083, 7.0433693, 6.7992525, 7.893789, 5.905874, 7.3396316, 6.8229156, 8.420528, 6.2824636, 6.600446, 6.0896754, 6.6245613, 6.8506923, 6.38611, 6.615223, 6.770281, 6.8359537, 7.9055934, 6.0458794, 7.7355165, 6.5471244, 7.93332, 6.683506, 6.9033, 0.0, 0.0, 6.7107935, 7.6619463, 5.6142106, 7.267422, 7.234248, 7.47641, 7.3168044, 6.235532, 6.918136, 7.8910217, 7.5459094, 7.51875, 7.5598106, 6.8326836, 6.992252, 7.3651996, 6.7382417, 7.213237, 0.0, 6.8521905, 7.480818, 6.7703137, 7.2405276, 7.153297, 6.5747633, 7.0268717, 7.811362, 7.217109, 7.6747713, 7.0976844, 7.0171504, 6.200988, 6.575731, 7.0884514, 6.896832, 6.9606223, 7.9148946, 6.6008534, 6.897135, 7.317135, 6.763577, 7.1265187, 6.962608, 6.6755023, 6.7468443, 6.984948, 6.647315, 7.1747108, 6.7364764, 7.0355177, 6.960578, 7.215723, 6.4941053, 6.5789323, 7.1785603, 7.006433, 7.381435, 6.930502, 6.6842704, 7.0272284, 7.023357, 7.27646, 7.3041697, 6.696445, 7.0123353, 7.164964, 7.389586, 6.6895094, 7.0792584, 6.724601, 0.0, 6.6937313, 0.0, 7.187013, 7.2939615, 7.02258, 0.0, 6.9153256, 6.9112563, 7.0249987, 7.138092, 6.959878, 7.2111535, 6.8290596, 7.053984, 6.8944316, 6.9363947, 7.146611, 6.6683006, 6.8431716, 0.0, 6.877435, 0.0, 6.997136, 6.850045, 6.7420855, 6.8307133, 7.263273, 7.174413, 6.8388867, 7.248927, 6.779986, 6.5356164, 6.8665967, 6.7772326, 6.7811346, 7.031805, 6.794998, 7.093751, 6.7552485, 6.751861, 6.9034243, 7.238643, 0.0, 6.8792386, 0.0, 7.059064, 6.970786, 6.8426332, 7.0063305, 6.773165, 7.0057635, 6.9517107, 7.017503, 6.992672, 0.0, 6.776352, 6.9524474, 6.805933, 7.163248, 6.8158956, 6.7041354, 0.0, 6.925911, 6.987646, 6.8082175, 7.1053925, 6.970772, 6.8691087, 7.1801496, 6.9658194, 6.7659397, 7.0374684, 6.952816, 7.1552143, 7.0320187, 6.8958545, 7.0001287, 7.176871, 6.844283, 6.9254746, 6.9360576, 6.927826, 6.751516, 6.90718, 7.033268, 7.0057116, 7.044508, 6.9660487, 6.8557568, 6.970587, 6.8445582, 7.0361323, 6.9641957, 6.9649596, 6.988764, 7.0126295, 6.9751472, 7.032794, 6.989463, 7.058978, 6.9503145, 7.001847, 6.9851885, 6.990326, 7.0030813, 6.967673, 6.9849916, 6.938921, 7.055046, 7.007453, 7.0202093, 7.0279107, 7.011366, 7.043573, 6.938659, 7.003609, 7.0608487, 7.0423355, 6.9475956, 6.93744, 6.9537015, 7.062378, 7.004418, 7.060402, 6.944346, 0.0]\n"
          ]
        }
      ],
      "source": [
        "print(list(preds[0]))"
      ]
    },
    {
      "cell_type": "code",
      "execution_count": null,
      "metadata": {
        "colab": {
          "base_uri": "https://localhost:8080/"
        },
        "id": "JH0OAKOixAUd",
        "outputId": "73a73433-a45e-49b1-a547-305b79b43e24"
      },
      "outputs": [
        {
          "name": "stdout",
          "output_type": "stream",
          "text": [
            "{'j': 1, 'e': 2, 'n': 3, 'a': 4, 's': 5, 'i': 6, '!': 7, 'o': 8, 'l': 9, ' ': 10, 'b': 11, 'd': 12, 'm': 13, 'w': 14, 't': 15, 'r': 16, 'g': 17, 'y': 18, 'f': 19, 'u': 20, 'k': 21, 'p': 22, 'h': 23, '4': 24, '5': 25, '7': 26, '3': 27, '9': 28, '0': 29, '1': 30, '2': 31, '6': 32, '8': 33}\n"
          ]
        }
      ],
      "source": [
        "print(mapping)"
      ]
    },
    {
      "cell_type": "code",
      "execution_count": null,
      "metadata": {
        "colab": {
          "base_uri": "https://localhost:8080/"
        },
        "id": "YOJs5-qwD4vz",
        "outputId": "be74e572-bae6-4622-f4a5-751468e29788"
      },
      "outputs": [
        {
          "output_type": "stream",
          "name": "stdout",
          "text": [
            "10/10 [==============================] - 3s 297ms/step - loss: -0.9589 - accuracy: 0.3301\n"
          ]
        },
        {
          "output_type": "execute_result",
          "data": {
            "text/plain": [
              "[-0.9588984847068787, 0.33006536960601807]"
            ]
          },
          "metadata": {},
          "execution_count": 54
        }
      ],
      "source": [
        "model.evaluate(padded_x, enc_y, verbose=1)"
      ]
    },
    {
      "cell_type": "code",
      "execution_count": null,
      "metadata": {
        "colab": {
          "base_uri": "https://localhost:8080/"
        },
        "id": "URiS-DrwXS7X",
        "outputId": "5b8a2d52-2b63-4f9c-f7fd-9da667002f7a"
      },
      "outputs": [
        {
          "output_type": "stream",
          "name": "stdout",
          "text": [
            "10/10 [==============================] - 3s 313ms/step\n",
            "['jjaais', '', 'mndbwsjanm', 'tlb msnlmeit', 'dws', 'orb', 'ie', 'brlbl efabriblmsalwofoi', 'en agweiwadns mewlos', 'nemfea w b danbotrbdewls', 'mrodl efalw blmiiohst iro nbibaoddimob baw', 'wg bl eyilnaiwnsb mieb', 'wmlmbdeuadyob', 'nndirbma mjfin bay', 'dw r megaoy bdbindd', 'ne amlinbrefsnlbimajswnsoenm lmodoeddpltbbdamlwab asotawldm', 'jnlwenbtom mlndlyy', 'byoroweyilt ml ield', 'eemsdbla ynuonolawsjatnioei meblfrnys oo bdm', 'je genbgodm isligfbeltjanrl iaomytbsnl', 'dwowdmnrabnniga', 'rtbmlmotsor', 'it sab', 'bwldomagalnn', 'bw', 'endt', 'iw', 'bgbdllntadrom oialwog awmat   fainlnn', ' swmiwwjsrnnwl', 'nndibm', 'ne mea ', ' rob  aynbtl looaltim', 'nnldomlagriidniwim bl', 'lwabnwdgsywsljsdandboimoangiolonmglitwnsoosgmlnl  aataoidaokibrsneiibrlleaoi s basomaa snidg ', 'itwindueiwsdolidtan eaweltsn na ', 'enbdjdl', 'nnlboanra', 'tallelg', 'nadwi ', 'wwbmldera sssws', 'rnl osmojawlnsly  wb', 'set anua dat sndda g', 'tabbsdb nbgn ', 'dew nabmabhbdeibnsodemonsban beslns ', 'tlbobsn borllmnoliteibonafswdedo', ' n', 'tfwa', 'mswojaydnalebw', 'fidobinddeirib bnnlan ylaa', 'debddsnumaimlreldtawn letomwrda abwl llasodeirl edtie', ' ebowraunw ', ' n', 'sfmabnslmate', 'sbdsnmrajiglbsslenosmlsmtiofsml ewobsslrsdwnw emlwsi', 'br do eklbgitjnolsn', 'esmbodo an', 'des en', 'enlde b amllbgodbbjrbaeowaibmtid nswotbllndltdn', 'w', ' emlrj', 'ba', 'rjm iigan n bmi aod', 'wewlaat im5mu', 'mewlnngdalp m', 'd', 'nemorbwumtagawoded dlwldslb', 'bmlmlbnwsoyswasllssbw ', 'aslmawtalwnsrib wnitmbanwalim dlaarslal fd aw bl', ' tldodnys yameiddiabra dblmi jn', '', ' atieamdnso ai ssmmae d lsdimlajid', 'mnwwdenwlss y', 'bam ll  eb omlmarmben asdyoln b', 'nselar l', ' tbboyegiouadn m ', 'swmi denlotl', 'srmsbnlbyntj olisdlaimm  emlbfwandlaira bjrl eoeno', 'bw  ldi', 'waddwe', 'oatsjat aaorlg wiabrnbidldetldtbano', 'nertrdsj', 'wa omewomasdea idbma', 'lamddfda amnom', 'grmi s m', 'ra', '', 'frsmyaebsadomddnw aen', 'wi b ngmillaamdnt ineiboiaotoboaagi ', 'mn   jdowgmaebtsaddoy', 'onobtandslnmdt', '', 'mnmownrolaniglb', 'ghsbnba gsnnlmsoo', 'wodolie bd7loatoe', 'fpalsoammigms aitioewbj', 'rt t dngalmjwbmfmselli', 'met dbi  ', 'esmbng bkgaa w', 'dm bb egsbmnm dubia  ilt  enosbb', 'wnbbsdre', 'drl  bng', 'gadnoboasbtnd nsrbosab bgbslsleaoby il', 'dad wa esl lndjoafamolagsb edddes dujei mf', 'enlbambmenlbie  dulsiln ', 'tao wo odon wofbfr sn aoot tmlfydeeowo  ano', 'wa m slfrmsabbsrab mewdnrabtetabsobisbtbpbtgla o ', 'dnl bed dealbon gywgmlleit lsatnb ed mtdan', '', 'tad tamesltialaiyl lmnotgwsalealbowtlmrgdsa bro stojnm', 'ma lbed bgbsabb', '', 'lrod bers padeiobinbw', 'oallyr aadas tnrwnoysnigimso', 's', 'oni gtoaalsi ', 'gi lrmdfarbnwo', 'esbiobfswtabdjitstlwwasliblawtbddsnlyeibsm m', 'eelmeml stoeoni mlaamnsm tamtadadn', 'bmld wewabrstei bsebgo inema tnd gymsa sabbeilwlibtdwoiiloisgsmwa n', '', ' sblrudgimtalam', 'lmbmbmjua msweilmoalmoli ngs awalwwg', 'fkm', 'nalm anyibbfsmtaileab', 'wrmmnwraldnwbsdds sl', '', ' agojnddasly', 'mglmb nrn', 'i msnbmu gtl', 'ogwllenltawe', 'br', 'dn lsnb', 'wnllwi waaallsmdsmbdf', ' oommdjrnbgiwes b', 'sytabnamtades', 'ye', 'gbobomewabndsdmenlo ', ' a dasl', 'lnilgombns', 'ejl lsnwslwyattaeb', 'badbailaa l ldiamimtdlajsmaab i', 'me  metbltlasad ', 'da diodsn', 'atmileaoao rls', 'wab ynbe', 'lam ob notlbmieb ', 'ts byn', '', 'y bwolrtdye', '', 'l', 'tylinlbrm norulls a diti', 'nn bermiltgb nl', 'lamdrfdoatmaonimo mnog woi  sawalmer nltrbwllseol', 'wytdan mllsdsmb', 'lswoesmoaabg', 'ayds namunse  sabei', 'wal eior', 'lsm a', 'endrjsn lon tbwbdida', 'isltannb ffngttbdsblraa bwaeal', 'ms wtsmnitmialdog mlmy ggoii orllbonssda yw osalb', 'mebbd sd llasdi yrl masmo  esstiasd nwm antaldo bltlwim ybatio', '', 'milmsslwirgnluansskstliewslrylaaiioilo', 'rfdmnsnb ', 'mad mwigillon molsbrund', 'nnbwydtasnlsdrmlfg winsnlkemfbwfoooii', 'gt tswts bodnslf', 'demltn', 'mg dimts osd', 'na lt eislo ', 'mn bwadnlbdsnbmikbsodbobrlsilusli  yf de ', 'itdenslowilgs', 'awgnlnsdgsrei bin ytbt mif oistabyeislas', 'maolhain b', ' am ss aabfelabb', 'da bknonulinlli bibiglsgwa', 'obdinbyw', 'mib ailss dnn iasgmoinwtow', 'iebbeeosora   sa rdblblisbsbtdllsll ', 'nnbdeaddagujeatnol islm didload', 'en wenomattystio', 'bnmbas ni jbab ', 'enlmnelbkwsbsl inltblleobalgbosllms i ifodnwoldfouglogwoillnjomsn sadiownar enblssew', 'dnwlnnesdaeomn', 'eadbjnmftlilyeiabble  mlsd', 'bsldbaabasfobnsmnu diam', 'al oelms', 'dsw ir nn', 'bitlir eaobbmslr', 'iedrbjn inasf', 'maodsbswbo', 'dnoo', 're bialarlmnnwder ', 'wa bgjisnlliadwnmgirbn benmsb sioo den hprmidsloo', 'rn odapibs', 'ta ojednwblln legtiwmebbenoirb', 'wnlmsnsuio', 'tilw', 'wsb wa froi sdo', 'tno ln', 'daodnomabw', 'fstw', 'daoo atl', 'dimdsi nsdasjn4aoal', 'smgslei', 'd', 'sgtnlgkayfsabdinij', 'awwabnnldnrbimbtam htdalljmr', 'dawla', 'dodotsalgobd', 'sslwatmaltinsjidsull ', 'oslmswgs r', 'modro s', 'bagienr as glbbw', 'nlmnoso', 'dablln', 'lewlmnn', '', 'dib mibbtoel ggoniwtd', 'nrds nsdr', 'edmoouintf', 'dam yrltatgnmdeiw', 'wwlgsttn dasrioowem', ' aronf aa ffotadtabdnbi  lewllsym o', '0tglrltilolabmeslftlg', 'rw yibwn', 'trbgimmnmmesyidddemmblwblswdjat', 'ln', 'ymwwabmoow mbombsarsoodmw', 'en rtlmidda yijom mfdnndd', 'yg gawrnlwsjibmloraiama mleslomrioabealmgoi', 'aigeba', 'nabttmmiwtnognjot  agaltb lssmslgtbnnlwtiyab  ban  ', ' ntsesdlnalr', 'da lnlmadbonomymimtoani wob jnbodlsaomummetdienw wega b', 'l', 'irtalnabpabeoo emlmwdlbabyoolbin loydl', 'wnb gylwow', 'nemlmaara lolmj ', ' ', 'eso  aidi b sldltringinlbnwbdmy wsdgsbdn', ' jbdtesnbwiydibltoban h', 'lsuajntdss ro od', 'sdwin huulmstsbllso', 'bibonifadnndidblniyleobnpol odgms abdlbinldoanabbgdaon aallebm', '  mlem e', '  otanlssbreobnid', '', 'moodmsibtand', 'en werbsn', 'tsl suuaomsn w', 'lsngabmntbeablnlhlmni antablnw', 'wsm  etbw abmllswmialdlsw', 'nbtsmafi  etbwods msndadrdmumaf ', 'aorl', 'd', 'elwieiaw mnfal ', 'n', 'flmlwldsndmj ioo', 'osb nimsbnn letdowooiaimbemwloymmb', 'ga lyodln t', 'sdl slamdnmmr', 'puklbealwew fintdswsdtnmwl an', 'ne bedlgblmw ls  oebabb', 'wawlybol iatfls ronbnboladsalwn', 'bn  aybadmenle', ' ', ' n', 'dnddnomo olnl ms b', 'tewlt', 'law bnwbbtaraobindimsdjilsnliimwanleslaowndnadbimem', 'argaoesdminuam ew ssd okl iio ', 'wn  mjsbgl  tsamtlubls', 'folb samfwbrwlmjseb', 'agwa nl bealadwn jeosyka swob aewo', 'mso', 'wab si ii imusrfo', ' smlsooraaalrslim lieo wwswal', 'as gasnmmtnkam', 'nod', 'banajmr', 'gl ds onbto ia tlk  awjat nni', 'maobribbb', 'ja oos enidflbnnobdso wdmanmbosorisf gsdtabol i bg', 'ms wrroolranls ds', 'wim  t', 'kblmmlaldw', 'la', ' ig', ' iy', 'aaeiwna w', 'enwstoensdtlits', 'i', 'nala', 'anlai wadt', 'bs o sjisbesolewbomtosdnebtynlsa teka n', '', 'wetltjinlo', 'dnmorjisd', 'a', 'msmo', 'nndlem', 'mn barwaltallmjw woaodti roa gblanbnotn dsed ', 'sgmn nadwa  gsnrmanossmb anto jod bsn']\n",
            "[1 2 3 4 5 6 5 7 7 7 7 7 7 7 7 7 7 7 7 7 7 7 7 7 7 7 7 7 7 7 7 7 7 7 7 7 7\n",
            " 7 7 7 7 7 7 7 7 7 7 7 7 7 7 7 7 7 7 7 7 7 7 7 7 7 7 7 7 7 7 7 7 7 7 7 7 7\n",
            " 7 7 7 7 7 7 7 7 7 7 7 7 7 7 7 7 7 7 7 7 7 7 7 7 7 7 7 7 7 7 7 7 7 7 7 7 7\n",
            " 7 7 7 7 7 7 7 7 7 7 7 7 7 7 7 7 7 7 7 7 7 7 7 7 7 7 7 7 7 7 7 7 7 7 7 7 7\n",
            " 7 7 7 7 7 7 7 7 7 7 7 7 7 7 7 7 7 7 7 7 7 7 7 7 7 7 7 7 7 7 7 7 7 7 7 7 7\n",
            " 7 7 7 7 7 7 7 7 7 7 7 7 7 7 7 7 7 7 7 7 7 7 7 7 7 7 7 7 7 7 7 7 7 7 7 7 7\n",
            " 7 7 7 7 7 7 7 7 7 7 7 7 7 7 7 7 7 7 7 7 7 7 7 7 7 7 7 7 7 7 7 7 7 7 7 7 7\n",
            " 7 7 7 7 7 7 7 7 7 7 7 7 7 7 7 7 7 7 7 7 7 7 7 7 7 7 7 7 7 7 7 7 7 7 7 7 7\n",
            " 7 7 7 7 7 7 7 7 7 7 7 7 7 7 7 7 7 7 7 7 7 7 7 7 7]\n"
          ]
        }
      ],
      "source": [
        "cur_words = []\n",
        "\n",
        "map_list = mapping.items()\n",
        "map_keys = list(mapping.keys())\n",
        "map_vals = list(mapping.values())\n",
        "\n",
        "all_words = []\n",
        "preds = model.predict(padded_x)\n",
        "\n",
        "# for i, val in enumerate(preds[0]):\n",
        "#     if val > 0:\n",
        "#       cur_words.append([item[0] for item in map_list if item[1] == i+1])\n",
        "\n",
        "for pred in preds:\n",
        "    cur_words = []\n",
        "    for i, val in enumerate(pred):\n",
        "        if val > 0:\n",
        "            if round(val) == 0:\n",
        "                val = 1\n",
        "            if round(val) == 7:\n",
        "                break\n",
        "            cur_words.append(map_keys[map_vals.index(round(val))])\n",
        "    all_words.append(''.join(cur_words))\n",
        "\n",
        "\n",
        "print(all_words)\n",
        "print(enc_y[0])"
      ]
    },
    {
      "cell_type": "code",
      "execution_count": null,
      "metadata": {
        "colab": {
          "base_uri": "https://localhost:8080/"
        },
        "id": "M6mUssyWEFaM",
        "outputId": "76e1e05c-09e3-42c6-f1a6-ed65515e07e9"
      },
      "outputs": [
        {
          "name": "stdout",
          "output_type": "stream",
          "text": [
            "{'j': 1, 'e': 2, 'n': 3, 'a': 4, 's': 5, 'i': 6, '!': 7, 'o': 8, 'l': 9, ' ': 10, 'b': 11, 'd': 12, 'm': 13, 'w': 14, 't': 15, 'r': 16, 'g': 17, 'y': 18, 'f': 19, 'u': 20, 'k': 21, 'p': 22, 'h': 23, '4': 24, '5': 25, '7': 26, '3': 27, '9': 28, '0': 29, '1': 30, '2': 31, '6': 32, '8': 33}\n"
          ]
        }
      ],
      "source": [
        "print(mapping)"
      ]
    },
    {
      "cell_type": "code",
      "source": [
        "!pip install evaluate\n",
        "!pip install jiwer"
      ],
      "metadata": {
        "colab": {
          "base_uri": "https://localhost:8080/"
        },
        "id": "2pV681d1PYWp",
        "outputId": "952c733b-74f5-4310-8ede-e5a02c7e048f"
      },
      "execution_count": null,
      "outputs": [
        {
          "output_type": "stream",
          "name": "stdout",
          "text": [
            "Looking in indexes: https://pypi.org/simple, https://us-python.pkg.dev/colab-wheels/public/simple/\n",
            "Requirement already satisfied: evaluate in /usr/local/lib/python3.8/dist-packages (0.3.0)\n",
            "Requirement already satisfied: multiprocess in /usr/local/lib/python3.8/dist-packages (from evaluate) (0.70.14)\n",
            "Requirement already satisfied: responses<0.19 in /usr/local/lib/python3.8/dist-packages (from evaluate) (0.18.0)\n",
            "Requirement already satisfied: pandas in /usr/local/lib/python3.8/dist-packages (from evaluate) (1.3.5)\n",
            "Requirement already satisfied: fsspec[http]>=2021.05.0 in /usr/local/lib/python3.8/dist-packages (from evaluate) (2022.11.0)\n",
            "Requirement already satisfied: dill in /usr/local/lib/python3.8/dist-packages (from evaluate) (0.3.6)\n",
            "Requirement already satisfied: datasets>=2.0.0 in /usr/local/lib/python3.8/dist-packages (from evaluate) (2.7.1)\n",
            "Requirement already satisfied: packaging in /usr/local/lib/python3.8/dist-packages (from evaluate) (21.3)\n",
            "Requirement already satisfied: tqdm>=4.62.1 in /usr/local/lib/python3.8/dist-packages (from evaluate) (4.64.1)\n",
            "Requirement already satisfied: requests>=2.19.0 in /usr/local/lib/python3.8/dist-packages (from evaluate) (2.23.0)\n",
            "Requirement already satisfied: huggingface-hub>=0.7.0 in /usr/local/lib/python3.8/dist-packages (from evaluate) (0.11.1)\n",
            "Requirement already satisfied: numpy>=1.17 in /usr/local/lib/python3.8/dist-packages (from evaluate) (1.21.6)\n",
            "Requirement already satisfied: xxhash in /usr/local/lib/python3.8/dist-packages (from evaluate) (3.1.0)\n",
            "Requirement already satisfied: pyarrow>=6.0.0 in /usr/local/lib/python3.8/dist-packages (from datasets>=2.0.0->evaluate) (9.0.0)\n",
            "Requirement already satisfied: aiohttp in /usr/local/lib/python3.8/dist-packages (from datasets>=2.0.0->evaluate) (3.8.3)\n",
            "Requirement already satisfied: pyyaml>=5.1 in /usr/local/lib/python3.8/dist-packages (from datasets>=2.0.0->evaluate) (6.0)\n",
            "Requirement already satisfied: yarl<2.0,>=1.0 in /usr/local/lib/python3.8/dist-packages (from aiohttp->datasets>=2.0.0->evaluate) (1.8.1)\n",
            "Requirement already satisfied: async-timeout<5.0,>=4.0.0a3 in /usr/local/lib/python3.8/dist-packages (from aiohttp->datasets>=2.0.0->evaluate) (4.0.2)\n",
            "Requirement already satisfied: charset-normalizer<3.0,>=2.0 in /usr/local/lib/python3.8/dist-packages (from aiohttp->datasets>=2.0.0->evaluate) (2.1.1)\n",
            "Requirement already satisfied: frozenlist>=1.1.1 in /usr/local/lib/python3.8/dist-packages (from aiohttp->datasets>=2.0.0->evaluate) (1.3.3)\n",
            "Requirement already satisfied: attrs>=17.3.0 in /usr/local/lib/python3.8/dist-packages (from aiohttp->datasets>=2.0.0->evaluate) (22.1.0)\n",
            "Requirement already satisfied: aiosignal>=1.1.2 in /usr/local/lib/python3.8/dist-packages (from aiohttp->datasets>=2.0.0->evaluate) (1.3.1)\n",
            "Requirement already satisfied: multidict<7.0,>=4.5 in /usr/local/lib/python3.8/dist-packages (from aiohttp->datasets>=2.0.0->evaluate) (6.0.2)\n",
            "Requirement already satisfied: typing-extensions>=3.7.4.3 in /usr/local/lib/python3.8/dist-packages (from huggingface-hub>=0.7.0->evaluate) (4.1.1)\n",
            "Requirement already satisfied: filelock in /usr/local/lib/python3.8/dist-packages (from huggingface-hub>=0.7.0->evaluate) (3.8.0)\n",
            "Requirement already satisfied: pyparsing!=3.0.5,>=2.0.2 in /usr/local/lib/python3.8/dist-packages (from packaging->evaluate) (3.0.9)\n",
            "Requirement already satisfied: urllib3!=1.25.0,!=1.25.1,<1.26,>=1.21.1 in /usr/local/lib/python3.8/dist-packages (from requests>=2.19.0->evaluate) (1.25.11)\n",
            "Requirement already satisfied: chardet<4,>=3.0.2 in /usr/local/lib/python3.8/dist-packages (from requests>=2.19.0->evaluate) (3.0.4)\n",
            "Requirement already satisfied: idna<3,>=2.5 in /usr/local/lib/python3.8/dist-packages (from requests>=2.19.0->evaluate) (2.10)\n",
            "Requirement already satisfied: certifi>=2017.4.17 in /usr/local/lib/python3.8/dist-packages (from requests>=2.19.0->evaluate) (2022.9.24)\n",
            "Requirement already satisfied: python-dateutil>=2.7.3 in /usr/local/lib/python3.8/dist-packages (from pandas->evaluate) (2.8.2)\n",
            "Requirement already satisfied: pytz>=2017.3 in /usr/local/lib/python3.8/dist-packages (from pandas->evaluate) (2022.6)\n",
            "Requirement already satisfied: six>=1.5 in /usr/local/lib/python3.8/dist-packages (from python-dateutil>=2.7.3->pandas->evaluate) (1.15.0)\n",
            "Looking in indexes: https://pypi.org/simple, https://us-python.pkg.dev/colab-wheels/public/simple/\n",
            "Collecting jiwer\n",
            "  Downloading jiwer-2.5.1-py3-none-any.whl (15 kB)\n",
            "Collecting levenshtein==0.20.2\n",
            "  Downloading Levenshtein-0.20.2-cp38-cp38-manylinux_2_17_x86_64.manylinux2014_x86_64.whl (1.4 MB)\n",
            "\u001b[K     |████████████████████████████████| 1.4 MB 7.7 MB/s \n",
            "\u001b[?25hCollecting rapidfuzz<3.0.0,>=2.3.0\n",
            "  Downloading rapidfuzz-2.13.3-cp38-cp38-manylinux_2_17_x86_64.manylinux2014_x86_64.whl (2.2 MB)\n",
            "\u001b[K     |████████████████████████████████| 2.2 MB 16.9 MB/s \n",
            "\u001b[?25hInstalling collected packages: rapidfuzz, levenshtein, jiwer\n",
            "Successfully installed jiwer-2.5.1 levenshtein-0.20.2 rapidfuzz-2.13.3\n"
          ]
        }
      ]
    },
    {
      "cell_type": "code",
      "source": [
        "from evaluate import load"
      ],
      "metadata": {
        "id": "JG9ySkigPbAj"
      },
      "execution_count": null,
      "outputs": []
    },
    {
      "cell_type": "code",
      "source": [
        "cer = load('cer')\n",
        "cer_score = cer.compute(predictions=all_words, references=clean_y[:306])\n",
        "print(cer_score)"
      ],
      "metadata": {
        "colab": {
          "base_uri": "https://localhost:8080/"
        },
        "id": "oF92vnV0PcLM",
        "outputId": "0f903732-495d-4543-fd36-7a7e741e6c58"
      },
      "execution_count": null,
      "outputs": [
        {
          "output_type": "stream",
          "name": "stdout",
          "text": [
            "0.8919685968080793\n"
          ]
        }
      ]
    },
    {
      "cell_type": "code",
      "source": [
        "wer = load('wer')\n",
        "wer_score = wer.compute(predictions=all_words, references=clean_y[:306])\n",
        "print(wer_score)"
      ],
      "metadata": {
        "colab": {
          "base_uri": "https://localhost:8080/",
          "height": 66,
          "referenced_widgets": [
            "f9df58adb4ff4911897efb5145f14bdd",
            "95a85030baab4ede94272ea7c56ce6c6",
            "894b52ab04c34cbfbcebb0be65cc4959",
            "3028e710162946a9b144b44fd64c2b22",
            "f4dff54ef122498688b4a610da119ae8",
            "8c839c55011947b19dcd785a9d89e9aa",
            "34d3172a98054f7aa4ea4c2de30314f7",
            "9aeaf476fdb9418aa3474bfb57203e17",
            "3d4fc14056464e39a7bc3a1471dd032e",
            "675151032bc84817ab2598dd9e6ec07e",
            "53bf1d180e474e94b826208c0ab141f9"
          ]
        },
        "id": "D-ijnUq2PdFs",
        "outputId": "a7ca4a81-61ad-4a14-f409-659b585dcf6e"
      },
      "execution_count": null,
      "outputs": [
        {
          "output_type": "display_data",
          "data": {
            "text/plain": [
              "Downloading builder script:   0%|          | 0.00/4.49k [00:00<?, ?B/s]"
            ],
            "application/vnd.jupyter.widget-view+json": {
              "version_major": 2,
              "version_minor": 0,
              "model_id": "f9df58adb4ff4911897efb5145f14bdd"
            }
          },
          "metadata": {}
        },
        {
          "output_type": "stream",
          "name": "stdout",
          "text": [
            "0.9990221005280657\n"
          ]
        }
      ]
    }
  ],
  "metadata": {
    "colab": {
      "provenance": [],
      "authorship_tag": "ABX9TyNMu9Suf3uuxzK382QaW7gk",
      "include_colab_link": true
    },
    "kernelspec": {
      "display_name": "Python 3",
      "name": "python3"
    },
    "language_info": {
      "name": "python"
    },
    "widgets": {
      "application/vnd.jupyter.widget-state+json": {
        "f9df58adb4ff4911897efb5145f14bdd": {
          "model_module": "@jupyter-widgets/controls",
          "model_name": "HBoxModel",
          "model_module_version": "1.5.0",
          "state": {
            "_dom_classes": [],
            "_model_module": "@jupyter-widgets/controls",
            "_model_module_version": "1.5.0",
            "_model_name": "HBoxModel",
            "_view_count": null,
            "_view_module": "@jupyter-widgets/controls",
            "_view_module_version": "1.5.0",
            "_view_name": "HBoxView",
            "box_style": "",
            "children": [
              "IPY_MODEL_95a85030baab4ede94272ea7c56ce6c6",
              "IPY_MODEL_894b52ab04c34cbfbcebb0be65cc4959",
              "IPY_MODEL_3028e710162946a9b144b44fd64c2b22"
            ],
            "layout": "IPY_MODEL_f4dff54ef122498688b4a610da119ae8"
          }
        },
        "95a85030baab4ede94272ea7c56ce6c6": {
          "model_module": "@jupyter-widgets/controls",
          "model_name": "HTMLModel",
          "model_module_version": "1.5.0",
          "state": {
            "_dom_classes": [],
            "_model_module": "@jupyter-widgets/controls",
            "_model_module_version": "1.5.0",
            "_model_name": "HTMLModel",
            "_view_count": null,
            "_view_module": "@jupyter-widgets/controls",
            "_view_module_version": "1.5.0",
            "_view_name": "HTMLView",
            "description": "",
            "description_tooltip": null,
            "layout": "IPY_MODEL_8c839c55011947b19dcd785a9d89e9aa",
            "placeholder": "​",
            "style": "IPY_MODEL_34d3172a98054f7aa4ea4c2de30314f7",
            "value": "Downloading builder script: 100%"
          }
        },
        "894b52ab04c34cbfbcebb0be65cc4959": {
          "model_module": "@jupyter-widgets/controls",
          "model_name": "FloatProgressModel",
          "model_module_version": "1.5.0",
          "state": {
            "_dom_classes": [],
            "_model_module": "@jupyter-widgets/controls",
            "_model_module_version": "1.5.0",
            "_model_name": "FloatProgressModel",
            "_view_count": null,
            "_view_module": "@jupyter-widgets/controls",
            "_view_module_version": "1.5.0",
            "_view_name": "ProgressView",
            "bar_style": "success",
            "description": "",
            "description_tooltip": null,
            "layout": "IPY_MODEL_9aeaf476fdb9418aa3474bfb57203e17",
            "max": 4485,
            "min": 0,
            "orientation": "horizontal",
            "style": "IPY_MODEL_3d4fc14056464e39a7bc3a1471dd032e",
            "value": 4485
          }
        },
        "3028e710162946a9b144b44fd64c2b22": {
          "model_module": "@jupyter-widgets/controls",
          "model_name": "HTMLModel",
          "model_module_version": "1.5.0",
          "state": {
            "_dom_classes": [],
            "_model_module": "@jupyter-widgets/controls",
            "_model_module_version": "1.5.0",
            "_model_name": "HTMLModel",
            "_view_count": null,
            "_view_module": "@jupyter-widgets/controls",
            "_view_module_version": "1.5.0",
            "_view_name": "HTMLView",
            "description": "",
            "description_tooltip": null,
            "layout": "IPY_MODEL_675151032bc84817ab2598dd9e6ec07e",
            "placeholder": "​",
            "style": "IPY_MODEL_53bf1d180e474e94b826208c0ab141f9",
            "value": " 4.49k/4.49k [00:00&lt;00:00, 95.4kB/s]"
          }
        },
        "f4dff54ef122498688b4a610da119ae8": {
          "model_module": "@jupyter-widgets/base",
          "model_name": "LayoutModel",
          "model_module_version": "1.2.0",
          "state": {
            "_model_module": "@jupyter-widgets/base",
            "_model_module_version": "1.2.0",
            "_model_name": "LayoutModel",
            "_view_count": null,
            "_view_module": "@jupyter-widgets/base",
            "_view_module_version": "1.2.0",
            "_view_name": "LayoutView",
            "align_content": null,
            "align_items": null,
            "align_self": null,
            "border": null,
            "bottom": null,
            "display": null,
            "flex": null,
            "flex_flow": null,
            "grid_area": null,
            "grid_auto_columns": null,
            "grid_auto_flow": null,
            "grid_auto_rows": null,
            "grid_column": null,
            "grid_gap": null,
            "grid_row": null,
            "grid_template_areas": null,
            "grid_template_columns": null,
            "grid_template_rows": null,
            "height": null,
            "justify_content": null,
            "justify_items": null,
            "left": null,
            "margin": null,
            "max_height": null,
            "max_width": null,
            "min_height": null,
            "min_width": null,
            "object_fit": null,
            "object_position": null,
            "order": null,
            "overflow": null,
            "overflow_x": null,
            "overflow_y": null,
            "padding": null,
            "right": null,
            "top": null,
            "visibility": null,
            "width": null
          }
        },
        "8c839c55011947b19dcd785a9d89e9aa": {
          "model_module": "@jupyter-widgets/base",
          "model_name": "LayoutModel",
          "model_module_version": "1.2.0",
          "state": {
            "_model_module": "@jupyter-widgets/base",
            "_model_module_version": "1.2.0",
            "_model_name": "LayoutModel",
            "_view_count": null,
            "_view_module": "@jupyter-widgets/base",
            "_view_module_version": "1.2.0",
            "_view_name": "LayoutView",
            "align_content": null,
            "align_items": null,
            "align_self": null,
            "border": null,
            "bottom": null,
            "display": null,
            "flex": null,
            "flex_flow": null,
            "grid_area": null,
            "grid_auto_columns": null,
            "grid_auto_flow": null,
            "grid_auto_rows": null,
            "grid_column": null,
            "grid_gap": null,
            "grid_row": null,
            "grid_template_areas": null,
            "grid_template_columns": null,
            "grid_template_rows": null,
            "height": null,
            "justify_content": null,
            "justify_items": null,
            "left": null,
            "margin": null,
            "max_height": null,
            "max_width": null,
            "min_height": null,
            "min_width": null,
            "object_fit": null,
            "object_position": null,
            "order": null,
            "overflow": null,
            "overflow_x": null,
            "overflow_y": null,
            "padding": null,
            "right": null,
            "top": null,
            "visibility": null,
            "width": null
          }
        },
        "34d3172a98054f7aa4ea4c2de30314f7": {
          "model_module": "@jupyter-widgets/controls",
          "model_name": "DescriptionStyleModel",
          "model_module_version": "1.5.0",
          "state": {
            "_model_module": "@jupyter-widgets/controls",
            "_model_module_version": "1.5.0",
            "_model_name": "DescriptionStyleModel",
            "_view_count": null,
            "_view_module": "@jupyter-widgets/base",
            "_view_module_version": "1.2.0",
            "_view_name": "StyleView",
            "description_width": ""
          }
        },
        "9aeaf476fdb9418aa3474bfb57203e17": {
          "model_module": "@jupyter-widgets/base",
          "model_name": "LayoutModel",
          "model_module_version": "1.2.0",
          "state": {
            "_model_module": "@jupyter-widgets/base",
            "_model_module_version": "1.2.0",
            "_model_name": "LayoutModel",
            "_view_count": null,
            "_view_module": "@jupyter-widgets/base",
            "_view_module_version": "1.2.0",
            "_view_name": "LayoutView",
            "align_content": null,
            "align_items": null,
            "align_self": null,
            "border": null,
            "bottom": null,
            "display": null,
            "flex": null,
            "flex_flow": null,
            "grid_area": null,
            "grid_auto_columns": null,
            "grid_auto_flow": null,
            "grid_auto_rows": null,
            "grid_column": null,
            "grid_gap": null,
            "grid_row": null,
            "grid_template_areas": null,
            "grid_template_columns": null,
            "grid_template_rows": null,
            "height": null,
            "justify_content": null,
            "justify_items": null,
            "left": null,
            "margin": null,
            "max_height": null,
            "max_width": null,
            "min_height": null,
            "min_width": null,
            "object_fit": null,
            "object_position": null,
            "order": null,
            "overflow": null,
            "overflow_x": null,
            "overflow_y": null,
            "padding": null,
            "right": null,
            "top": null,
            "visibility": null,
            "width": null
          }
        },
        "3d4fc14056464e39a7bc3a1471dd032e": {
          "model_module": "@jupyter-widgets/controls",
          "model_name": "ProgressStyleModel",
          "model_module_version": "1.5.0",
          "state": {
            "_model_module": "@jupyter-widgets/controls",
            "_model_module_version": "1.5.0",
            "_model_name": "ProgressStyleModel",
            "_view_count": null,
            "_view_module": "@jupyter-widgets/base",
            "_view_module_version": "1.2.0",
            "_view_name": "StyleView",
            "bar_color": null,
            "description_width": ""
          }
        },
        "675151032bc84817ab2598dd9e6ec07e": {
          "model_module": "@jupyter-widgets/base",
          "model_name": "LayoutModel",
          "model_module_version": "1.2.0",
          "state": {
            "_model_module": "@jupyter-widgets/base",
            "_model_module_version": "1.2.0",
            "_model_name": "LayoutModel",
            "_view_count": null,
            "_view_module": "@jupyter-widgets/base",
            "_view_module_version": "1.2.0",
            "_view_name": "LayoutView",
            "align_content": null,
            "align_items": null,
            "align_self": null,
            "border": null,
            "bottom": null,
            "display": null,
            "flex": null,
            "flex_flow": null,
            "grid_area": null,
            "grid_auto_columns": null,
            "grid_auto_flow": null,
            "grid_auto_rows": null,
            "grid_column": null,
            "grid_gap": null,
            "grid_row": null,
            "grid_template_areas": null,
            "grid_template_columns": null,
            "grid_template_rows": null,
            "height": null,
            "justify_content": null,
            "justify_items": null,
            "left": null,
            "margin": null,
            "max_height": null,
            "max_width": null,
            "min_height": null,
            "min_width": null,
            "object_fit": null,
            "object_position": null,
            "order": null,
            "overflow": null,
            "overflow_x": null,
            "overflow_y": null,
            "padding": null,
            "right": null,
            "top": null,
            "visibility": null,
            "width": null
          }
        },
        "53bf1d180e474e94b826208c0ab141f9": {
          "model_module": "@jupyter-widgets/controls",
          "model_name": "DescriptionStyleModel",
          "model_module_version": "1.5.0",
          "state": {
            "_model_module": "@jupyter-widgets/controls",
            "_model_module_version": "1.5.0",
            "_model_name": "DescriptionStyleModel",
            "_view_count": null,
            "_view_module": "@jupyter-widgets/base",
            "_view_module_version": "1.2.0",
            "_view_name": "StyleView",
            "description_width": ""
          }
        }
      }
    }
  },
  "nbformat": 4,
  "nbformat_minor": 0
}