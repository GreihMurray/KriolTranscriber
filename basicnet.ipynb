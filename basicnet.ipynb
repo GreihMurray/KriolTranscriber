{
  "cells": [
    {
      "cell_type": "markdown",
      "metadata": {
        "id": "view-in-github",
        "colab_type": "text"
      },
      "source": [
        "<a href=\"https://colab.research.google.com/github/GreihMurray/KriolTranscriber/blob/master/basicnet.ipynb\" target=\"_parent\"><img src=\"https://colab.research.google.com/assets/colab-badge.svg\" alt=\"Open In Colab\"/></a>"
      ]
    },
    {
      "cell_type": "code",
      "execution_count": null,
      "metadata": {
        "id": "tiEm2CJT-ufY"
      },
      "outputs": [],
      "source": [
        "from keras.utils import to_categorical\n",
        "from tensorflow.keras.models import Sequential\n",
        "from tensorflow.keras.layers import Dense\n",
        "from keras.utils.vis_utils import plot_model\n",
        "import tensorflow as tf\n",
        "import numpy as np\n",
        "import itertools\n",
        "from scipy.io import wavfile\n",
        "from tensorflow.keras.layers import LSTM, Embedding, Dense, TimeDistributed, Dropout, Bidirectional, Reshape\n",
        "from keras.models import load_model"
      ]
    },
    {
      "cell_type": "code",
      "execution_count": null,
      "metadata": {
        "id": "5Yl8pSEy8_hu"
      },
      "outputs": [],
      "source": [
        "import math, random\n",
        "import torch\n",
        "import torchaudio\n",
        "from torchaudio import transforms\n",
        "import pandas as pd\n",
        "from tqdm import tqdm\n",
        "import os\n",
        "import unicodedata\n",
        "import re"
      ]
    },
    {
      "cell_type": "code",
      "execution_count": null,
      "metadata": {
        "colab": {
          "base_uri": "https://localhost:8080/"
        },
        "id": "nzyMxwpr9E2o",
        "outputId": "cfb53e22-a12a-4dc9-82cc-3728d40f3211"
      },
      "outputs": [
        {
          "output_type": "stream",
          "name": "stdout",
          "text": [
            "Drive already mounted at /content/gdrive; to attempt to forcibly remount, call drive.mount(\"/content/gdrive\", force_remount=True).\n"
          ]
        }
      ],
      "source": [
        "from google.colab import drive\n",
        "\n",
        "drive.mount('/content/gdrive')"
      ]
    },
    {
      "cell_type": "code",
      "execution_count": null,
      "metadata": {
        "id": "u-KbCzwD9F7D"
      },
      "outputs": [],
      "source": [
        "DEFAULT_DIR = '/content/gdrive/MyDrive/Colab_Notebooks/NLP/project/'\n",
        "SR = 44100"
      ]
    },
    {
      "cell_type": "code",
      "execution_count": null,
      "metadata": {
        "id": "Ujj8a26e9HOp"
      },
      "outputs": [],
      "source": [
        "def load_html_data(dir_ext):\n",
        "    all_data = []\n",
        "    chars_to_replace = '.,;:<>?/\\'\\\\[]()!#$%\"”“'\n",
        "    directory = DEFAULT_DIR + 'html/' + dir_ext + '/'\n",
        "\n",
        "    dir_files = sorted(os.listdir(directory))\n",
        "\n",
        "    for file in tqdm(dir_files, desc='Loading HTML Data'):\n",
        "        file = directory + file\n",
        "        divs = []\n",
        "        with open(file, 'r', encoding='UTF-8') as in_file:\n",
        "            data = ' '.join(in_file.readlines())\n",
        "            data = unicodedata.normalize('NFC', data)\n",
        "            data = re.sub(r'<span class=.*?</span>', '', data)\n",
        "            data = re.sub(r'<a.*?</a>', '', data)\n",
        "            data = data.replace(u'\\xa0', u' ')\n",
        "            check_divs = re.findall(r'<div class=\\'mt\\'.*?>(.*?) </div>', data)\n",
        "            check_divs.extend(re.findall(r'<div class=\\'mt2\\'.*?>(.*?) </div>', data))\n",
        "            # print(data)\n",
        "            check_divs.extend(re.findall(r'<div class=\\'ip\\'>(.*)', data))\n",
        "\n",
        "            if len(check_divs) > 0:\n",
        "                full = '!'.join(check_divs)\n",
        "                full = re.sub(r'[\\,,@,#,$,%,^,&,*,(,),\\[,\\],\\',\\\",;,:,“,”,‘,’]', '', full)\n",
        "                full = re.sub('^\\s+', ' ', full).strip('\\u00A0')\n",
        "                full = re.split('[\\.,\\?,!,\\n]', str(full))\n",
        "                all_data.extend([s.strip() for s in full])\n",
        "\n",
        "            divs.extend(re.findall(r'<div class=\\'[p,s]\\'.*?>(.*?) </div>', data))\n",
        "\n",
        "        full_data = '!'.join(divs)\n",
        "        full_data = re.sub(r'[\\,,@,#,$,%,^,&,*,(,),\\[,\\],\\',\\\",;,:,“,”,‘,’]', '', full_data)\n",
        "        full_data = re.sub(' +', ' ', full_data)\n",
        "        full_data = re.split('[\\.,\\?,!,\\n]', str(full_data))\n",
        "\n",
        "        all_data.extend([s.strip() for s in full_data])\n",
        "\n",
        "        clean = []\n",
        "        for row2 in all_data:\n",
        "            if len(row2) >= 1:\n",
        "                clean.append(row2.lower())\n",
        "\n",
        "    return clean"
      ]
    },
    {
      "cell_type": "code",
      "execution_count": null,
      "metadata": {
        "id": "WxujUpiQ9IjU"
      },
      "outputs": [],
      "source": [
        "def load_dataset(dir_ext):\n",
        "    transcripts = load_html_data(dir_ext)\n",
        "    all_x = []\n",
        "    all_y = []\n",
        "    directory = DEFAULT_DIR + 'audio/' + dir_ext + '/'\n",
        "\n",
        "    order = []\n",
        "\n",
        "    dir_files = sorted(os.listdir(directory))\n",
        "\n",
        "    for i, file in tqdm(enumerate(dir_files), desc='Loading Audio Data & Creating Dataset'):\n",
        "        file = directory + file\n",
        "        \n",
        "        sr, data = wavfile.read(file)\n",
        "\n",
        "        max_len = SR//1000 * 15000\n",
        "\n",
        "        if len(data) > max_len:\n",
        "          continue\n",
        "\n",
        "        all_x.append(data)\n",
        "        all_y.append(transcripts[i].split(' '))\n",
        "\n",
        "\n",
        "    return pd.DataFrame(list(zip(all_x, all_y)), columns=['audio', 'transcription'])"
      ]
    },
    {
      "cell_type": "code",
      "execution_count": null,
      "metadata": {
        "id": "FQb1aO129R-t"
      },
      "outputs": [],
      "source": [
        "def one_hot(data):\n",
        "    mapping = {}\n",
        "    mapped = []\n",
        "\n",
        "    i = 0\n",
        "\n",
        "    for sentence in data:\n",
        "      cur_map = []\n",
        "      for word in sentence:\n",
        "          if word in mapping.keys():\n",
        "            cur_map.append(mapping[word])\n",
        "          else:\n",
        "            i += 1\n",
        "            cur_map.append(i)\n",
        "            mapping[word] = i\n",
        "            \n",
        "      mapped.append(cur_map)\n",
        "      \n",
        "    return mapped, mapping"
      ]
    },
    {
      "cell_type": "code",
      "execution_count": null,
      "metadata": {
        "id": "w1aYZcfH9TDQ"
      },
      "outputs": [],
      "source": [
        "def vectorize(data):\n",
        "    vecs = []\n",
        "    for row in data:\n",
        "      cur_vec = [0] * len(row[0])\n",
        "      for piece in row:\n",
        "        piece = list(piece)\n",
        "        cur_vec[piece.index(1)] += 1\n",
        "      cur_vec[2] = 1\n",
        "      vecs.append(cur_vec)\n",
        "\n",
        "    return vecs"
      ]
    },
    {
      "cell_type": "code",
      "execution_count": null,
      "metadata": {
        "id": "oYBr-R5393cs"
      },
      "outputs": [],
      "source": [
        "def pad_audio(data):\n",
        "    max_len = SR//1000 * 15000\n",
        "\n",
        "    for i, aud in tqdm(enumerate(data), desc='Padding audio'):\n",
        "      if len(aud) < max_len:\n",
        "        data[i] = np.array(np.append(aud, np.zeros(max_len - len(aud))))\n",
        "\n",
        "    return data"
      ]
    },
    {
      "cell_type": "code",
      "execution_count": null,
      "metadata": {
        "id": "XDzD3p6QBLV-"
      },
      "outputs": [],
      "source": [
        "def build_model(input_len, output_len):\n",
        "    model = Sequential()\n",
        "    model.add(Dense(256, input_shape=(input_len,), activation=\"sigmoid\"))\n",
        "    model.add(Dense(128, activation=\"sigmoid\"))\n",
        "    model.add(Dense(output_len, activation=\"relu\"))\n",
        "\n",
        "    model.compile(loss='poisson', metrics=['accuracy'])\n",
        "\n",
        "    return model"
      ]
    },
    {
      "cell_type": "code",
      "execution_count": null,
      "metadata": {
        "colab": {
          "base_uri": "https://localhost:8080/"
        },
        "id": "XDVnkmLG9N3E",
        "outputId": "ccd46a46-10f1-4107-8b83-c385f02cf3a6"
      },
      "outputs": [
        {
          "output_type": "stream",
          "name": "stderr",
          "text": [
            "Loading HTML Data: 100%|██████████| 293/293 [00:02<00:00, 139.69it/s]\n",
            "Loading Audio Data & Creating Dataset: 0it [00:00, ?it/s]<ipython-input-31-c7e344a15f02>:14: WavFileWarning: Chunk (non-data) not understood, skipping it.\n",
            "  sr, data = wavfile.read(file)\n",
            "Loading Audio Data & Creating Dataset: 356it [00:00, 387.87it/s]\n"
          ]
        }
      ],
      "source": [
        "df = load_dataset('train')"
      ]
    },
    {
      "cell_type": "code",
      "source": [
        "clean_y = list(df['transcription'])"
      ],
      "metadata": {
        "id": "1VLF5u2CQOr8"
      },
      "execution_count": null,
      "outputs": []
    },
    {
      "cell_type": "code",
      "execution_count": null,
      "metadata": {
        "id": "XSl7x0zO9et1"
      },
      "outputs": [],
      "source": [
        "padded_y = list(zip(*itertools.zip_longest(*list(df['transcription']), fillvalue='<PAD>')))\n",
        "enc_y, mapping = one_hot(padded_y)\n",
        "enc_y = np.array(enc_y)\n",
        "# cat_y = to_categorical(enc_y)\n",
        "# vec_y = np.array(vectorize(cat_y))"
      ]
    },
    {
      "cell_type": "code",
      "execution_count": null,
      "metadata": {
        "colab": {
          "base_uri": "https://localhost:8080/"
        },
        "id": "q2ZGBdw2A4gF",
        "outputId": "28987f4b-dcaf-4886-b6bb-83c5aeccbef7"
      },
      "outputs": [
        {
          "output_type": "stream",
          "name": "stderr",
          "text": [
            "Padding audio: 306it [00:01, 191.28it/s]\n"
          ]
        }
      ],
      "source": [
        "padded_x = pad_audio(df['audio'])"
      ]
    },
    {
      "cell_type": "code",
      "execution_count": null,
      "metadata": {
        "colab": {
          "base_uri": "https://localhost:8080/"
        },
        "id": "Uwy8CkzQ-gX2",
        "outputId": "7329cb02-113d-465c-b528-40b861391f14"
      },
      "outputs": [
        {
          "output_type": "stream",
          "name": "stdout",
          "text": [
            "[-41. -35. -10. ...   0.   0.   0.]\n"
          ]
        }
      ],
      "source": [
        "print(padded_x[0])"
      ]
    },
    {
      "cell_type": "code",
      "execution_count": null,
      "metadata": {
        "id": "5rv5xN5cArfP"
      },
      "outputs": [],
      "source": [
        "padded_x = np.stack(padded_x)"
      ]
    },
    {
      "cell_type": "code",
      "execution_count": null,
      "metadata": {
        "id": "cFMangWVA15q"
      },
      "outputs": [],
      "source": [
        "model = build_model(len(padded_x[0]), len(enc_y[0]))"
      ]
    },
    {
      "cell_type": "code",
      "execution_count": null,
      "metadata": {
        "colab": {
          "base_uri": "https://localhost:8080/",
          "height": 422
        },
        "id": "NnNf7k20T0U0",
        "outputId": "39ed6fb3-e51a-4c05-d192-0eb79543ce39"
      },
      "outputs": [
        {
          "output_type": "execute_result",
          "data": {
            "image/png": "[encoded data removed]",
            "text/plain": [
              "<IPython.core.display.Image object>"
            ]
          },
          "metadata": {},
          "execution_count": 43
        }
      ],
      "source": [
        "plot_model(model, show_shapes=True)"
      ]
    },
    {
      "cell_type": "code",
      "execution_count": null,
      "metadata": {
        "colab": {
          "base_uri": "https://localhost:8080/"
        },
        "id": "0g2YLAbJ8mhs",
        "outputId": "66185ed9-b65d-4f1f-a191-485b4589a8e4"
      },
      "outputs": [
        {
          "output_type": "stream",
          "name": "stdout",
          "text": [
            "[3 4 5 2 2 2 2 2 2 2 2 2 2 2 2 2 2 2 2 2 2 2 2 2 2 2 2 2 2 2 2 2 2 2 2 2 2\n",
            " 2 2 2 2 2 2 2 2 2 2 2 2 2 2 2 2 2 2 2 2 2 2]\n"
          ]
        }
      ],
      "source": [
        "print(enc_y[1])"
      ]
    },
    {
      "cell_type": "code",
      "execution_count": null,
      "metadata": {
        "colab": {
          "base_uri": "https://localhost:8080/"
        },
        "id": "TLHkq1A8BsQr",
        "outputId": "07c7b695-9f43-4a5e-da2a-a174881a4d8c"
      },
      "outputs": [
        {
          "output_type": "stream",
          "name": "stdout",
          "text": [
            "(306, 660000)\n",
            "(660000,)\n",
            "(306, 59)\n"
          ]
        }
      ],
      "source": [
        "print(padded_x.shape)\n",
        "print(padded_x[0].shape)\n",
        "print(enc_y.shape)"
      ]
    },
    {
      "cell_type": "code",
      "execution_count": null,
      "metadata": {
        "id": "zp4oihFUuXTy"
      },
      "outputs": [],
      "source": [
        "model = load_model('/content/gdrive/MyDrive/Colab_Notebooks/NLP/project/wordnet_model_200e')"
      ]
    },
    {
      "cell_type": "code",
      "execution_count": null,
      "metadata": {
        "colab": {
          "base_uri": "https://localhost:8080/"
        },
        "id": "s-zc6vuVBajf",
        "outputId": "87bef3e9-3de9-4a38-b7c2-836a2cbd2dd0"
      },
      "outputs": [
        {
          "output_type": "stream",
          "name": "stdout",
          "text": [
            "Epoch 1/100\n",
            "306/306 [==============================] - 267s 866ms/step - loss: 233.6441 - accuracy: 0.0458\n",
            "Epoch 2/100\n",
            "306/306 [==============================] - 267s 872ms/step - loss: 213.2359 - accuracy: 0.0588\n",
            "Epoch 3/100\n",
            "306/306 [==============================] - 261s 854ms/step - loss: 208.9512 - accuracy: 0.0588\n",
            "Epoch 4/100\n",
            "306/306 [==============================] - 262s 858ms/step - loss: 207.4192 - accuracy: 0.0588\n",
            "Epoch 5/100\n",
            "306/306 [==============================] - 261s 854ms/step - loss: 206.2954 - accuracy: 0.0588\n",
            "Epoch 6/100\n",
            "306/306 [==============================] - 262s 855ms/step - loss: 205.8677 - accuracy: 0.0588\n",
            "Epoch 7/100\n",
            "306/306 [==============================] - 262s 855ms/step - loss: 205.5182 - accuracy: 0.0588\n",
            "Epoch 8/100\n",
            "306/306 [==============================] - 263s 859ms/step - loss: 205.2205 - accuracy: 0.0588\n",
            "Epoch 9/100\n",
            "306/306 [==============================] - 262s 857ms/step - loss: 205.4807 - accuracy: 0.0588\n",
            "Epoch 10/100\n",
            "306/306 [==============================] - 261s 854ms/step - loss: 205.2503 - accuracy: 0.0588\n",
            "Epoch 11/100\n",
            "306/306 [==============================] - 263s 860ms/step - loss: 205.2276 - accuracy: 0.0588\n",
            "Epoch 12/100\n",
            "306/306 [==============================] - 263s 859ms/step - loss: 205.1793 - accuracy: 0.0588\n",
            "Epoch 13/100\n",
            "306/306 [==============================] - 262s 858ms/step - loss: 205.0886 - accuracy: 0.0588\n",
            "Epoch 14/100\n",
            "306/306 [==============================] - 263s 860ms/step - loss: 205.2706 - accuracy: 0.0588\n",
            "Epoch 15/100\n",
            "306/306 [==============================] - 263s 858ms/step - loss: 205.1287 - accuracy: 0.0588\n",
            "Epoch 16/100\n",
            "306/306 [==============================] - 262s 858ms/step - loss: 205.1767 - accuracy: 0.0588\n",
            "Epoch 17/100\n",
            "306/306 [==============================] - 263s 860ms/step - loss: 205.2003 - accuracy: 0.0588\n",
            "Epoch 18/100\n",
            "306/306 [==============================] - 263s 859ms/step - loss: 205.0036 - accuracy: 0.0588\n",
            "Epoch 19/100\n",
            "306/306 [==============================] - 261s 854ms/step - loss: 205.4761 - accuracy: 0.0588\n",
            "Epoch 20/100\n",
            "306/306 [==============================] - 261s 854ms/step - loss: 205.0640 - accuracy: 0.0588\n",
            "Epoch 21/100\n",
            "306/306 [==============================] - 262s 856ms/step - loss: 205.0460 - accuracy: 0.0588\n",
            "Epoch 22/100\n",
            "306/306 [==============================] - 262s 857ms/step - loss: 204.9808 - accuracy: 0.0588\n",
            "Epoch 23/100\n",
            "306/306 [==============================] - 263s 860ms/step - loss: 205.1923 - accuracy: 0.0588\n",
            "Epoch 24/100\n",
            "306/306 [==============================] - 262s 857ms/step - loss: 205.1401 - accuracy: 0.0588\n",
            "Epoch 25/100\n",
            "306/306 [==============================] - 262s 857ms/step - loss: 205.2371 - accuracy: 0.0588\n",
            "Epoch 26/100\n",
            "306/306 [==============================] - 262s 857ms/step - loss: 205.0994 - accuracy: 0.0588\n",
            "Epoch 27/100\n",
            "306/306 [==============================] - 260s 850ms/step - loss: 205.0413 - accuracy: 0.0588\n",
            "Epoch 28/100\n",
            "306/306 [==============================] - 260s 850ms/step - loss: 205.0825 - accuracy: 0.0588\n",
            "Epoch 29/100\n",
            "306/306 [==============================] - 261s 852ms/step - loss: 205.0597 - accuracy: 0.0588\n",
            "Epoch 30/100\n",
            "306/306 [==============================] - 261s 851ms/step - loss: 205.1806 - accuracy: 0.0588\n",
            "Epoch 31/100\n",
            "306/306 [==============================] - 260s 850ms/step - loss: 204.9964 - accuracy: 0.0588\n",
            "Epoch 32/100\n",
            "306/306 [==============================] - 261s 852ms/step - loss: 204.9023 - accuracy: 0.0588\n",
            "Epoch 33/100\n",
            "306/306 [==============================] - 260s 849ms/step - loss: 204.8386 - accuracy: 0.0588\n",
            "Epoch 34/100\n",
            "306/306 [==============================] - 262s 857ms/step - loss: 204.8732 - accuracy: 0.0588\n",
            "Epoch 35/100\n",
            "306/306 [==============================] - 261s 852ms/step - loss: 204.8916 - accuracy: 0.0588\n",
            "Epoch 36/100\n",
            "306/306 [==============================] - 260s 849ms/step - loss: 204.7975 - accuracy: 0.0588\n",
            "Epoch 37/100\n",
            "306/306 [==============================] - 260s 849ms/step - loss: 204.7167 - accuracy: 0.0588\n",
            "Epoch 38/100\n",
            "306/306 [==============================] - 260s 849ms/step - loss: 204.6656 - accuracy: 0.0588\n",
            "Epoch 39/100\n",
            "306/306 [==============================] - 259s 847ms/step - loss: 204.6988 - accuracy: 0.0588\n",
            "Epoch 40/100\n",
            "306/306 [==============================] - 260s 848ms/step - loss: 204.8113 - accuracy: 0.0588\n",
            "Epoch 41/100\n",
            "306/306 [==============================] - 259s 847ms/step - loss: 204.6170 - accuracy: 0.0588\n",
            "Epoch 42/100\n",
            "306/306 [==============================] - 260s 849ms/step - loss: 204.6937 - accuracy: 0.0588\n",
            "Epoch 43/100\n",
            "306/306 [==============================] - 260s 851ms/step - loss: 204.4525 - accuracy: 0.0588\n",
            "Epoch 44/100\n",
            "306/306 [==============================] - 260s 850ms/step - loss: 204.4533 - accuracy: 0.0588\n",
            "Epoch 45/100\n",
            "306/306 [==============================] - 260s 851ms/step - loss: 204.5826 - accuracy: 0.0588\n",
            "Epoch 46/100\n",
            "306/306 [==============================] - 260s 849ms/step - loss: 204.3840 - accuracy: 0.0588\n",
            "Epoch 47/100\n",
            "306/306 [==============================] - 260s 848ms/step - loss: 204.2137 - accuracy: 0.0588\n",
            "Epoch 48/100\n",
            "306/306 [==============================] - 259s 848ms/step - loss: 204.1993 - accuracy: 0.0588\n",
            "Epoch 49/100\n",
            "306/306 [==============================] - 260s 850ms/step - loss: 204.0551 - accuracy: 0.0588\n",
            "Epoch 50/100\n",
            "306/306 [==============================] - 260s 850ms/step - loss: 203.8478 - accuracy: 0.0588\n",
            "Epoch 51/100\n",
            "306/306 [==============================] - 260s 848ms/step - loss: 203.8583 - accuracy: 0.0588\n",
            "Epoch 52/100\n",
            "306/306 [==============================] - 260s 849ms/step - loss: 203.7701 - accuracy: 0.0588\n",
            "Epoch 53/100\n",
            "306/306 [==============================] - 260s 849ms/step - loss: 203.6255 - accuracy: 0.0588\n",
            "Epoch 54/100\n",
            "306/306 [==============================] - 260s 849ms/step - loss: 203.6126 - accuracy: 0.0588\n",
            "Epoch 55/100\n",
            "306/306 [==============================] - 260s 849ms/step - loss: 181.7897 - accuracy: 0.0588\n",
            "Epoch 56/100\n",
            "306/306 [==============================] - 260s 848ms/step - loss: 165.9592 - accuracy: 0.0588\n",
            "Epoch 57/100\n",
            "306/306 [==============================] - 260s 850ms/step - loss: 164.2106 - accuracy: 0.0588\n",
            "Epoch 58/100\n",
            "306/306 [==============================] - 261s 852ms/step - loss: 133.2989 - accuracy: 0.0588\n",
            "Epoch 59/100\n",
            "306/306 [==============================] - 260s 849ms/step - loss: 125.6144 - accuracy: 0.0588\n",
            "Epoch 60/100\n",
            "306/306 [==============================] - 260s 849ms/step - loss: 124.6317 - accuracy: 0.0588\n",
            "Epoch 61/100\n",
            "306/306 [==============================] - 260s 849ms/step - loss: 123.9949 - accuracy: 0.0588\n",
            "Epoch 62/100\n",
            "306/306 [==============================] - 259s 848ms/step - loss: 123.7600 - accuracy: 0.0588\n",
            "Epoch 63/100\n",
            "306/306 [==============================] - 260s 849ms/step - loss: 116.2101 - accuracy: 0.0588\n",
            "Epoch 64/100\n",
            "262/306 [========================>.....] - ETA: 37s - loss: 108.8369 - accuracy: 0.0611"
          ]
        }
      ],
      "source": [
        "model.fit(padded_x, enc_y, epochs=100, verbose=1, batch_size=1)"
      ]
    },
    {
      "cell_type": "code",
      "execution_count": null,
      "metadata": {
        "id": "lazwcge-cP9h"
      },
      "outputs": [],
      "source": [
        "model.save('/content/gdrive/MyDrive/Colab_Notebooks/NLP/project/wordnet_model_100e2')"
      ]
    },
    {
      "cell_type": "code",
      "execution_count": null,
      "metadata": {
        "colab": {
          "base_uri": "https://localhost:8080/"
        },
        "id": "yq0K-kkpDUzh",
        "outputId": "2c2a81b2-b19c-4061-8c1f-1cc8d1760a5a"
      },
      "outputs": [
        {
          "output_type": "stream",
          "name": "stdout",
          "text": [
            "1/1 [==============================] - 1s 598ms/step\n"
          ]
        }
      ],
      "source": [
        "preds = model.predict(padded_x[:5])"
      ]
    },
    {
      "cell_type": "code",
      "execution_count": null,
      "metadata": {
        "colab": {
          "base_uri": "https://localhost:8080/"
        },
        "id": "45RG3YEhDdTw",
        "outputId": "cc08d457-b6c2-4696-d9cd-b10a47280b19"
      },
      "outputs": [
        {
          "output_type": "stream",
          "name": "stdout",
          "text": [
            "[66.13661, 109.036766, 0.0, 0.0, 111.62733, 95.93621, 0.0, 94.761894, 0.0, 0.0, 69.42962, 0.0, 52.57881, 67.99912, 0.0, 0.0, 38.99269, 49.781887, 31.063395, 33.717102, 24.759535, 24.220665, 32.43302, 0.0, 13.708284, 21.450386, 0.0, 6.747005, 15.418666, 8.139862, 5.399017, 11.821401, 0.0, 7.876166, 3.942255, 0.0, 2.5254757, 2.4591565, 2.9225833, 2.4539628, 2.7839756, 0.0, 2.4897656, 0.0, 0.0, 0.0, 2.5664954, 2.3104184, 2.2063324, 2.0370448, 1.9999998, 2.172489, 2.0008678, 1.9680306, 2.0330603, 0.0, 0.0, 1.9677249, 0.0]\n"
          ]
        }
      ],
      "source": [
        "print(list(preds[0]))"
      ]
    },
    {
      "cell_type": "code",
      "execution_count": null,
      "metadata": {
        "colab": {
          "base_uri": "https://localhost:8080/"
        },
        "id": "YOJs5-qwD4vz",
        "outputId": "9077cd23-ecec-4d72-cebf-f5adbc9e26fd"
      },
      "outputs": [
        {
          "output_type": "stream",
          "name": "stdout",
          "text": [
            "10/10 [==============================] - 2s 174ms/step - loss: 165.5698 - accuracy: 0.0588\n"
          ]
        },
        {
          "output_type": "execute_result",
          "data": {
            "text/plain": [
              "[165.56980895996094, 0.05882352963089943]"
            ]
          },
          "metadata": {},
          "execution_count": 49
        }
      ],
      "source": [
        "model.evaluate(padded_x, enc_y, verbose=1)"
      ]
    },
    {
      "cell_type": "code",
      "execution_count": null,
      "metadata": {
        "colab": {
          "base_uri": "https://localhost:8080/"
        },
        "id": "M6mUssyWEFaM",
        "outputId": "80754475-b11a-43ee-b1c9-77f0106a4cb8"
      },
      "outputs": [
        {
          "output_type": "stream",
          "name": "stdout",
          "text": [
            "{'jenasis': 1, '<PAD>': 2, 'ola': 3, 'basdamwan': 4, 'stori': 5, 'wal': 6, 'dijan': 7, 'im': 8, 'stat': 9, 'garram': 10, 'det': 11, 'blanga': 12, 'god': 13, 'weya': 14, 'imbin': 15, 'meigim': 16, 'ebrijing': 17, 'en': 18, 'afta': 19, 'edam': 20, 'ib': 21, 'dubala': 22, 'bin': 23, 'orait': 24, 'longtaim': 25, 'wen': 26, 'meigimbat': 27, 'nomo': 28, 'enijing': 29, 'jidan': 30, 'jis': 31, 'eniwei': 32, 'oni': 33, 'strongbala': 34, 'woda': 35, 'goran': 36, 'ebriwei': 37, 'brabli': 38, 'dakbala': 39, 'spirit': 40, 'mubabat': 41, 'ontop': 42, 'langa': 43, 'brom': 44, 'deya': 45, 'tok': 46, 'lait': 47, 'streidawei': 48, 'kamat': 49, 'luk': 50, 'gudwan': 51, 'gudbinji': 52, 'kadimat': 53, 'gulum': 54, 'deitaim': 55, 'naitaim': 56, 'gowei': 57, 'ailibala': 58, 'sekan': 59, 'dei': 60, 'na': 61, 'larram': 62, 'samting': 63, 'miselpmiselp': 64, 'hepin': 65, 'lagijat': 66, 'dumaji': 67, 'ting': 68, 'bodam': 69, 'top': 70, 'skai': 71, 'hipimap': 72, 'miselp': 73, 'wan': 74, 'pleis': 75, 'draiwan': 76, 'pat': 77, 'graun': 78, 'solwoda': 79, 'growimap': 80, 'olkain': 81, 'tri': 82, 'gras': 83, 'purdiflawa': 84, 'sambala': 85, 'sid': 86, 'daga': 87, 'frut': 88, 'namba': 89, '4': 90, 'detlot': 91, 'garra': 92, 'shain': 93, 'shoum': 94, 'wotaim': 95, 'difrinwan': 96, 'sisan': 97, 'serramoni': 98, 'shaindan': 99, 'gibit': 100, 'oloba': 101, 'wel': 102, 'san': 103, 'mun': 104, 'bigismob': 105, 'sta': 106, 'du': 107, 'pudum': 108, 'ol': 109, 'olabat': 110, '5': 111, 'fish': 112, 'enimul': 113, 'bard': 114, 'flaiflai': 115, 'difrinkain': 116, 'jidanbat': 117, 'bigwan': 118, 'insaid': 119, 'dalim': 120, 'bigmob': 121, 'bilimap': 122, 'kwaitwan': 123, 'wailwan': 124, 'wokabat': 125, 'binji': 126, 'wi': 127, 'lafta': 128, 'pipul': 129, 'laik': 130, 'bos': 131, 'boiwan': 132, 'gelwan': 133, 'gudbinjiwei': 134, 'yunbala': 135, 'abumbat': 136, 'biginini': 137, 'loda': 138, 'kantri': 139, 'go': 140, 'ebriweya': 141, 'mi': 142, 'yumob': 143, 'ai': 144, 'bushis': 145, 'dagadagat': 146, '7': 147, 'binijimap': 148, 'wek': 149, 'abum': 150, 'spel': 151, 'laswan': 152, 'najalot': 153, 'ronwan': 154, 'tharran': 155, 'brabliwei': 156, 'binij': 157, 'dumbat': 158, 'yuwai': 159, 'men': 160, 'wuman': 161, 'yawei': 162, 'trubala': 163, 'jandim': 164, 'eni': 165, 'rein': 166, 'nobodi': 167, 'wekim': 168, 'wodarim': 169, 'gajim': 170, 'das': 171, 'blowim': 172, 'win': 173, 'nos': 174, 'weikimap': 175, 'gadin': 176, 'sanraiswei': 177, 'idin': 178, 'purdiwan': 179, 'rait': 180, 'midul': 181, 'laif': 182, 'klebabala': 183, 'enibodi': 184, 'dagat': 185, 'wanbala': 186, 'laibala': 187, 'olagijawan': 188, 'najawan': 189, 'sabi': 190, 'nogudwan': 191, 'krik': 192, 'wodarimbat': 193, 'fobala': 194, 'riba': 195, 'lodan': 196, 'feswan': 197, 'neim': 198, 'paishan': 199, 'raidaran': 200, 'habila': 201, 'brabliwan': 202, 'gol': 203, 'gudsmelwan': 204, 'ston': 205, 'sekanwan': 206, 'gihon': 207, 'kush': 208, '3': 209, 'taigris': 210, 'sanraisaid': 211, 'asiriya': 212, 'yufreitis': 213, 'lukaftumbat': 214, 'yu': 215, 'gin': 216, 'bat': 217, 'lau': 218, 'if': 219, 'seim': 220, 'dai': 221, 'nogud': 222, 'meit': 223, 'albumbat': 224, 'deigim': 225, 'bringimap': 226, 'deibin': 227, 'najing': 228, 'silip': 229, 'dedsilip': 230, 'deigimat': 231, 'rib': 232, 'boun': 233, 'jadimap': 234, 'main': 235, 'bif': 236, 'ron': 237, 'riboun': 238, 'ebri': 239, 'oldei': 240, 'libum': 241, 'mami': 242, 'dedi': 243, 'merrit': 244, 'waif': 245, 'neigidbala': 246, 'sheim': 247, 'trikiwan': 248, 'klebawan': 249, 'sneik': 250, 'bambai': 251, 'reken': 252, 'minbala': 253, 'jandap': 254, 'kaan': 255, 'tatjim': 256, 'laiya': 257, 'gud': 258, 'lukinat': 259, 'jinggabat': 260, 'hasbin': 261, 'binijim': 262, 'dum': 263, 'nogudbala': 264, 'lif': 265, 'figtri': 266, 'mindimap': 267, 'gaburrumap': 268, 'kultaim': 269, 'godan': 270, 'lisin': 271, 'nois': 272, 'kaminap': 273, 'blandim': 274, 'jingat': 275, 'wujei': 276, 'aibin': 277, 'irrim': 278, 'wokwok': 279, 'iya': 280, 'bradin': 281, 'neigidwan': 282, 'hubin': 283, 'maitbi': 284, 'yubin': 285, 'bleim': 286, 'askim': 287, 'wotfo': 288, 'temtim': 289, 'panishim': 290, 'wok': 291, 'olawei': 292, 'raidap': 293, 'heidim': 294, 'gija': 295, 'smeshimap': 296, 'hed': 297, 'baidim': 298, 'fut': 299, 'beibi': 300, 'trabul': 301, 'pein': 302, 'stil': 303, 'wandim': 304, 'basdam': 305, 'adwan': 306, 'adbala': 307, 'swet': 308, 'gidap': 309, 'bodi': 310, 'gobek': 311, 'seimwan': 312, 'ebribodi': 313, 'klos': 314, 'skin': 315, 'werrimon': 316, 'ronselp': 317, 'andimwei': 318, 'einjul': 319, 'tjerabim': 320, 'bigbala': 321, 'naif': 322, 'faiya': 323, 'tenimbat': 324, 'stapam': 325, 'kaman': 326, 'gulijap': 327, 'kein': 328, 'kilim': 329, 'eibul': 330, 'silipsilip': 331, 'femiliwei': 332, 'lilboi': 333, 'album': 334, 'boi': 335, 'growap': 336, 'growimapbat': 337, 'ofring': 338, 'lilwan': 339, 'ship': 340, 'bon': 341, 'bifpat': 342, 'laigim': 343, 'tenawei': 344, 'gitwail': 345, 'temperap': 346, 'jelas': 347, 'feis': 348, 'wail': 349, 'bina': 350, 'gudbala': 351, 'wandi': 352, 'teikoba': 353, 'teiknodis': 354, 'nogudbalawei': 355, 'bidim': 356, 'braja': 357, 'yunmi': 358, 'mijamet': 359, 'duwit': 360, 'grebum': 361, 'ded': 362, 'blad': 363, 'jinginatbat': 364, 'jinginat': 365, 'peibek': 366, 'enimo': 367, 'julurum': 368, 'rili': 369, 'thestiwan': 370, 'trai': 371, 'kemp': 372, 'kipgon': 373, 'yuselp': 374, 'wokaranbat': 375, 'faindim': 376, 'sebenbala': 377, 'mak': 378, 'woning': 379, 'midim': 380, 'nad': 381, 'inak': 382, 'bildimap': 383, 'taun': 384, 'gro': 385, 'airad': 386, 'mehujeiyel': 387, 'mathusheil': 388, 'leimek': 389, 'eda': 390, 'jeibal': 391, 'jubal': 392, 'stadimof': 393, 'hu': 394, 'tent': 395, 'maindimbat': 396, 'pleibat': 397, 'gita': 398, 'blowimbat': 399, 'wisul': 400, 'sila': 401, 'tubalkein': 402, 'tul': 403, 'aiyan': 404, 'kopa': 405, 'sista': 406, 'neima': 407, 'wantaim': 408, 'yangmen': 409, 'hitim': 410, '77': 411, 'seth': 412, 'inash': 413, 'olmen': 414, '930': 415, 'yiya': 416, '105': 417, '912': 418, '90': 419, 'kenan': 420, '905': 421, '70': 422, 'mahalalel': 423, '910': 424, '65': 425, 'jered': 426, '895': 427, '162': 428, '962': 429, 'mathusala': 430, 'bilib': 431, '365': 432, 'bulurrum': 433, '187': 434, '969': 435, '777': 436, 'nowa': 437, '500': 438, 'thribala': 439, 'shem': 440, 'hem': 441, 'jeifeth': 442, 'najakain': 443, 'lukinatbat': 444, 'purdibala': 445, 'gel': 446, 'pikimat': 447, 'wujan': 448, 'imselp': 449, 'larrambat': 450, '120': 451, 'gajimap': 452, 'nefalim': 453, 'bigneim': 454, 'olataim': 455, 'nogudbinji': 456, 'dislot': 457, 'bout': 458, 'timba': 459, 'peindim': 460, 'bitjaman': 461, 'atsaid': 462, '133': 463, 'mita': 464, 'longwei': 465, '22': 466, 'kroswei': 467, '13': 468, 'streit': 469, 'apendan': 470, 'rum': 471, 'lodanwan': 472, 'midulwan': 473, 'ontopwan': 474, 'ruf': 475, 'gep': 476, 'olaran': 477, 'windo': 478, 'dowa': 479, 'said': 480, 'fladwoda': 481, 'draundim': 482, 'strongwan': 483, 'pramis': 484, 'gowin': 485, 'bridabat': 486, 'nomeda': 487, 'o': 488, 'draun': 489, 'femili': 490, 'seibum': 491, 'yusum': 492, 'buldan': 493, '40': 494, '6': 495, 'wik': 496, '600': 497, 'taim': 498, 'buligimob': 499, 'lisid': 500, 'insek': 501, 'manth': 502, 'opinap': 503, 'detmatj': 504, 'stap': 505, 'flout': 506, 'mowa': 507, 'lidimap': 508, 'haibala': 509, 'reinjis': 510, 'dip': 511, 'hil': 512, 'badaflai': 513, 'grashopa': 514, 'holot': 515, 'bifo': 516, 'fogedabat': 517, 'slobala': 518, 'mants': 519, '150': 520, 'eraret': 521, '10': 522, 'kro': 523, 'flairanbat': 524, 'larramgo': 525, 'pijin': 526, 'faindat': 527, 'nes': 528, 'leidan': 529, 'flaibek': 530, 'weit': 531, 'wanmo': 532, 'igin': 533, 'distaim': 534, 'flaiwei': 535, 'kambek': 536, '601': 537, 'drai': 538, 'opinim': 539, 'sofwan': 540, '2': 541, 'reinbo': 542, 'pailimap': 543, 'teibul': 544, 'barnimap': 545, 'sei': 546, 'theingkyu': 547, 'kukwan': 548, 'smelim': 549, 'beibitaim': 550, 'seimwei': 551, 'bush': 552, 'ebridei': 553, 'spredat': 554, 'tudei': 555, 'wokaran': 556, 'kadim': 557, 'pruf': 558, 'dringgim': 559, 'wain': 560, 'keinanait': 561, 'keinan': 562, 'greip': 563, 'git': 564, 'drangk': 565, 'yangwan': 566, 'wokin': 567}\n"
          ]
        }
      ],
      "source": [
        "print(mapping)"
      ]
    },
    {
      "cell_type": "code",
      "execution_count": null,
      "metadata": {
        "colab": {
          "base_uri": "https://localhost:8080/"
        },
        "id": "KST74LxRHLVA",
        "outputId": "fcac341f-17bb-4afb-b1b0-b12c1072b285"
      },
      "outputs": [
        {
          "output_type": "stream",
          "name": "stdout",
          "text": [
            "10/10 [==============================] - 2s 166ms/step\n"
          ]
        }
      ],
      "source": [
        "cur_words = []\n",
        "\n",
        "preds = model.predict(padded_x)\n",
        "all_words = []\n",
        "map_list = mapping.items()\n",
        "\n",
        "for pred in preds:\n",
        "    for i, val in enumerate(pred):\n",
        "        if val > 0.25:\n",
        "          cur_words.append(''.join([item[0] for item in map_list if item[1] == i]))\n",
        "\n",
        "    all_words.append(' '.join(cur_words))"
      ]
    },
    {
      "cell_type": "code",
      "source": [
        "print(all_words[0])"
      ],
      "metadata": {
        "colab": {
          "base_uri": "https://localhost:8080/"
        },
        "id": "fQSQ_eEVSj3N",
        "outputId": "d34a5ff9-71c8-48f7-e9b7-f50ceb1e6edf"
      },
      "execution_count": null,
      "outputs": [
        {
          "output_type": "stream",
          "name": "stdout",
          "text": [
            " jenasis basdamwan stori dijan garram blanga god meigim ebrijing en afta edam ib dubala orait longtaim meigimbat nomo enijing jidan jis oni strongbala goran ebriwei brabli dakbala spirit ontop tok lait streidawei kamat luk gudwan gudbinji kadimat gulum gowei\n"
          ]
        }
      ]
    },
    {
      "cell_type": "code",
      "source": [
        "use_y = []\n",
        "\n",
        "for row in clean_y:\n",
        "    use_y.append(' '.join(row))"
      ],
      "metadata": {
        "id": "-rQm9kUwS5lZ"
      },
      "execution_count": null,
      "outputs": []
    },
    {
      "cell_type": "code",
      "source": [
        "!pip install evaluate\n",
        "!pip install jiwer"
      ],
      "metadata": {
        "colab": {
          "base_uri": "https://localhost:8080/"
        },
        "id": "VaTqOLYIRcq_",
        "outputId": "9f506e16-9f2a-49f1-d04c-3d6ca726f8d3"
      },
      "execution_count": null,
      "outputs": [
        {
          "output_type": "stream",
          "name": "stdout",
          "text": [
            "Looking in indexes: https://pypi.org/simple, https://us-python.pkg.dev/colab-wheels/public/simple/\n",
            "Requirement already satisfied: evaluate in /usr/local/lib/python3.8/dist-packages (0.3.0)\n",
            "Requirement already satisfied: datasets>=2.0.0 in /usr/local/lib/python3.8/dist-packages (from evaluate) (2.7.1)\n",
            "Requirement already satisfied: numpy>=1.17 in /usr/local/lib/python3.8/dist-packages (from evaluate) (1.21.6)\n",
            "Requirement already satisfied: multiprocess in /usr/local/lib/python3.8/dist-packages (from evaluate) (0.70.14)\n",
            "Requirement already satisfied: packaging in /usr/local/lib/python3.8/dist-packages (from evaluate) (21.3)\n",
            "Requirement already satisfied: fsspec[http]>=2021.05.0 in /usr/local/lib/python3.8/dist-packages (from evaluate) (2022.11.0)\n",
            "Requirement already satisfied: responses<0.19 in /usr/local/lib/python3.8/dist-packages (from evaluate) (0.18.0)\n",
            "Requirement already satisfied: xxhash in /usr/local/lib/python3.8/dist-packages (from evaluate) (3.1.0)\n",
            "Requirement already satisfied: huggingface-hub>=0.7.0 in /usr/local/lib/python3.8/dist-packages (from evaluate) (0.11.1)\n",
            "Requirement already satisfied: dill in /usr/local/lib/python3.8/dist-packages (from evaluate) (0.3.6)\n",
            "Requirement already satisfied: tqdm>=4.62.1 in /usr/local/lib/python3.8/dist-packages (from evaluate) (4.64.1)\n",
            "Requirement already satisfied: pandas in /usr/local/lib/python3.8/dist-packages (from evaluate) (1.3.5)\n",
            "Requirement already satisfied: requests>=2.19.0 in /usr/local/lib/python3.8/dist-packages (from evaluate) (2.23.0)\n",
            "Requirement already satisfied: pyyaml>=5.1 in /usr/local/lib/python3.8/dist-packages (from datasets>=2.0.0->evaluate) (6.0)\n",
            "Requirement already satisfied: pyarrow>=6.0.0 in /usr/local/lib/python3.8/dist-packages (from datasets>=2.0.0->evaluate) (9.0.0)\n",
            "Requirement already satisfied: aiohttp in /usr/local/lib/python3.8/dist-packages (from datasets>=2.0.0->evaluate) (3.8.3)\n",
            "Requirement already satisfied: attrs>=17.3.0 in /usr/local/lib/python3.8/dist-packages (from aiohttp->datasets>=2.0.0->evaluate) (22.1.0)\n",
            "Requirement already satisfied: yarl<2.0,>=1.0 in /usr/local/lib/python3.8/dist-packages (from aiohttp->datasets>=2.0.0->evaluate) (1.8.1)\n",
            "Requirement already satisfied: multidict<7.0,>=4.5 in /usr/local/lib/python3.8/dist-packages (from aiohttp->datasets>=2.0.0->evaluate) (6.0.2)\n",
            "Requirement already satisfied: aiosignal>=1.1.2 in /usr/local/lib/python3.8/dist-packages (from aiohttp->datasets>=2.0.0->evaluate) (1.3.1)\n",
            "Requirement already satisfied: charset-normalizer<3.0,>=2.0 in /usr/local/lib/python3.8/dist-packages (from aiohttp->datasets>=2.0.0->evaluate) (2.1.1)\n",
            "Requirement already satisfied: async-timeout<5.0,>=4.0.0a3 in /usr/local/lib/python3.8/dist-packages (from aiohttp->datasets>=2.0.0->evaluate) (4.0.2)\n",
            "Requirement already satisfied: frozenlist>=1.1.1 in /usr/local/lib/python3.8/dist-packages (from aiohttp->datasets>=2.0.0->evaluate) (1.3.3)\n",
            "Requirement already satisfied: filelock in /usr/local/lib/python3.8/dist-packages (from huggingface-hub>=0.7.0->evaluate) (3.8.0)\n",
            "Requirement already satisfied: typing-extensions>=3.7.4.3 in /usr/local/lib/python3.8/dist-packages (from huggingface-hub>=0.7.0->evaluate) (4.1.1)\n",
            "Requirement already satisfied: pyparsing!=3.0.5,>=2.0.2 in /usr/local/lib/python3.8/dist-packages (from packaging->evaluate) (3.0.9)\n",
            "Requirement already satisfied: certifi>=2017.4.17 in /usr/local/lib/python3.8/dist-packages (from requests>=2.19.0->evaluate) (2022.9.24)\n",
            "Requirement already satisfied: chardet<4,>=3.0.2 in /usr/local/lib/python3.8/dist-packages (from requests>=2.19.0->evaluate) (3.0.4)\n",
            "Requirement already satisfied: urllib3!=1.25.0,!=1.25.1,<1.26,>=1.21.1 in /usr/local/lib/python3.8/dist-packages (from requests>=2.19.0->evaluate) (1.25.11)\n",
            "Requirement already satisfied: idna<3,>=2.5 in /usr/local/lib/python3.8/dist-packages (from requests>=2.19.0->evaluate) (2.10)\n",
            "Requirement already satisfied: python-dateutil>=2.7.3 in /usr/local/lib/python3.8/dist-packages (from pandas->evaluate) (2.8.2)\n",
            "Requirement already satisfied: pytz>=2017.3 in /usr/local/lib/python3.8/dist-packages (from pandas->evaluate) (2022.6)\n",
            "Requirement already satisfied: six>=1.5 in /usr/local/lib/python3.8/dist-packages (from python-dateutil>=2.7.3->pandas->evaluate) (1.15.0)\n",
            "Looking in indexes: https://pypi.org/simple, https://us-python.pkg.dev/colab-wheels/public/simple/\n",
            "Collecting jiwer\n",
            "  Using cached jiwer-2.5.1-py3-none-any.whl (15 kB)\n",
            "Collecting levenshtein==0.20.2\n",
            "  Using cached Levenshtein-0.20.2-cp38-cp38-manylinux_2_17_x86_64.manylinux2014_x86_64.whl (1.4 MB)\n",
            "Collecting rapidfuzz<3.0.0,>=2.3.0\n",
            "  Downloading rapidfuzz-2.13.3-cp38-cp38-manylinux_2_17_x86_64.manylinux2014_x86_64.whl (2.2 MB)\n",
            "\u001b[K     |████████████████████████████████| 2.2 MB 4.2 MB/s \n",
            "\u001b[?25hInstalling collected packages: rapidfuzz, levenshtein, jiwer\n",
            "Successfully installed jiwer-2.5.1 levenshtein-0.20.2 rapidfuzz-2.13.3\n"
          ]
        }
      ]
    },
    {
      "cell_type": "code",
      "source": [
        "from evaluate import load"
      ],
      "metadata": {
        "id": "vNRe5dMzReIa"
      },
      "execution_count": null,
      "outputs": []
    },
    {
      "cell_type": "code",
      "source": [
        "cer = load('cer')\n",
        "cer_score = cer.compute(predictions=all_words, references=use_y)\n",
        "print(cer_score)"
      ],
      "metadata": {
        "colab": {
          "base_uri": "https://localhost:8080/"
        },
        "id": "Ym9AwIXGRfRA",
        "outputId": "778bd8dd-13b7-4e1c-a9f7-55789e65a619"
      },
      "execution_count": null,
      "outputs": [
        {
          "output_type": "stream",
          "name": "stdout",
          "text": [
            "445.6752792009141\n"
          ]
        }
      ]
    },
    {
      "cell_type": "code",
      "source": [
        "wer = load('wer')\n",
        "wer_score = wer.compute(predictions=all_words, references=use_y)\n",
        "print(wer_score)"
      ],
      "metadata": {
        "colab": {
          "base_uri": "https://localhost:8080/",
          "height": 66,
          "referenced_widgets": [
            "74152e333cfd40b6b98f8b91715bf810",
            "7fef6e33b46f48108bc8e02ac498472a",
            "f5075bd8bc134274bcf97044089f9345",
            "c80b127e1eaf4dd4b255c5997209bcb3",
            "91862f708a0b4b708669e8c64ab04609",
            "0198843d58fd48cc9d1295496d31e830",
            "149b249575e346e384e1713ad6e3f9e0",
            "fce2d209b58b405ba2da276d38d32794",
            "68f6a8731d794239bf2570e760a2a236",
            "fa513bd3d7dd4d489b395931b8e2e8d2",
            "bd9da74c63004f6c9818fddc3efdbc34"
          ]
        },
        "id": "Bd0EfAMtRgQp",
        "outputId": "90187b24-d900-4047-a64b-48a847fb8a5d"
      },
      "execution_count": null,
      "outputs": [
        {
          "output_type": "display_data",
          "data": {
            "text/plain": [
              "Downloading builder script:   0%|          | 0.00/4.49k [00:00<?, ?B/s]"
            ],
            "application/vnd.jupyter.widget-view+json": {
              "version_major": 2,
              "version_minor": 0,
              "model_id": "74152e333cfd40b6b98f8b91715bf810"
            }
          },
          "metadata": {}
        },
        {
          "output_type": "stream",
          "name": "stdout",
          "text": [
            "358.06532368472523\n"
          ]
        }
      ]
    }
  ],
  "metadata": {
    "colab": {
      "machine_shape": "hm",
      "provenance": [],
      "authorship_tag": "ABX9TyNL4o//Wz7ez/ok8aHeVrXx",
      "include_colab_link": true
    },
    "gpuClass": "standard",
    "kernelspec": {
      "display_name": "Python 3",
      "name": "python3"
    },
    "language_info": {
      "name": "python"
    },
    "widgets": {
      "application/vnd.jupyter.widget-state+json": {
        "74152e333cfd40b6b98f8b91715bf810": {
          "model_module": "@jupyter-widgets/controls",
          "model_name": "HBoxModel",
          "model_module_version": "1.5.0",
          "state": {
            "_dom_classes": [],
            "_model_module": "@jupyter-widgets/controls",
            "_model_module_version": "1.5.0",
            "_model_name": "HBoxModel",
            "_view_count": null,
            "_view_module": "@jupyter-widgets/controls",
            "_view_module_version": "1.5.0",
            "_view_name": "HBoxView",
            "box_style": "",
            "children": [
              "IPY_MODEL_7fef6e33b46f48108bc8e02ac498472a",
              "IPY_MODEL_f5075bd8bc134274bcf97044089f9345",
              "IPY_MODEL_c80b127e1eaf4dd4b255c5997209bcb3"
            ],
            "layout": "IPY_MODEL_91862f708a0b4b708669e8c64ab04609"
          }
        },
        "7fef6e33b46f48108bc8e02ac498472a": {
          "model_module": "@jupyter-widgets/controls",
          "model_name": "HTMLModel",
          "model_module_version": "1.5.0",
          "state": {
            "_dom_classes": [],
            "_model_module": "@jupyter-widgets/controls",
            "_model_module_version": "1.5.0",
            "_model_name": "HTMLModel",
            "_view_count": null,
            "_view_module": "@jupyter-widgets/controls",
            "_view_module_version": "1.5.0",
            "_view_name": "HTMLView",
            "description": "",
            "description_tooltip": null,
            "layout": "IPY_MODEL_0198843d58fd48cc9d1295496d31e830",
            "placeholder": "​",
            "style": "IPY_MODEL_149b249575e346e384e1713ad6e3f9e0",
            "value": "Downloading builder script: 100%"
          }
        },
        "f5075bd8bc134274bcf97044089f9345": {
          "model_module": "@jupyter-widgets/controls",
          "model_name": "FloatProgressModel",
          "model_module_version": "1.5.0",
          "state": {
            "_dom_classes": [],
            "_model_module": "@jupyter-widgets/controls",
            "_model_module_version": "1.5.0",
            "_model_name": "FloatProgressModel",
            "_view_count": null,
            "_view_module": "@jupyter-widgets/controls",
            "_view_module_version": "1.5.0",
            "_view_name": "ProgressView",
            "bar_style": "success",
            "description": "",
            "description_tooltip": null,
            "layout": "IPY_MODEL_fce2d209b58b405ba2da276d38d32794",
            "max": 4485,
            "min": 0,
            "orientation": "horizontal",
            "style": "IPY_MODEL_68f6a8731d794239bf2570e760a2a236",
            "value": 4485
          }
        },
        "c80b127e1eaf4dd4b255c5997209bcb3": {
          "model_module": "@jupyter-widgets/controls",
          "model_name": "HTMLModel",
          "model_module_version": "1.5.0",
          "state": {
            "_dom_classes": [],
            "_model_module": "@jupyter-widgets/controls",
            "_model_module_version": "1.5.0",
            "_model_name": "HTMLModel",
            "_view_count": null,
            "_view_module": "@jupyter-widgets/controls",
            "_view_module_version": "1.5.0",
            "_view_name": "HTMLView",
            "description": "",
            "description_tooltip": null,
            "layout": "IPY_MODEL_fa513bd3d7dd4d489b395931b8e2e8d2",
            "placeholder": "​",
            "style": "IPY_MODEL_bd9da74c63004f6c9818fddc3efdbc34",
            "value": " 4.49k/4.49k [00:00&lt;00:00, 154kB/s]"
          }
        },
        "91862f708a0b4b708669e8c64ab04609": {
          "model_module": "@jupyter-widgets/base",
          "model_name": "LayoutModel",
          "model_module_version": "1.2.0",
          "state": {
            "_model_module": "@jupyter-widgets/base",
            "_model_module_version": "1.2.0",
            "_model_name": "LayoutModel",
            "_view_count": null,
            "_view_module": "@jupyter-widgets/base",
            "_view_module_version": "1.2.0",
            "_view_name": "LayoutView",
            "align_content": null,
            "align_items": null,
            "align_self": null,
            "border": null,
            "bottom": null,
            "display": null,
            "flex": null,
            "flex_flow": null,
            "grid_area": null,
            "grid_auto_columns": null,
            "grid_auto_flow": null,
            "grid_auto_rows": null,
            "grid_column": null,
            "grid_gap": null,
            "grid_row": null,
            "grid_template_areas": null,
            "grid_template_columns": null,
            "grid_template_rows": null,
            "height": null,
            "justify_content": null,
            "justify_items": null,
            "left": null,
            "margin": null,
            "max_height": null,
            "max_width": null,
            "min_height": null,
            "min_width": null,
            "object_fit": null,
            "object_position": null,
            "order": null,
            "overflow": null,
            "overflow_x": null,
            "overflow_y": null,
            "padding": null,
            "right": null,
            "top": null,
            "visibility": null,
            "width": null
          }
        },
        "0198843d58fd48cc9d1295496d31e830": {
          "model_module": "@jupyter-widgets/base",
          "model_name": "LayoutModel",
          "model_module_version": "1.2.0",
          "state": {
            "_model_module": "@jupyter-widgets/base",
            "_model_module_version": "1.2.0",
            "_model_name": "LayoutModel",
            "_view_count": null,
            "_view_module": "@jupyter-widgets/base",
            "_view_module_version": "1.2.0",
            "_view_name": "LayoutView",
            "align_content": null,
            "align_items": null,
            "align_self": null,
            "border": null,
            "bottom": null,
            "display": null,
            "flex": null,
            "flex_flow": null,
            "grid_area": null,
            "grid_auto_columns": null,
            "grid_auto_flow": null,
            "grid_auto_rows": null,
            "grid_column": null,
            "grid_gap": null,
            "grid_row": null,
            "grid_template_areas": null,
            "grid_template_columns": null,
            "grid_template_rows": null,
            "height": null,
            "justify_content": null,
            "justify_items": null,
            "left": null,
            "margin": null,
            "max_height": null,
            "max_width": null,
            "min_height": null,
            "min_width": null,
            "object_fit": null,
            "object_position": null,
            "order": null,
            "overflow": null,
            "overflow_x": null,
            "overflow_y": null,
            "padding": null,
            "right": null,
            "top": null,
            "visibility": null,
            "width": null
          }
        },
        "149b249575e346e384e1713ad6e3f9e0": {
          "model_module": "@jupyter-widgets/controls",
          "model_name": "DescriptionStyleModel",
          "model_module_version": "1.5.0",
          "state": {
            "_model_module": "@jupyter-widgets/controls",
            "_model_module_version": "1.5.0",
            "_model_name": "DescriptionStyleModel",
            "_view_count": null,
            "_view_module": "@jupyter-widgets/base",
            "_view_module_version": "1.2.0",
            "_view_name": "StyleView",
            "description_width": ""
          }
        },
        "fce2d209b58b405ba2da276d38d32794": {
          "model_module": "@jupyter-widgets/base",
          "model_name": "LayoutModel",
          "model_module_version": "1.2.0",
          "state": {
            "_model_module": "@jupyter-widgets/base",
            "_model_module_version": "1.2.0",
            "_model_name": "LayoutModel",
            "_view_count": null,
            "_view_module": "@jupyter-widgets/base",
            "_view_module_version": "1.2.0",
            "_view_name": "LayoutView",
            "align_content": null,
            "align_items": null,
            "align_self": null,
            "border": null,
            "bottom": null,
            "display": null,
            "flex": null,
            "flex_flow": null,
            "grid_area": null,
            "grid_auto_columns": null,
            "grid_auto_flow": null,
            "grid_auto_rows": null,
            "grid_column": null,
            "grid_gap": null,
            "grid_row": null,
            "grid_template_areas": null,
            "grid_template_columns": null,
            "grid_template_rows": null,
            "height": null,
            "justify_content": null,
            "justify_items": null,
            "left": null,
            "margin": null,
            "max_height": null,
            "max_width": null,
            "min_height": null,
            "min_width": null,
            "object_fit": null,
            "object_position": null,
            "order": null,
            "overflow": null,
            "overflow_x": null,
            "overflow_y": null,
            "padding": null,
            "right": null,
            "top": null,
            "visibility": null,
            "width": null
          }
        },
        "68f6a8731d794239bf2570e760a2a236": {
          "model_module": "@jupyter-widgets/controls",
          "model_name": "ProgressStyleModel",
          "model_module_version": "1.5.0",
          "state": {
            "_model_module": "@jupyter-widgets/controls",
            "_model_module_version": "1.5.0",
            "_model_name": "ProgressStyleModel",
            "_view_count": null,
            "_view_module": "@jupyter-widgets/base",
            "_view_module_version": "1.2.0",
            "_view_name": "StyleView",
            "bar_color": null,
            "description_width": ""
          }
        },
        "fa513bd3d7dd4d489b395931b8e2e8d2": {
          "model_module": "@jupyter-widgets/base",
          "model_name": "LayoutModel",
          "model_module_version": "1.2.0",
          "state": {
            "_model_module": "@jupyter-widgets/base",
            "_model_module_version": "1.2.0",
            "_model_name": "LayoutModel",
            "_view_count": null,
            "_view_module": "@jupyter-widgets/base",
            "_view_module_version": "1.2.0",
            "_view_name": "LayoutView",
            "align_content": null,
            "align_items": null,
            "align_self": null,
            "border": null,
            "bottom": null,
            "display": null,
            "flex": null,
            "flex_flow": null,
            "grid_area": null,
            "grid_auto_columns": null,
            "grid_auto_flow": null,
            "grid_auto_rows": null,
            "grid_column": null,
            "grid_gap": null,
            "grid_row": null,
            "grid_template_areas": null,
            "grid_template_columns": null,
            "grid_template_rows": null,
            "height": null,
            "justify_content": null,
            "justify_items": null,
            "left": null,
            "margin": null,
            "max_height": null,
            "max_width": null,
            "min_height": null,
            "min_width": null,
            "object_fit": null,
            "object_position": null,
            "order": null,
            "overflow": null,
            "overflow_x": null,
            "overflow_y": null,
            "padding": null,
            "right": null,
            "top": null,
            "visibility": null,
            "width": null
          }
        },
        "bd9da74c63004f6c9818fddc3efdbc34": {
          "model_module": "@jupyter-widgets/controls",
          "model_name": "DescriptionStyleModel",
          "model_module_version": "1.5.0",
          "state": {
            "_model_module": "@jupyter-widgets/controls",
            "_model_module_version": "1.5.0",
            "_model_name": "DescriptionStyleModel",
            "_view_count": null,
            "_view_module": "@jupyter-widgets/base",
            "_view_module_version": "1.2.0",
            "_view_name": "StyleView",
            "description_width": ""
          }
        }
      }
    }
  },
  "nbformat": 4,
  "nbformat_minor": 0
}