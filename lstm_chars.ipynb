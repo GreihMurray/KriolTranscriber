{
  "cells": [
    {
      "cell_type": "markdown",
      "metadata": {
        "id": "view-in-github",
        "colab_type": "text"
      },
      "source": [
        "<a href=\"https://colab.research.google.com/github/GreihMurray/KriolTranscriber/blob/master/lstm_chars.ipynb\" target=\"_parent\"><img src=\"https://colab.research.google.com/assets/colab-badge.svg\" alt=\"Open In Colab\"/></a>"
      ]
    },
    {
      "cell_type": "code",
      "execution_count": null,
      "metadata": {
        "colab": {
          "base_uri": "https://localhost:8080/"
        },
        "id": "E4H4aOYQJdg_",
        "outputId": "ad59ff42-7c43-4328-a259-71c2911e5f7e"
      },
      "outputs": [
        {
          "name": "stdout",
          "output_type": "stream",
          "text": [
            "Looking in indexes: https://pypi.org/simple, https://us-python.pkg.dev/colab-wheels/public/simple/\n",
            "Collecting evaluate\n",
            "  Downloading evaluate-0.3.0-py3-none-any.whl (72 kB)\n",
            "\u001b[K     |████████████████████████████████| 72 kB 1.4 MB/s \n",
            "\u001b[?25hRequirement already satisfied: requests>=2.19.0 in /usr/local/lib/python3.8/dist-packages (from evaluate) (2.23.0)\n",
            "Requirement already satisfied: dill in /usr/local/lib/python3.8/dist-packages (from evaluate) (0.3.6)\n",
            "Collecting huggingface-hub>=0.7.0\n",
            "  Downloading huggingface_hub-0.11.1-py3-none-any.whl (182 kB)\n",
            "\u001b[K     |████████████████████████████████| 182 kB 28.2 MB/s \n",
            "\u001b[?25hRequirement already satisfied: packaging in /usr/local/lib/python3.8/dist-packages (from evaluate) (21.3)\n",
            "Collecting datasets>=2.0.0\n",
            "  Downloading datasets-2.7.1-py3-none-any.whl (451 kB)\n",
            "\u001b[K     |████████████████████████████████| 451 kB 68.2 MB/s \n",
            "\u001b[?25hRequirement already satisfied: tqdm>=4.62.1 in /usr/local/lib/python3.8/dist-packages (from evaluate) (4.64.1)\n",
            "Requirement already satisfied: numpy>=1.17 in /usr/local/lib/python3.8/dist-packages (from evaluate) (1.21.6)\n",
            "Collecting xxhash\n",
            "  Downloading xxhash-3.1.0-cp38-cp38-manylinux_2_17_x86_64.manylinux2014_x86_64.whl (212 kB)\n",
            "\u001b[K     |████████████████████████████████| 212 kB 68.0 MB/s \n",
            "\u001b[?25hCollecting multiprocess\n",
            "  Downloading multiprocess-0.70.14-py38-none-any.whl (132 kB)\n",
            "\u001b[K     |████████████████████████████████| 132 kB 72.7 MB/s \n",
            "\u001b[?25hRequirement already satisfied: pandas in /usr/local/lib/python3.8/dist-packages (from evaluate) (1.3.5)\n",
            "Requirement already satisfied: fsspec[http]>=2021.05.0 in /usr/local/lib/python3.8/dist-packages (from evaluate) (2022.11.0)\n",
            "Collecting responses<0.19\n",
            "  Downloading responses-0.18.0-py3-none-any.whl (38 kB)\n",
            "Requirement already satisfied: pyyaml>=5.1 in /usr/local/lib/python3.8/dist-packages (from datasets>=2.0.0->evaluate) (6.0)\n",
            "Requirement already satisfied: aiohttp in /usr/local/lib/python3.8/dist-packages (from datasets>=2.0.0->evaluate) (3.8.3)\n",
            "Requirement already satisfied: pyarrow>=6.0.0 in /usr/local/lib/python3.8/dist-packages (from datasets>=2.0.0->evaluate) (9.0.0)\n",
            "Requirement already satisfied: frozenlist>=1.1.1 in /usr/local/lib/python3.8/dist-packages (from aiohttp->datasets>=2.0.0->evaluate) (1.3.3)\n",
            "Requirement already satisfied: attrs>=17.3.0 in /usr/local/lib/python3.8/dist-packages (from aiohttp->datasets>=2.0.0->evaluate) (22.1.0)\n",
            "Requirement already satisfied: yarl<2.0,>=1.0 in /usr/local/lib/python3.8/dist-packages (from aiohttp->datasets>=2.0.0->evaluate) (1.8.1)\n",
            "Requirement already satisfied: charset-normalizer<3.0,>=2.0 in /usr/local/lib/python3.8/dist-packages (from aiohttp->datasets>=2.0.0->evaluate) (2.1.1)\n",
            "Requirement already satisfied: async-timeout<5.0,>=4.0.0a3 in /usr/local/lib/python3.8/dist-packages (from aiohttp->datasets>=2.0.0->evaluate) (4.0.2)\n",
            "Requirement already satisfied: multidict<7.0,>=4.5 in /usr/local/lib/python3.8/dist-packages (from aiohttp->datasets>=2.0.0->evaluate) (6.0.2)\n",
            "Requirement already satisfied: aiosignal>=1.1.2 in /usr/local/lib/python3.8/dist-packages (from aiohttp->datasets>=2.0.0->evaluate) (1.3.1)\n",
            "Requirement already satisfied: typing-extensions>=3.7.4.3 in /usr/local/lib/python3.8/dist-packages (from huggingface-hub>=0.7.0->evaluate) (4.1.1)\n",
            "Requirement already satisfied: filelock in /usr/local/lib/python3.8/dist-packages (from huggingface-hub>=0.7.0->evaluate) (3.8.0)\n",
            "Requirement already satisfied: pyparsing!=3.0.5,>=2.0.2 in /usr/local/lib/python3.8/dist-packages (from packaging->evaluate) (3.0.9)\n",
            "Requirement already satisfied: certifi>=2017.4.17 in /usr/local/lib/python3.8/dist-packages (from requests>=2.19.0->evaluate) (2022.9.24)\n",
            "Requirement already satisfied: idna<3,>=2.5 in /usr/local/lib/python3.8/dist-packages (from requests>=2.19.0->evaluate) (2.10)\n",
            "Requirement already satisfied: chardet<4,>=3.0.2 in /usr/local/lib/python3.8/dist-packages (from requests>=2.19.0->evaluate) (3.0.4)\n",
            "Requirement already satisfied: urllib3!=1.25.0,!=1.25.1,<1.26,>=1.21.1 in /usr/local/lib/python3.8/dist-packages (from requests>=2.19.0->evaluate) (1.24.3)\n",
            "Collecting urllib3!=1.25.0,!=1.25.1,<1.26,>=1.21.1\n",
            "  Downloading urllib3-1.25.11-py2.py3-none-any.whl (127 kB)\n",
            "\u001b[K     |████████████████████████████████| 127 kB 53.5 MB/s \n",
            "\u001b[?25hRequirement already satisfied: pytz>=2017.3 in /usr/local/lib/python3.8/dist-packages (from pandas->evaluate) (2022.6)\n",
            "Requirement already satisfied: python-dateutil>=2.7.3 in /usr/local/lib/python3.8/dist-packages (from pandas->evaluate) (2.8.2)\n",
            "Requirement already satisfied: six>=1.5 in /usr/local/lib/python3.8/dist-packages (from python-dateutil>=2.7.3->pandas->evaluate) (1.15.0)\n",
            "Installing collected packages: urllib3, xxhash, responses, multiprocess, huggingface-hub, datasets, evaluate\n",
            "  Attempting uninstall: urllib3\n",
            "    Found existing installation: urllib3 1.24.3\n",
            "    Uninstalling urllib3-1.24.3:\n",
            "      Successfully uninstalled urllib3-1.24.3\n",
            "Successfully installed datasets-2.7.1 evaluate-0.3.0 huggingface-hub-0.11.1 multiprocess-0.70.14 responses-0.18.0 urllib3-1.25.11 xxhash-3.1.0\n",
            "Looking in indexes: https://pypi.org/simple, https://us-python.pkg.dev/colab-wheels/public/simple/\n",
            "Collecting jiwer\n",
            "  Downloading jiwer-2.5.1-py3-none-any.whl (15 kB)\n",
            "Collecting levenshtein==0.20.2\n",
            "  Downloading Levenshtein-0.20.2-cp38-cp38-manylinux_2_17_x86_64.manylinux2014_x86_64.whl (1.4 MB)\n",
            "\u001b[K     |████████████████████████████████| 1.4 MB 17.0 MB/s \n",
            "\u001b[?25hCollecting rapidfuzz<3.0.0,>=2.3.0\n",
            "  Downloading rapidfuzz-2.13.3-cp38-cp38-manylinux_2_17_x86_64.manylinux2014_x86_64.whl (2.2 MB)\n",
            "\u001b[K     |████████████████████████████████| 2.2 MB 69.1 MB/s \n",
            "\u001b[?25hInstalling collected packages: rapidfuzz, levenshtein, jiwer\n",
            "Successfully installed jiwer-2.5.1 levenshtein-0.20.2 rapidfuzz-2.13.3\n"
          ]
        }
      ],
      "source": [
        "!pip install evaluate\n",
        "!pip install jiwer"
      ]
    },
    {
      "cell_type": "code",
      "execution_count": null,
      "metadata": {
        "id": "tiEm2CJT-ufY"
      },
      "outputs": [],
      "source": [
        "from keras.utils import to_categorical\n",
        "from tensorflow.keras.models import Sequential\n",
        "from keras.utils.vis_utils import plot_model\n",
        "import tensorflow as tf\n",
        "from tensorflow.keras import activations\n",
        "import numpy as np\n",
        "from evaluate import load\n",
        "import itertools\n",
        "from scipy.io import wavfile\n",
        "from keras import backend as K\n",
        "from tensorflow.keras.layers import LSTM, Embedding, Dense, TimeDistributed, Dropout, Bidirectional, Reshape, GRU, Flatten, Activation"
      ]
    },
    {
      "cell_type": "code",
      "execution_count": null,
      "metadata": {
        "id": "5Yl8pSEy8_hu"
      },
      "outputs": [],
      "source": [
        "import math, random\n",
        "import torch\n",
        "import torchaudio\n",
        "from torchaudio import transforms\n",
        "import pandas as pd\n",
        "from tqdm import tqdm\n",
        "import os\n",
        "import unicodedata\n",
        "import re\n",
        "from keras.models import load_model"
      ]
    },
    {
      "cell_type": "code",
      "execution_count": null,
      "metadata": {
        "colab": {
          "base_uri": "https://localhost:8080/"
        },
        "id": "nzyMxwpr9E2o",
        "outputId": "105798a4-1004-4e2f-8b8f-733b6f3235d9"
      },
      "outputs": [
        {
          "name": "stdout",
          "output_type": "stream",
          "text": [
            "Mounted at /content/gdrive\n"
          ]
        }
      ],
      "source": [
        "from google.colab import drive\n",
        "\n",
        "drive.mount('/content/gdrive')"
      ]
    },
    {
      "cell_type": "code",
      "execution_count": null,
      "metadata": {
        "id": "u-KbCzwD9F7D"
      },
      "outputs": [],
      "source": [
        "DEFAULT_DIR = '/content/gdrive/MyDrive/Colab_Notebooks/NLP/project/'\n",
        "SR = 44100"
      ]
    },
    {
      "cell_type": "code",
      "execution_count": null,
      "metadata": {
        "id": "Ujj8a26e9HOp"
      },
      "outputs": [],
      "source": [
        "def load_html_data(dir_ext):\n",
        "    all_data = []\n",
        "    chars_to_replace = '.,;:<>?/\\'\\\\[]()!#$%\"”“'\n",
        "    directory = DEFAULT_DIR + 'html/' + dir_ext + '/'\n",
        "\n",
        "    dir_files = sorted(os.listdir(directory))\n",
        "\n",
        "    for file in tqdm(dir_files, desc='Loading HTML Data'):\n",
        "        file = directory + file\n",
        "        divs = []\n",
        "        with open(file, 'r', encoding='UTF-8') as in_file:\n",
        "            data = ' '.join(in_file.readlines())\n",
        "            data = unicodedata.normalize('NFC', data)\n",
        "            data = re.sub(r'<span class=.*?</span>', '', data)\n",
        "            data = re.sub(r'<a.*?</a>', '', data)\n",
        "            data = data.replace(u'\\xa0', u' ')\n",
        "            check_divs = re.findall(r'<div class=\\'mt\\'.*?>(.*?) </div>', data)\n",
        "            check_divs.extend(re.findall(r'<div class=\\'mt2\\'.*?>(.*?) </div>', data))\n",
        "            # print(data)\n",
        "            check_divs.extend(re.findall(r'<div class=\\'ip\\'>(.*)', data))\n",
        "\n",
        "            if len(check_divs) > 0:\n",
        "                full = '!'.join(check_divs)\n",
        "                full = re.sub(r'[\\,,@,#,$,%,^,&,*,(,),\\[,\\],\\',\\\",;,:,“,”,‘,’]', '', full)\n",
        "                full = re.sub('^\\s+', ' ', full).strip('\\u00A0')\n",
        "                full = re.split('[\\.,\\?,!,\\n]', str(full))\n",
        "                all_data.extend([s.strip() for s in full])\n",
        "\n",
        "            divs.extend(re.findall(r'<div class=\\'[p,s]\\'.*?>(.*?) </div>', data))\n",
        "\n",
        "        full_data = '!'.join(divs)\n",
        "        full_data = re.sub(r'[\\,,@,#,$,%,^,&,*,(,),\\[,\\],\\',\\\",;,:,“,”,‘,’]', '', full_data)\n",
        "        full_data = re.sub(' +', ' ', full_data)\n",
        "        full_data = re.split('[\\.,\\?,!,\\n]', str(full_data))\n",
        "\n",
        "        all_data.extend([s.strip() for s in full_data])\n",
        "\n",
        "        clean = []\n",
        "        for row2 in all_data:\n",
        "            if len(row2) >= 1:\n",
        "                clean.append(row2.lower())\n",
        "\n",
        "    return clean"
      ]
    },
    {
      "cell_type": "code",
      "execution_count": null,
      "metadata": {
        "id": "WxujUpiQ9IjU"
      },
      "outputs": [],
      "source": [
        "def load_dataset(dir_ext):\n",
        "    transcripts = load_html_data(dir_ext)\n",
        "    all_x = []\n",
        "    all_y = []\n",
        "    directory = DEFAULT_DIR + 'audio/' + dir_ext + '/'\n",
        "\n",
        "    order = []\n",
        "\n",
        "    dir_files = sorted(os.listdir(directory))\n",
        "\n",
        "    for i, file in tqdm(enumerate(dir_files), desc='Loading Audio Data & Creating Dataset'):\n",
        "        file = directory + file\n",
        "        \n",
        "        sr, data = wavfile.read(file)\n",
        "\n",
        "        max_len = SR//1000 * 15000\n",
        "\n",
        "        if len(data) > max_len:\n",
        "          continue\n",
        "\n",
        "        all_x.append(data)\n",
        "        all_y.append(transcripts[i])\n",
        "\n",
        "\n",
        "    return pd.DataFrame(list(zip(all_x, all_y)), columns=['audio', 'transcription'])"
      ]
    },
    {
      "cell_type": "code",
      "execution_count": null,
      "metadata": {
        "id": "FQb1aO129R-t"
      },
      "outputs": [],
      "source": [
        "def one_hot(data, test_data, map_use):\n",
        "    mapping = {}\n",
        "    mapped = []\n",
        "\n",
        "    i = 0\n",
        "\n",
        "    if not test_data:\n",
        "        for sentence in data:\n",
        "          cur_map = []\n",
        "          for word in sentence:\n",
        "              if word in mapping.keys():\n",
        "                cur_map.append(mapping[word])\n",
        "              else:\n",
        "                i += 1\n",
        "                cur_map.append(i)\n",
        "                mapping[word] = i\n",
        "                \n",
        "          mapped.append(cur_map)\n",
        "    else:\n",
        "        for sentence in data:\n",
        "          cur_map = []\n",
        "          for word in sentence:\n",
        "              if word in map_use.keys():\n",
        "                cur_map.append(map_use[word])\n",
        "              else:\n",
        "                i += 1\n",
        "                cur_map.append(i)\n",
        "                map_use[word] = i\n",
        "                \n",
        "          mapped.append(cur_map)\n",
        "      \n",
        "    return mapped, mapping"
      ]
    },
    {
      "cell_type": "code",
      "execution_count": null,
      "metadata": {
        "id": "w1aYZcfH9TDQ"
      },
      "outputs": [],
      "source": [
        "def vectorize(data):\n",
        "    vecs = []\n",
        "    for row in data:\n",
        "      cur_vec = [0] * len(row[0])\n",
        "      for piece in row:\n",
        "        piece = list(piece)\n",
        "        cur_vec[piece.index(1)] += 1\n",
        "      cur_vec[2] = 1\n",
        "      vecs.append(cur_vec)\n",
        "\n",
        "    return vecs"
      ]
    },
    {
      "cell_type": "code",
      "execution_count": null,
      "metadata": {
        "id": "oYBr-R5393cs"
      },
      "outputs": [],
      "source": [
        "def pad_audio(data):\n",
        "    max_len = SR//1000 * 15000\n",
        "\n",
        "    for i, aud in tqdm(enumerate(data), desc='Padding audio'):\n",
        "      if len(aud) < max_len:\n",
        "        data[i] = np.array(np.append(aud, np.zeros(max_len - len(aud))))\n",
        "\n",
        "    return data"
      ]
    },
    {
      "cell_type": "code",
      "execution_count": null,
      "metadata": {
        "id": "93m3kZVEB20q"
      },
      "outputs": [],
      "source": [
        "def get_min(audio):\n",
        "    minim = 0\n",
        "\n",
        "    for row in tqdm(audio, desc='Finding min'):\n",
        "        if min(row) < minim:\n",
        "            minim = min(row)\n",
        "    \n",
        "    return minim"
      ]
    },
    {
      "cell_type": "code",
      "execution_count": null,
      "metadata": {
        "id": "X2wjJymUDatt"
      },
      "outputs": [],
      "source": [
        "def get_max(audio):\n",
        "    maxim = 0\n",
        "\n",
        "    for row in tqdm(audio, desc='Finding max'):\n",
        "        if max(row) > maxim:\n",
        "           maxim = max(row)\n",
        "\n",
        "    return maxim"
      ]
    },
    {
      "cell_type": "code",
      "execution_count": null,
      "metadata": {
        "id": "QqsHwHwlCRAG"
      },
      "outputs": [],
      "source": [
        "def adjust_audio(audio, minim):\n",
        "    for i, row in tqdm(enumerate(audio), desc='Adjusting Audio'):\n",
        "        for j, val in enumerate(row):\n",
        "            audio[i][j] = int(val + abs(minim))\n",
        "\n",
        "    return audio"
      ]
    },
    {
      "cell_type": "code",
      "execution_count": null,
      "metadata": {
        "id": "JH4lOO_JtToL"
      },
      "outputs": [],
      "source": [
        "def advanced_relu(x):\n",
        "    return K.relu(x, max_value=10000000)"
      ]
    },
    {
      "cell_type": "code",
      "execution_count": null,
      "metadata": {
        "id": "XDzD3p6QBLV-"
      },
      "outputs": [],
      "source": [
        "def build_model(input_len, output_len, maxim):\n",
        "    model = Sequential()\n",
        "    model.add(Dense(321, input_shape=(input_len,), activation=advanced_relu))\n",
        "    model.add(Embedding(input_dim=9999999, output_dim=34))\n",
        "    model.add(Bidirectional(LSTM(units=50, return_sequences=True, recurrent_dropout=0.1)))\n",
        "    model.add(Dense(34, activation='softmax'))\n",
        "    #model.add(Reshape((321, 34)))\n",
        "    \n",
        "    model.compile(optimizer=\"adam\", metrics=[\"accuracy\"], loss='categorical_crossentropy')\n",
        "\n",
        "\n",
        "    return model"
      ]
    },
    {
      "cell_type": "code",
      "execution_count": null,
      "metadata": {
        "id": "OHe43qhnHN5a"
      },
      "outputs": [],
      "source": [
        "def load_and_process_data(folder_path, test_data=False, map_use=None):\n",
        "    df = load_dataset(folder_path)\n",
        "    clean_y = list(df['transcription'])\n",
        "\n",
        "    padded_y = list(zip(*itertools.zip_longest(*list(df['transcription']), fillvalue='!')))\n",
        "    enc_y, mapping = one_hot(padded_y, test_data, map_use)\n",
        "    cat_y = np.array(to_categorical(enc_y))\n",
        "\n",
        "    padded_x = pad_audio(df['audio'])\n",
        "\n",
        "    minim = get_min(padded_x)\n",
        "    padded_x = adjust_audio(padded_x, minim)\n",
        "    maxim = get_max(padded_x)\n",
        "\n",
        "    padded_x = np.stack(padded_x)\n",
        "\n",
        "    for entry in cat_y:\n",
        "        for row in entry:\n",
        "            if row[7] != 0:\n",
        "                row[7] = 0\n",
        "\n",
        "    return clean_y, cat_y, padded_x, minim, maxim, mapping"
      ]
    },
    {
      "cell_type": "code",
      "execution_count": null,
      "metadata": {
        "id": "fPKbFnrcIlDM"
      },
      "outputs": [],
      "source": [
        "def evaluate(model, clean_y, padded_x, mapping):\n",
        "    cur_words = []\n",
        "\n",
        "    map_list = mapping.items()\n",
        "    map_key = list(mapping.keys())\n",
        "\n",
        "    last_char = False\n",
        "\n",
        "    all_words = []\n",
        "\n",
        "    preds = model.predict(padded_x)\n",
        "\n",
        "    print(len(preds))\n",
        "\n",
        "    for pred in preds:\n",
        "        cur_words = []\n",
        "        for row in pred:\n",
        "            row = list(row)\n",
        "            cur_words.append(map_key[row.index(max(row))-1])\n",
        "            \n",
        "        len_words = len(cur_words) - 1\n",
        "\n",
        "        for i in range(len_words, 0, -1):\n",
        "            if cur_words[i] != ' ':\n",
        "                joined = ''.join(cur_words)\n",
        "                all_words.append(re.sub(' +', ' ', joined))\n",
        "                break\n",
        "            else:\n",
        "                cur_words.pop()\n",
        "\n",
        "    cer = load('cer')\n",
        "    cer_score = cer.compute(predictions=all_words, references=clean_y[:len(all_words)])\n",
        "    print('Character Error Rate:', cer_score)\n",
        "\n",
        "    wer = load('wer')\n",
        "    wer_score = wer.compute(predictions=all_words, references=clean_y[:len(all_words)])\n",
        "    print('Word Error Rate:', wer_score)\n",
        "\n",
        "    return cer_score, wer_score"
      ]
    },
    {
      "cell_type": "code",
      "execution_count": null,
      "metadata": {
        "id": "kXZtwQmjEXpG"
      },
      "outputs": [],
      "source": [
        "hold_padded = 'NA'\n",
        "hold_test = []\n",
        "hold_map = []\n",
        "hold_y_test = []\n",
        "hold_clean_y = []\n",
        "hold_cat_y = []"
      ]
    },
    {
      "cell_type": "code",
      "execution_count": null,
      "metadata": {
        "id": "C6rF1plolhm1"
      },
      "outputs": [],
      "source": [
        "def multi_run():\n",
        "    print('\\033[95m' + 'LOADING TRAINING DATA\\n')\n",
        "    clean_y, cat_y, padded_x, minim, maxim, mapping = load_and_process_data('train')\n",
        "    print('\\n\\n', '\\033[95m' + 'LOADING TESTING DATA\\n', sep='')\n",
        "    y_test, _, x_test, _, _, _ = load_and_process_data('test', test_data=True, map_use=mapping)\n",
        "\n",
        "    base_model_name = '/content/gdrive/MyDrive/Colab_Notebooks/NLP/project/lstm_model_big_'\n",
        "\n",
        "    all_metrics = []\n",
        "\n",
        "    model = build_model(len(padded_x[0]), len(cat_y[0]), maxim)\n",
        "\n",
        "    for i in range(5, 100, 5):\n",
        "      model_name = base_model_name + str(i)\n",
        "      model.fit(padded_x, cat_y, epochs=5, verbose=1, batch_size=1)\n",
        "\n",
        "      cer, wer = evaluate(model, clean_y, padded_x, mapping)\n",
        "      test_cer, test_wer = evaluate(model, y_test, x_test, mapping)\n",
        "\n",
        "      all_metrics.append((i, (cer, wer), (test_cer, test_wer)))\n",
        "\n",
        "      model.save(model_name)\n",
        "\n",
        "    for row in all_metrics:\n",
        "        print(row)"
      ]
    },
    {
      "cell_type": "code",
      "execution_count": null,
      "metadata": {
        "colab": {
          "base_uri": "https://localhost:8080/",
          "height": 1000,
          "referenced_widgets": [
            "cdba7cd351db4cbeb0427363da6fb47c",
            "e64673a809564baf813b3deb155d7596",
            "8a5a8d5a79ed45919e4e9597eedc1276",
            "d5030aab92a4458c85b51b536929c694",
            "9b5327a9b9bf462fb5a21c8c547a39ba",
            "d143da5476274fe0b489c3d0a61a3678",
            "36ba3abe89d649578cebf668932a19fa",
            "dabb8d4d049743bcb8d701ef5c142a16",
            "23910d9ae6f047f4a209516b805c82c4",
            "f27a1a69591a4d3194dc38e85c3be894",
            "9623acb113144b2d9cb262adaacaa8a1",
            "3eadfe43c6a74caabfc28d43f6901c2a",
            "5c9f1ca15ecd476cbefaffd2c240d164",
            "84bebf56614641d88a1674011048edc6",
            "871aa703e23f4775b850e8728bd00275",
            "789054acbef34e77acfc95e219fc3c21",
            "db2703a6159d4fff81eb697b3ef5bfdb",
            "81af6791163345beaeea9cebe18d33f5",
            "7d546f7f1fad44b489f865707cf65462",
            "a4975a0f0d854a81afded96a48bceab2",
            "455f6b2b95444945a4e85aba8e07e25b",
            "4bbd63b26dbb44e8ad037b93f50b3263"
          ]
        },
        "id": "nZWR967lmEDr",
        "outputId": "8934d92f-b46b-4baa-c0ca-2317bab741e6"
      },
      "outputs": [
        {
          "metadata": {
            "tags": null
          },
          "name": "stdout",
          "output_type": "stream",
          "text": [
            "\u001b[95mLOADING TRAINING DATA\n",
            "\n"
          ]
        },
        {
          "metadata": {
            "tags": null
          },
          "name": "stderr",
          "output_type": "stream",
          "text": [
            "Loading HTML Data: 100%|██████████| 290/290 [00:04<00:00, 67.31it/s] \n",
            "Loading Audio Data & Creating Dataset: 0it [00:00, ?it/s]<ipython-input-7-6963f008061e>:14: WavFileWarning: Chunk (non-data) not understood, skipping it.\n",
            "  sr, data = wavfile.read(file)\n",
            "Loading Audio Data & Creating Dataset: 356it [00:06, 52.44it/s] \n",
            "Padding audio: 306it [00:00, 461.11it/s]\n",
            "Finding min: 100%|██████████| 306/306 [00:17<00:00, 17.87it/s]\n",
            "Adjusting Audio: 306it [09:55,  1.95s/it]\n",
            "Finding max: 100%|██████████| 306/306 [00:16<00:00, 18.35it/s]\n"
          ]
        },
        {
          "metadata": {
            "tags": null
          },
          "name": "stdout",
          "output_type": "stream",
          "text": [
            "\n",
            "\n",
            "\u001b[95mLOADING TESTING DATA\n",
            "\n"
          ]
        },
        {
          "metadata": {
            "tags": null
          },
          "name": "stderr",
          "output_type": "stream",
          "text": [
            "Loading HTML Data: 100%|██████████| 3/3 [00:01<00:00,  1.82it/s]\n",
            "Loading Audio Data & Creating Dataset: 51it [00:25,  2.01it/s]\n",
            "Padding audio: 41it [00:00, 694.39it/s]\n",
            "Finding min: 100%|██████████| 41/41 [00:02<00:00, 16.11it/s]\n",
            "Adjusting Audio: 41it [01:19,  1.94s/it]\n",
            "Finding max: 100%|██████████| 41/41 [00:02<00:00, 17.50it/s]\n"
          ]
        },
        {
          "metadata": {
            "tags": null
          },
          "name": "stdout",
          "output_type": "stream",
          "text": [
            "Epoch 1/5\n"
          ]
        },
        {
          "metadata": {
            "tags": null
          },
          "name": "stderr",
          "output_type": "stream",
          "text": [
            "WARNING:tensorflow:Gradients do not exist for variables ['dense/kernel:0', 'dense/bias:0'] when minimizing the loss. If you're using `model.compile()`, did you forget to provide a `loss`argument?\n",
            "WARNING:tensorflow:Gradients do not exist for variables ['dense/kernel:0', 'dense/bias:0'] when minimizing the loss. If you're using `model.compile()`, did you forget to provide a `loss`argument?\n"
          ]
        },
        {
          "metadata": {
            "tags": null
          },
          "name": "stdout",
          "output_type": "stream",
          "text": [
            "306/306 [==============================] - 289s 937ms/step - loss: 0.8129 - accuracy: 0.0477\n",
            "Epoch 2/5\n",
            "306/306 [==============================] - 284s 928ms/step - loss: 0.7910 - accuracy: 0.0499\n",
            "Epoch 3/5\n",
            "306/306 [==============================] - 299s 976ms/step - loss: 0.7880 - accuracy: 0.0503\n",
            "Epoch 4/5\n",
            "306/306 [==============================] - 296s 968ms/step - loss: 0.7860 - accuracy: 0.0503\n",
            "Epoch 5/5\n",
            "306/306 [==============================] - 314s 1s/step - loss: 0.7845 - accuracy: 0.0506\n",
            "10/10 [==============================] - 4s 329ms/step\n",
            "306\n"
          ]
        },
        {
          "data": {
            "application/vnd.jupyter.widget-view+json": {
              "model_id": "cdba7cd351db4cbeb0427363da6fb47c",
              "version_major": 2,
              "version_minor": 0
            },
            "text/plain": [
              "Downloading builder script:   0%|          | 0.00/5.60k [00:00<?, ?B/s]"
            ]
          },
          "metadata": {},
          "output_type": "display_data"
        },
        {
          "metadata": {
            "tags": null
          },
          "name": "stdout",
          "output_type": "stream",
          "text": [
            "Character Error Rate: 0.9786222402417898\n"
          ]
        },
        {
          "data": {
            "application/vnd.jupyter.widget-view+json": {
              "model_id": "3eadfe43c6a74caabfc28d43f6901c2a",
              "version_major": 2,
              "version_minor": 0
            },
            "text/plain": [
              "Downloading builder script:   0%|          | 0.00/4.49k [00:00<?, ?B/s]"
            ]
          },
          "metadata": {},
          "output_type": "display_data"
        },
        {
          "output_type": "stream",
          "name": "stdout",
          "text": [
            "Word Error Rate: 1.0\n",
            "2/2 [==============================] - 1s 125ms/step\n",
            "41\n",
            "Character Error Rate: 0.978601997146933\n",
            "Word Error Rate: 1.0\n",
            "Epoch 1/5\n",
            "306/306 [==============================] - 334s 1s/step - loss: 0.7837 - accuracy: 0.0507\n",
            "Epoch 2/5\n",
            "306/306 [==============================] - 307s 1s/step - loss: 0.7818 - accuracy: 0.0507\n",
            "Epoch 3/5\n",
            "306/306 [==============================] - 312s 1s/step - loss: 0.7802 - accuracy: 0.0510\n",
            "Epoch 4/5\n",
            "306/306 [==============================] - 308s 1s/step - loss: 0.7792 - accuracy: 0.0511\n",
            "Epoch 5/5\n",
            "306/306 [==============================] - 332s 1s/step - loss: 0.7775 - accuracy: 0.0511\n",
            "10/10 [==============================] - 4s 354ms/step\n",
            "306\n",
            "Character Error Rate: 0.9769636209502046\n",
            "Word Error Rate: 0.9935458634852338\n",
            "2/2 [==============================] - 1s 128ms/step\n",
            "41\n",
            "Character Error Rate: 0.9789586305278174\n",
            "Word Error Rate: 1.0\n",
            "Epoch 1/5\n",
            "306/306 [==============================] - 343s 1s/step - loss: 0.7768 - accuracy: 0.0512\n",
            "Epoch 2/5\n",
            "306/306 [==============================] - 334s 1s/step - loss: 0.7746 - accuracy: 0.0514\n",
            "Epoch 3/5\n",
            "306/306 [==============================] - 324s 1s/step - loss: 0.7728 - accuracy: 0.0517\n",
            "Epoch 4/5\n",
            "306/306 [==============================] - 329s 1s/step - loss: 0.7703 - accuracy: 0.0521\n",
            "Epoch 5/5\n",
            "306/306 [==============================] - 324s 1s/step - loss: 0.7675 - accuracy: 0.0524\n",
            "10/10 [==============================] - 4s 337ms/step\n",
            "306\n",
            "Character Error Rate: 0.9728723600309609\n",
            "Word Error Rate: 0.9888519460199492\n",
            "2/2 [==============================] - 1s 119ms/step\n",
            "41\n",
            "Character Error Rate: 0.9768188302425107\n",
            "Word Error Rate: 1.0\n",
            "Epoch 1/5\n",
            "306/306 [==============================] - 352s 1s/step - loss: 0.7628 - accuracy: 0.0528\n",
            "Epoch 2/5\n",
            "306/306 [==============================] - 317s 1s/step - loss: 0.7572 - accuracy: 0.0536\n",
            "Epoch 3/5\n",
            "306/306 [==============================] - 326s 1s/step - loss: 0.7508 - accuracy: 0.0548\n",
            "Epoch 4/5\n",
            "306/306 [==============================] - 324s 1s/step - loss: 0.7459 - accuracy: 0.0569\n",
            "Epoch 5/5\n",
            "306/306 [==============================] - 323s 1s/step - loss: 0.7381 - accuracy: 0.0597\n",
            "10/10 [==============================] - 4s 378ms/step\n",
            "306\n",
            "Character Error Rate: 0.8724706055803325\n",
            "Word Error Rate: 0.9884607862311754\n",
            "2/2 [==============================] - 1s 147ms/step\n",
            "41\n",
            "Character Error Rate: 0.9629101283880172\n",
            "Word Error Rate: 0.9980353634577603\n",
            "Epoch 1/5\n",
            "306/306 [==============================] - 363s 1s/step - loss: 0.7312 - accuracy: 0.0618\n",
            "Epoch 2/5\n",
            "306/306 [==============================] - 326s 1s/step - loss: 0.7231 - accuracy: 0.0640\n",
            "Epoch 3/5\n",
            "306/306 [==============================] - 341s 1s/step - loss: 0.7147 - accuracy: 0.0666\n",
            "Epoch 4/5\n",
            "306/306 [==============================] - 329s 1s/step - loss: 0.7057 - accuracy: 0.0693\n",
            "Epoch 5/5\n",
            "306/306 [==============================] - 336s 1s/step - loss: 0.6951 - accuracy: 0.0718\n",
            "10/10 [==============================] - 4s 364ms/step\n",
            "306\n",
            "Character Error Rate: 0.7711842541741919\n",
            "Word Error Rate: 0.9880696264424017\n",
            "2/2 [==============================] - 1s 118ms/step\n",
            "41\n",
            "Character Error Rate: 0.9033523537803139\n",
            "Word Error Rate: 1.0\n",
            "Epoch 1/5\n",
            "306/306 [==============================] - 355s 1s/step - loss: 0.6879 - accuracy: 0.0740\n",
            "Epoch 2/5\n",
            "306/306 [==============================] - 345s 1s/step - loss: 0.6783 - accuracy: 0.0771\n",
            "Epoch 3/5\n",
            "306/306 [==============================] - 341s 1s/step - loss: 0.6637 - accuracy: 0.0815\n",
            "Epoch 4/5\n",
            "306/306 [==============================] - 335s 1s/step - loss: 0.6516 - accuracy: 0.0864\n",
            "Epoch 5/5\n",
            "306/306 [==============================] - 350s 1s/step - loss: 0.6395 - accuracy: 0.0914\n",
            "10/10 [==============================] - 4s 361ms/step\n",
            "306\n",
            "Character Error Rate: 0.6945191846964727\n",
            "Word Error Rate: 0.9857226677097595\n",
            "2/2 [==============================] - 1s 134ms/step\n",
            "41\n",
            "Character Error Rate: 0.8612696148359487\n",
            "Word Error Rate: 1.0117878192534382\n",
            "Epoch 1/5\n",
            "306/306 [==============================] - 366s 1s/step - loss: 0.6263 - accuracy: 0.0965\n",
            "Epoch 2/5\n",
            "306/306 [==============================] - 350s 1s/step - loss: 0.6131 - accuracy: 0.1015\n",
            "Epoch 3/5\n",
            "306/306 [==============================] - 341s 1s/step - loss: 0.6003 - accuracy: 0.1058\n",
            "Epoch 4/5\n",
            "306/306 [==============================] - 353s 1s/step - loss: 0.5846 - accuracy: 0.1108\n",
            "Epoch 5/5\n",
            "306/306 [==============================] - 357s 1s/step - loss: 0.5732 - accuracy: 0.1163\n",
            "10/10 [==============================] - 4s 364ms/step\n",
            "306\n",
            "Character Error Rate: 0.6010836312705023\n",
            "Word Error Rate: 0.97946411108938\n",
            "2/2 [==============================] - 0s 119ms/step\n",
            "41\n",
            "Character Error Rate: 0.8491440798858774\n",
            "Word Error Rate: 1.0235756385068762\n",
            "Epoch 1/5\n",
            "306/306 [==============================] - 376s 1s/step - loss: 0.5568 - accuracy: 0.1210\n",
            "Epoch 2/5\n",
            "306/306 [==============================] - 360s 1s/step - loss: 0.5464 - accuracy: 0.1261\n",
            "Epoch 3/5\n",
            "306/306 [==============================] - 347s 1s/step - loss: 0.5324 - accuracy: 0.1305\n",
            "Epoch 4/5\n",
            "306/306 [==============================] - 357s 1s/step - loss: 0.5234 - accuracy: 0.1348\n",
            "Epoch 5/5\n",
            "306/306 [==============================] - 355s 1s/step - loss: 0.5067 - accuracy: 0.1387\n",
            "10/10 [==============================] - 4s 357ms/step\n",
            "306\n",
            "Character Error Rate: 0.5163097563672552\n",
            "Word Error Rate: 0.9722276549970663\n",
            "2/2 [==============================] - 1s 123ms/step\n",
            "41\n",
            "Character Error Rate: 0.8202567760342369\n",
            "Word Error Rate: 1.0353634577603144\n",
            "Epoch 1/5\n",
            "306/306 [==============================] - 373s 1s/step - loss: 0.4935 - accuracy: 0.1433\n",
            "Epoch 2/5\n",
            "306/306 [==============================] - 359s 1s/step - loss: 0.4806 - accuracy: 0.1472\n",
            "Epoch 3/5\n",
            "306/306 [==============================] - 348s 1s/step - loss: 0.4708 - accuracy: 0.1501\n",
            "Epoch 4/5\n",
            "306/306 [==============================] - 359s 1s/step - loss: 0.4604 - accuracy: 0.1543\n",
            "Epoch 5/5\n",
            "306/306 [==============================] - 359s 1s/step - loss: 0.4463 - accuracy: 0.1582\n",
            "10/10 [==============================] - 5s 413ms/step\n",
            "306\n",
            "Character Error Rate: 0.4514761711695109\n",
            "Word Error Rate: 0.9497359671425778\n",
            "2/2 [==============================] - 1s 135ms/step\n",
            "41\n",
            "Character Error Rate: 0.8402282453637661\n",
            "Word Error Rate: 1.005893909626719\n",
            "Epoch 1/5\n",
            "306/306 [==============================] - 381s 1s/step - loss: 0.4352 - accuracy: 0.1617\n",
            "Epoch 2/5\n",
            "306/306 [==============================] - 366s 1s/step - loss: 0.4257 - accuracy: 0.1643\n",
            "Epoch 3/5\n",
            "306/306 [==============================] - 356s 1s/step - loss: 0.4143 - accuracy: 0.1689\n",
            "Epoch 4/5\n",
            "306/306 [==============================] - 365s 1s/step - loss: 0.4065 - accuracy: 0.1716\n",
            "Epoch 5/5\n",
            "306/306 [==============================] - 364s 1s/step - loss: 0.3945 - accuracy: 0.1752\n",
            "10/10 [==============================] - 4s 367ms/step\n",
            "306\n",
            "Character Error Rate: 0.4046293907338469\n",
            "Word Error Rate: 0.8973205554469\n",
            "2/2 [==============================] - 0s 140ms/step\n",
            "41\n",
            "Character Error Rate: 0.8452211126961484\n",
            "Word Error Rate: 1.0019646365422397\n",
            "Epoch 1/5\n",
            "306/306 [==============================] - 376s 1s/step - loss: 0.3841 - accuracy: 0.1787\n",
            "Epoch 2/5\n",
            "306/306 [==============================] - 359s 1s/step - loss: 0.3751 - accuracy: 0.1813\n",
            "Epoch 3/5\n",
            "306/306 [==============================] - 350s 1s/step - loss: 0.3663 - accuracy: 0.1838\n",
            "Epoch 4/5\n",
            "306/306 [==============================] - 357s 1s/step - loss: 0.3599 - accuracy: 0.1863\n",
            "Epoch 5/5\n",
            "306/306 [==============================] - 354s 1s/step - loss: 0.3499 - accuracy: 0.1887\n",
            "10/10 [==============================] - 4s 351ms/step\n",
            "306\n",
            "Character Error Rate: 0.380745272935019\n",
            "Word Error Rate: 0.8433405045961275\n",
            "2/2 [==============================] - 1s 126ms/step\n",
            "41\n",
            "Character Error Rate: 0.8573466476462197\n",
            "Word Error Rate: 1.0039292730844793\n",
            "Epoch 1/5\n",
            "306/306 [==============================] - 356s 1s/step - loss: 0.3404 - accuracy: 0.1921\n",
            "Epoch 2/5\n",
            "306/306 [==============================] - 358s 1s/step - loss: 0.3328 - accuracy: 0.1947\n",
            "Epoch 3/5\n",
            "306/306 [==============================] - 345s 1s/step - loss: 0.3258 - accuracy: 0.1967\n",
            "Epoch 4/5\n",
            "306/306 [==============================] - 363s 1s/step - loss: 0.3186 - accuracy: 0.2003\n",
            "Epoch 5/5\n",
            "306/306 [==============================] - 359s 1s/step - loss: 0.3129 - accuracy: 0.2010\n",
            "10/10 [==============================] - 4s 335ms/step\n",
            "306\n",
            "Character Error Rate: 0.32343076185912795\n",
            "Word Error Rate: 0.7786035595540779\n",
            "2/2 [==============================] - 1s 197ms/step\n",
            "41\n",
            "Character Error Rate: 0.8619828815977175\n",
            "Word Error Rate: 1.0039292730844793\n",
            "Epoch 1/5\n",
            "306/306 [==============================] - 366s 1s/step - loss: 0.3350 - accuracy: 0.1934\n",
            "Epoch 2/5\n",
            "306/306 [==============================] - 368s 1s/step - loss: 0.3075 - accuracy: 0.2031\n",
            "Epoch 3/5\n",
            "306/306 [==============================] - 358s 1s/step - loss: 0.2965 - accuracy: 0.2063\n",
            "Epoch 4/5\n",
            "306/306 [==============================] - 365s 1s/step - loss: 0.2912 - accuracy: 0.2081\n",
            "Epoch 5/5\n",
            "306/306 [==============================] - 357s 1s/step - loss: 0.2843 - accuracy: 0.2097\n",
            "10/10 [==============================] - 7s 715ms/step\n",
            "306\n",
            "Character Error Rate: 0.31447421768456746\n",
            "Word Error Rate: 0.7574809309602972\n",
            "2/2 [==============================] - 1s 179ms/step\n",
            "41\n",
            "Character Error Rate: 0.8701854493580599\n",
            "Word Error Rate: 1.0039292730844793\n",
            "Epoch 1/5\n",
            "306/306 [==============================] - 361s 1s/step - loss: 0.2781 - accuracy: 0.2113\n",
            "Epoch 2/5\n",
            "306/306 [==============================] - 362s 1s/step - loss: 0.2731 - accuracy: 0.2127\n",
            "Epoch 3/5\n",
            "306/306 [==============================] - 352s 1s/step - loss: 0.2683 - accuracy: 0.2143\n",
            "Epoch 4/5\n",
            "306/306 [==============================] - 357s 1s/step - loss: 0.2630 - accuracy: 0.2157\n",
            "Epoch 5/5\n",
            "306/306 [==============================] - 347s 1s/step - loss: 0.2590 - accuracy: 0.2167\n",
            "10/10 [==============================] - 4s 340ms/step\n",
            "306\n",
            "Character Error Rate: 0.29298588330691827\n",
            "Word Error Rate: 0.7230588695482104\n",
            "2/2 [==============================] - 1s 125ms/step\n",
            "41\n",
            "Character Error Rate: 0.8659058487874465\n",
            "Word Error Rate: 1.0\n",
            "Epoch 1/5\n",
            "306/306 [==============================] - 358s 1s/step - loss: 0.2572 - accuracy: 0.2166\n",
            "Epoch 2/5\n",
            "306/306 [==============================] - 354s 1s/step - loss: 0.2503 - accuracy: 0.2193\n",
            "Epoch 3/5\n",
            "306/306 [==============================] - 345s 1s/step - loss: 0.2492 - accuracy: 0.2189\n",
            "Epoch 4/5\n",
            "306/306 [==============================] - 356s 1s/step - loss: 0.2444 - accuracy: 0.2205\n",
            "Epoch 5/5\n",
            "306/306 [==============================] - 345s 1s/step - loss: 0.2389 - accuracy: 0.2217\n",
            "10/10 [==============================] - 4s 372ms/step\n",
            "306\n",
            "Character Error Rate: 0.272750727949578\n",
            "Word Error Rate: 0.6815959319381968\n",
            "2/2 [==============================] - 1s 133ms/step\n",
            "41\n",
            "Character Error Rate: 0.8723252496433667\n",
            "Word Error Rate: 1.0039292730844793\n",
            "Epoch 1/5\n",
            "306/306 [==============================] - 362s 1s/step - loss: 0.2363 - accuracy: 0.2224\n",
            "Epoch 2/5\n",
            "306/306 [==============================] - 353s 1s/step - loss: 0.2308 - accuracy: 0.2238\n",
            "Epoch 3/5\n",
            "306/306 [==============================] - 348s 1s/step - loss: 0.2269 - accuracy: 0.2250\n",
            "Epoch 4/5\n",
            "306/306 [==============================] - 362s 1s/step - loss: 0.2251 - accuracy: 0.2252\n",
            "Epoch 5/5\n",
            "306/306 [==============================] - 360s 1s/step - loss: 0.2227 - accuracy: 0.2256\n",
            "10/10 [==============================] - 4s 368ms/step\n",
            "306\n",
            "Character Error Rate: 0.26169326600567616\n",
            "Word Error Rate: 0.6612556229219636\n",
            "2/2 [==============================] - 1s 140ms/step\n",
            "41\n",
            "Character Error Rate: 0.8673323823109843\n",
            "Word Error Rate: 1.0\n",
            "Epoch 1/5\n",
            "306/306 [==============================] - 373s 1s/step - loss: 0.2178 - accuracy: 0.2273\n",
            "Epoch 2/5\n",
            "306/306 [==============================] - 363s 1s/step - loss: 0.2140 - accuracy: 0.2282\n",
            "Epoch 3/5\n",
            "306/306 [==============================] - 353s 1s/step - loss: 0.2117 - accuracy: 0.2282\n",
            "Epoch 4/5\n",
            "306/306 [==============================] - 366s 1s/step - loss: 0.2081 - accuracy: 0.2291\n",
            "Epoch 5/5\n",
            "306/306 [==============================] - 361s 1s/step - loss: 0.2050 - accuracy: 0.2301\n",
            "10/10 [==============================] - 4s 365ms/step\n",
            "306\n",
            "Character Error Rate: 0.24982492351922156\n",
            "Word Error Rate: 0.6411108938001173\n",
            "2/2 [==============================] - 1s 129ms/step\n",
            "41\n",
            "Character Error Rate: 0.8758915834522111\n",
            "Word Error Rate: 0.9941060903732809\n",
            "Epoch 1/5\n",
            "306/306 [==============================] - 375s 1s/step - loss: 0.2018 - accuracy: 0.2313\n",
            "Epoch 2/5\n",
            "306/306 [==============================] - 361s 1s/step - loss: 0.1990 - accuracy: 0.2314\n",
            "Epoch 3/5\n",
            "306/306 [==============================] - 349s 1s/step - loss: 0.2098 - accuracy: 0.2279\n",
            "Epoch 4/5\n",
            "306/306 [==============================] - 353s 1s/step - loss: 0.1987 - accuracy: 0.2316\n",
            "Epoch 5/5\n",
            "306/306 [==============================] - 347s 1s/step - loss: 0.1952 - accuracy: 0.2322\n",
            "10/10 [==============================] - 4s 365ms/step\n",
            "306\n",
            "Character Error Rate: 0.26994950425712283\n",
            "Word Error Rate: 0.6334832779190299\n",
            "2/2 [==============================] - 1s 133ms/step\n",
            "41\n",
            "Character Error Rate: 0.8794579172610556\n",
            "Word Error Rate: 0.9941060903732809\n",
            "Epoch 1/5\n",
            "306/306 [==============================] - 382s 1s/step - loss: 0.1910 - accuracy: 0.2331\n",
            "Epoch 2/5\n",
            "306/306 [==============================] - 347s 1s/step - loss: 0.1879 - accuracy: 0.2344\n",
            "Epoch 3/5\n",
            "306/306 [==============================] - 365s 1s/step - loss: 0.1859 - accuracy: 0.2343\n",
            "Epoch 4/5\n",
            "306/306 [==============================] - 367s 1s/step - loss: 0.1825 - accuracy: 0.2355\n",
            "Epoch 5/5\n",
            "306/306 [==============================] - 368s 1s/step - loss: 0.1805 - accuracy: 0.2356\n",
            "10/10 [==============================] - 4s 368ms/step\n",
            "306\n",
            "Character Error Rate: 0.2838081898934798\n",
            "Word Error Rate: 0.6358302366516722\n",
            "2/2 [==============================] - 1s 119ms/step\n",
            "41\n",
            "Character Error Rate: 0.8826676176890157\n",
            "Word Error Rate: 0.9960707269155207\n",
            "(5, (0.9786222402417898, 1.0), (0.978601997146933, 1.0))\n",
            "(10, (0.9769636209502046, 0.9935458634852338), (0.9789586305278174, 1.0))\n",
            "(15, (0.9728723600309609, 0.9888519460199492), (0.9768188302425107, 1.0))\n",
            "(20, (0.8724706055803325, 0.9884607862311754), (0.9629101283880172, 0.9980353634577603))\n",
            "(25, (0.7711842541741919, 0.9880696264424017), (0.9033523537803139, 1.0))\n",
            "(30, (0.6945191846964727, 0.9857226677097595), (0.8612696148359487, 1.0117878192534382))\n",
            "(35, (0.6010836312705023, 0.97946411108938), (0.8491440798858774, 1.0235756385068762))\n",
            "(40, (0.5163097563672552, 0.9722276549970663), (0.8202567760342369, 1.0353634577603144))\n",
            "(45, (0.4514761711695109, 0.9497359671425778), (0.8402282453637661, 1.005893909626719))\n",
            "(50, (0.4046293907338469, 0.8973205554469), (0.8452211126961484, 1.0019646365422397))\n",
            "(55, (0.380745272935019, 0.8433405045961275), (0.8573466476462197, 1.0039292730844793))\n",
            "(60, (0.32343076185912795, 0.7786035595540779), (0.8619828815977175, 1.0039292730844793))\n",
            "(65, (0.31447421768456746, 0.7574809309602972), (0.8701854493580599, 1.0039292730844793))\n",
            "(70, (0.29298588330691827, 0.7230588695482104), (0.8659058487874465, 1.0))\n",
            "(75, (0.272750727949578, 0.6815959319381968), (0.8723252496433667, 1.0039292730844793))\n",
            "(80, (0.26169326600567616, 0.6612556229219636), (0.8673323823109843, 1.0))\n",
            "(85, (0.24982492351922156, 0.6411108938001173), (0.8758915834522111, 0.9941060903732809))\n",
            "(90, (0.26994950425712283, 0.6334832779190299), (0.8794579172610556, 0.9941060903732809))\n",
            "(95, (0.2838081898934798, 0.6358302366516722), (0.8826676176890157, 0.9960707269155207))\n"
          ]
        }
      ],
      "source": [
        "multi_run()"
      ]
    },
    {
      "cell_type": "code",
      "execution_count": null,
      "metadata": {
        "id": "WNrHFG7KHt71"
      },
      "outputs": [],
      "source": [
        "def main(train=False, model=''):\n",
        "    print('\\033[95m' + 'LOADING TRAINING DATA\\n')\n",
        "    clean_y, cat_y, padded_x, minim, maxim, mapping = load_and_process_data('train')\n",
        "    print('\\n\\n', '\\033[95m' + 'LOADING TESTING DATA\\n', sep='')\n",
        "    y_test, _, x_test, _, _, _ = load_and_process_data('test', test_data=True, map_use=mapping)\n",
        "    \n",
        "\n",
        "    if train:\n",
        "        # model = build_model(len(padded_x[0]), len(cat_y[0]), get_max(padded_x))\n",
        "        model = load_model(model)\n",
        "        plot_model(model, show_shapes=True)\n",
        "\n",
        "        model.fit(padded_x, cat_y, epochs=5, verbose=1, batch_size=1)\n",
        "        model.save('/content/gdrive/MyDrive/Colab_Notebooks/NLP/project/lstm_model_20e')\n",
        "    else:\n",
        "        # '/content/gdrive/MyDrive/Colab_Notebooks/NLP/project/lstm_model_450e'\n",
        "        model = load_model(model)\n",
        "\n",
        "    evaluate(model, y_test, x_test, mapping)\n",
        "\n",
        "    print(\"Train set\")\n",
        "\n",
        "    evaluate(model, clean_y, padded_x, mapping)"
      ]
    },
    {
      "cell_type": "code",
      "execution_count": null,
      "metadata": {
        "colab": {
          "base_uri": "https://localhost:8080/"
        },
        "id": "oG2yzsQ-J1y-",
        "outputId": "a9e266d9-9961-4376-9c90-41d0fd186d54"
      },
      "outputs": [
        {
          "name": "stdout",
          "output_type": "stream",
          "text": [
            "\u001b[95mLOADING TRAINING DATA\n",
            "\n"
          ]
        },
        {
          "name": "stderr",
          "output_type": "stream",
          "text": [
            "Loading HTML Data: 100%|██████████| 290/290 [00:02<00:00, 115.27it/s]\n",
            "Loading Audio Data & Creating Dataset: 0it [00:00, ?it/s]<ipython-input-7-6963f008061e>:14: WavFileWarning: Chunk (non-data) not understood, skipping it.\n",
            "  sr, data = wavfile.read(file)\n",
            "Loading Audio Data & Creating Dataset: 356it [00:01, 199.10it/s]\n",
            "Padding audio: 306it [00:03, 97.18it/s]\n",
            "Finding min: 100%|██████████| 306/306 [00:14<00:00, 20.83it/s]\n",
            "Adjusting Audio: 306it [10:43,  2.10s/it]\n",
            "Finding max: 100%|██████████| 306/306 [00:14<00:00, 21.39it/s]\n"
          ]
        },
        {
          "name": "stdout",
          "output_type": "stream",
          "text": [
            "\n",
            "\n",
            "\u001b[95mLOADING TESTING DATA\n",
            "\n"
          ]
        },
        {
          "name": "stderr",
          "output_type": "stream",
          "text": [
            "Loading HTML Data: 100%|██████████| 3/3 [00:00<00:00, 362.51it/s]\n",
            "Loading Audio Data & Creating Dataset: 51it [00:00, 253.53it/s]\n",
            "Padding audio: 41it [00:00, 206.92it/s]\n",
            "Finding min: 100%|██████████| 41/41 [00:02<00:00, 19.08it/s]\n",
            "Adjusting Audio: 41it [01:32,  2.25s/it]\n",
            "Finding max: 100%|██████████| 41/41 [00:01<00:00, 20.76it/s]\n"
          ]
        },
        {
          "name": "stdout",
          "output_type": "stream",
          "text": [
            "Epoch 1/5\n"
          ]
        },
        {
          "name": "stderr",
          "output_type": "stream",
          "text": [
            "WARNING:tensorflow:Gradients do not exist for variables ['dense_4/kernel:0', 'dense_4/bias:0'] when minimizing the loss. If you're using `model.compile()`, did you forget to provide a `loss`argument?\n",
            "WARNING:tensorflow:Gradients do not exist for variables ['dense_4/kernel:0', 'dense_4/bias:0'] when minimizing the loss. If you're using `model.compile()`, did you forget to provide a `loss`argument?\n"
          ]
        },
        {
          "name": "stdout",
          "output_type": "stream",
          "text": [
            "306/306 [==============================] - 140s 446ms/step - loss: 0.7206 - accuracy: 0.0698\n",
            "Epoch 2/5\n",
            "306/306 [==============================] - 136s 445ms/step - loss: 0.7129 - accuracy: 0.0720\n",
            "Epoch 3/5\n",
            "306/306 [==============================] - 136s 444ms/step - loss: 0.7039 - accuracy: 0.0749\n",
            "Epoch 4/5\n",
            "306/306 [==============================] - 135s 442ms/step - loss: 0.6932 - accuracy: 0.0778\n",
            "Epoch 5/5\n",
            "306/306 [==============================] - 144s 470ms/step - loss: 0.6825 - accuracy: 0.0813\n"
          ]
        },
        {
          "name": "stderr",
          "output_type": "stream",
          "text": [
            "WARNING:absl:<keras.saving.saved_model.load.Dense object at 0x7f43efecce80> has the same name 'Dense' as a built-in Keras object. Consider renaming <class 'keras.saving.saved_model.load.Dense'> to avoid naming conflicts when loading with `tf.keras.models.load_model`. If renaming is not possible, pass the object in the `custom_objects` parameter of the load function.\n"
          ]
        },
        {
          "name": "stdout",
          "output_type": "stream",
          "text": [
            "2/2 [==============================] - 1s 198ms/step\n",
            "41\n",
            "Character Error Rate: 0.8209700427960057\n",
            "Word Error Rate: 1.0412573673870333\n",
            "Train set\n",
            "10/10 [==============================] - 4s 347ms/step\n",
            "306\n",
            "Character Error Rate: 0.7161151824709453\n",
            "Word Error Rate: 0.9929286977018268\n"
          ]
        }
      ],
      "source": [
        "main(train=True, model='/content/gdrive/MyDrive/Colab_Notebooks/NLP/project/lstm_model_15e')"
      ]
    },
    {
      "cell_type": "code",
      "execution_count": null,
      "metadata": {
        "colab": {
          "base_uri": "https://localhost:8080/"
        },
        "id": "zdfM8yNjM6i9",
        "outputId": "97349bef-0e44-4904-92c7-f18a595f03a6"
      },
      "outputs": [
        {
          "data": {
            "text/plain": [
              "array([[26478., 26483., 26489., ..., 26478., 26478., 26478.],\n",
              "       [26544., 26540., 26535., ..., 26478., 26478., 26478.],\n",
              "       [26432., 26449., 26473., ..., 26478., 26478., 26478.],\n",
              "       ...,\n",
              "       [26453., 26452., 26451., ..., 26478., 26478., 26478.],\n",
              "       [26468., 26443., 26453., ..., 26478., 26478., 26478.],\n",
              "       [26480., 26481., 26479., ..., 26478., 26478., 26478.]])"
            ]
          },
          "execution_count": 60,
          "metadata": {},
          "output_type": "execute_result"
        }
      ],
      "source": [
        "hold_test"
      ]
    },
    {
      "cell_type": "code",
      "execution_count": null,
      "metadata": {
        "id": "p-O1nzRVMciV"
      },
      "outputs": [],
      "source": [
        "# 10 epochs CER - 0.9186 WER - 0.9918\n",
        "# 15 epochs CER - 0.8466 WER - 1.0059\n",
        "# 20 epochs CER - 0.8219 WER - 1.0412\n",
        "# 45 epochs CER - 0.8638 WER - 1.0 "
      ]
    }
  ],
  "metadata": {
    "colab": {
      "machine_shape": "hm",
      "provenance": [],
      "authorship_tag": "ABX9TyOG+mCH+qF6i6l4bZ4jaMp/",
      "include_colab_link": true
    },
    "gpuClass": "standard",
    "kernelspec": {
      "display_name": "Python 3",
      "name": "python3"
    },
    "language_info": {
      "name": "python"
    },
    "widgets": {
      "application/vnd.jupyter.widget-state+json": {
        "23910d9ae6f047f4a209516b805c82c4": {
          "model_module": "@jupyter-widgets/controls",
          "model_module_version": "1.5.0",
          "model_name": "ProgressStyleModel",
          "state": {
            "_model_module": "@jupyter-widgets/controls",
            "_model_module_version": "1.5.0",
            "_model_name": "ProgressStyleModel",
            "_view_count": null,
            "_view_module": "@jupyter-widgets/base",
            "_view_module_version": "1.2.0",
            "_view_name": "StyleView",
            "bar_color": null,
            "description_width": ""
          }
        },
        "36ba3abe89d649578cebf668932a19fa": {
          "model_module": "@jupyter-widgets/controls",
          "model_module_version": "1.5.0",
          "model_name": "DescriptionStyleModel",
          "state": {
            "_model_module": "@jupyter-widgets/controls",
            "_model_module_version": "1.5.0",
            "_model_name": "DescriptionStyleModel",
            "_view_count": null,
            "_view_module": "@jupyter-widgets/base",
            "_view_module_version": "1.2.0",
            "_view_name": "StyleView",
            "description_width": ""
          }
        },
        "3eadfe43c6a74caabfc28d43f6901c2a": {
          "model_module": "@jupyter-widgets/controls",
          "model_module_version": "1.5.0",
          "model_name": "HBoxModel",
          "state": {
            "_dom_classes": [],
            "_model_module": "@jupyter-widgets/controls",
            "_model_module_version": "1.5.0",
            "_model_name": "HBoxModel",
            "_view_count": null,
            "_view_module": "@jupyter-widgets/controls",
            "_view_module_version": "1.5.0",
            "_view_name": "HBoxView",
            "box_style": "",
            "children": [
              "IPY_MODEL_5c9f1ca15ecd476cbefaffd2c240d164",
              "IPY_MODEL_84bebf56614641d88a1674011048edc6",
              "IPY_MODEL_871aa703e23f4775b850e8728bd00275"
            ],
            "layout": "IPY_MODEL_789054acbef34e77acfc95e219fc3c21"
          }
        },
        "455f6b2b95444945a4e85aba8e07e25b": {
          "model_module": "@jupyter-widgets/base",
          "model_module_version": "1.2.0",
          "model_name": "LayoutModel",
          "state": {
            "_model_module": "@jupyter-widgets/base",
            "_model_module_version": "1.2.0",
            "_model_name": "LayoutModel",
            "_view_count": null,
            "_view_module": "@jupyter-widgets/base",
            "_view_module_version": "1.2.0",
            "_view_name": "LayoutView",
            "align_content": null,
            "align_items": null,
            "align_self": null,
            "border": null,
            "bottom": null,
            "display": null,
            "flex": null,
            "flex_flow": null,
            "grid_area": null,
            "grid_auto_columns": null,
            "grid_auto_flow": null,
            "grid_auto_rows": null,
            "grid_column": null,
            "grid_gap": null,
            "grid_row": null,
            "grid_template_areas": null,
            "grid_template_columns": null,
            "grid_template_rows": null,
            "height": null,
            "justify_content": null,
            "justify_items": null,
            "left": null,
            "margin": null,
            "max_height": null,
            "max_width": null,
            "min_height": null,
            "min_width": null,
            "object_fit": null,
            "object_position": null,
            "order": null,
            "overflow": null,
            "overflow_x": null,
            "overflow_y": null,
            "padding": null,
            "right": null,
            "top": null,
            "visibility": null,
            "width": null
          }
        },
        "4bbd63b26dbb44e8ad037b93f50b3263": {
          "model_module": "@jupyter-widgets/controls",
          "model_module_version": "1.5.0",
          "model_name": "DescriptionStyleModel",
          "state": {
            "_model_module": "@jupyter-widgets/controls",
            "_model_module_version": "1.5.0",
            "_model_name": "DescriptionStyleModel",
            "_view_count": null,
            "_view_module": "@jupyter-widgets/base",
            "_view_module_version": "1.2.0",
            "_view_name": "StyleView",
            "description_width": ""
          }
        },
        "5c9f1ca15ecd476cbefaffd2c240d164": {
          "model_module": "@jupyter-widgets/controls",
          "model_module_version": "1.5.0",
          "model_name": "HTMLModel",
          "state": {
            "_dom_classes": [],
            "_model_module": "@jupyter-widgets/controls",
            "_model_module_version": "1.5.0",
            "_model_name": "HTMLModel",
            "_view_count": null,
            "_view_module": "@jupyter-widgets/controls",
            "_view_module_version": "1.5.0",
            "_view_name": "HTMLView",
            "description": "",
            "description_tooltip": null,
            "layout": "IPY_MODEL_db2703a6159d4fff81eb697b3ef5bfdb",
            "placeholder": "​",
            "style": "IPY_MODEL_81af6791163345beaeea9cebe18d33f5",
            "value": "Downloading builder script: 100%"
          }
        },
        "789054acbef34e77acfc95e219fc3c21": {
          "model_module": "@jupyter-widgets/base",
          "model_module_version": "1.2.0",
          "model_name": "LayoutModel",
          "state": {
            "_model_module": "@jupyter-widgets/base",
            "_model_module_version": "1.2.0",
            "_model_name": "LayoutModel",
            "_view_count": null,
            "_view_module": "@jupyter-widgets/base",
            "_view_module_version": "1.2.0",
            "_view_name": "LayoutView",
            "align_content": null,
            "align_items": null,
            "align_self": null,
            "border": null,
            "bottom": null,
            "display": null,
            "flex": null,
            "flex_flow": null,
            "grid_area": null,
            "grid_auto_columns": null,
            "grid_auto_flow": null,
            "grid_auto_rows": null,
            "grid_column": null,
            "grid_gap": null,
            "grid_row": null,
            "grid_template_areas": null,
            "grid_template_columns": null,
            "grid_template_rows": null,
            "height": null,
            "justify_content": null,
            "justify_items": null,
            "left": null,
            "margin": null,
            "max_height": null,
            "max_width": null,
            "min_height": null,
            "min_width": null,
            "object_fit": null,
            "object_position": null,
            "order": null,
            "overflow": null,
            "overflow_x": null,
            "overflow_y": null,
            "padding": null,
            "right": null,
            "top": null,
            "visibility": null,
            "width": null
          }
        },
        "7d546f7f1fad44b489f865707cf65462": {
          "model_module": "@jupyter-widgets/base",
          "model_module_version": "1.2.0",
          "model_name": "LayoutModel",
          "state": {
            "_model_module": "@jupyter-widgets/base",
            "_model_module_version": "1.2.0",
            "_model_name": "LayoutModel",
            "_view_count": null,
            "_view_module": "@jupyter-widgets/base",
            "_view_module_version": "1.2.0",
            "_view_name": "LayoutView",
            "align_content": null,
            "align_items": null,
            "align_self": null,
            "border": null,
            "bottom": null,
            "display": null,
            "flex": null,
            "flex_flow": null,
            "grid_area": null,
            "grid_auto_columns": null,
            "grid_auto_flow": null,
            "grid_auto_rows": null,
            "grid_column": null,
            "grid_gap": null,
            "grid_row": null,
            "grid_template_areas": null,
            "grid_template_columns": null,
            "grid_template_rows": null,
            "height": null,
            "justify_content": null,
            "justify_items": null,
            "left": null,
            "margin": null,
            "max_height": null,
            "max_width": null,
            "min_height": null,
            "min_width": null,
            "object_fit": null,
            "object_position": null,
            "order": null,
            "overflow": null,
            "overflow_x": null,
            "overflow_y": null,
            "padding": null,
            "right": null,
            "top": null,
            "visibility": null,
            "width": null
          }
        },
        "81af6791163345beaeea9cebe18d33f5": {
          "model_module": "@jupyter-widgets/controls",
          "model_module_version": "1.5.0",
          "model_name": "DescriptionStyleModel",
          "state": {
            "_model_module": "@jupyter-widgets/controls",
            "_model_module_version": "1.5.0",
            "_model_name": "DescriptionStyleModel",
            "_view_count": null,
            "_view_module": "@jupyter-widgets/base",
            "_view_module_version": "1.2.0",
            "_view_name": "StyleView",
            "description_width": ""
          }
        },
        "84bebf56614641d88a1674011048edc6": {
          "model_module": "@jupyter-widgets/controls",
          "model_module_version": "1.5.0",
          "model_name": "FloatProgressModel",
          "state": {
            "_dom_classes": [],
            "_model_module": "@jupyter-widgets/controls",
            "_model_module_version": "1.5.0",
            "_model_name": "FloatProgressModel",
            "_view_count": null,
            "_view_module": "@jupyter-widgets/controls",
            "_view_module_version": "1.5.0",
            "_view_name": "ProgressView",
            "bar_style": "success",
            "description": "",
            "description_tooltip": null,
            "layout": "IPY_MODEL_7d546f7f1fad44b489f865707cf65462",
            "max": 4485,
            "min": 0,
            "orientation": "horizontal",
            "style": "IPY_MODEL_a4975a0f0d854a81afded96a48bceab2",
            "value": 4485
          }
        },
        "871aa703e23f4775b850e8728bd00275": {
          "model_module": "@jupyter-widgets/controls",
          "model_module_version": "1.5.0",
          "model_name": "HTMLModel",
          "state": {
            "_dom_classes": [],
            "_model_module": "@jupyter-widgets/controls",
            "_model_module_version": "1.5.0",
            "_model_name": "HTMLModel",
            "_view_count": null,
            "_view_module": "@jupyter-widgets/controls",
            "_view_module_version": "1.5.0",
            "_view_name": "HTMLView",
            "description": "",
            "description_tooltip": null,
            "layout": "IPY_MODEL_455f6b2b95444945a4e85aba8e07e25b",
            "placeholder": "​",
            "style": "IPY_MODEL_4bbd63b26dbb44e8ad037b93f50b3263",
            "value": " 4.49k/4.49k [00:00&lt;00:00, 183kB/s]"
          }
        },
        "8a5a8d5a79ed45919e4e9597eedc1276": {
          "model_module": "@jupyter-widgets/controls",
          "model_module_version": "1.5.0",
          "model_name": "FloatProgressModel",
          "state": {
            "_dom_classes": [],
            "_model_module": "@jupyter-widgets/controls",
            "_model_module_version": "1.5.0",
            "_model_name": "FloatProgressModel",
            "_view_count": null,
            "_view_module": "@jupyter-widgets/controls",
            "_view_module_version": "1.5.0",
            "_view_name": "ProgressView",
            "bar_style": "success",
            "description": "",
            "description_tooltip": null,
            "layout": "IPY_MODEL_dabb8d4d049743bcb8d701ef5c142a16",
            "max": 5599,
            "min": 0,
            "orientation": "horizontal",
            "style": "IPY_MODEL_23910d9ae6f047f4a209516b805c82c4",
            "value": 5599
          }
        },
        "9623acb113144b2d9cb262adaacaa8a1": {
          "model_module": "@jupyter-widgets/controls",
          "model_module_version": "1.5.0",
          "model_name": "DescriptionStyleModel",
          "state": {
            "_model_module": "@jupyter-widgets/controls",
            "_model_module_version": "1.5.0",
            "_model_name": "DescriptionStyleModel",
            "_view_count": null,
            "_view_module": "@jupyter-widgets/base",
            "_view_module_version": "1.2.0",
            "_view_name": "StyleView",
            "description_width": ""
          }
        },
        "9b5327a9b9bf462fb5a21c8c547a39ba": {
          "model_module": "@jupyter-widgets/base",
          "model_module_version": "1.2.0",
          "model_name": "LayoutModel",
          "state": {
            "_model_module": "@jupyter-widgets/base",
            "_model_module_version": "1.2.0",
            "_model_name": "LayoutModel",
            "_view_count": null,
            "_view_module": "@jupyter-widgets/base",
            "_view_module_version": "1.2.0",
            "_view_name": "LayoutView",
            "align_content": null,
            "align_items": null,
            "align_self": null,
            "border": null,
            "bottom": null,
            "display": null,
            "flex": null,
            "flex_flow": null,
            "grid_area": null,
            "grid_auto_columns": null,
            "grid_auto_flow": null,
            "grid_auto_rows": null,
            "grid_column": null,
            "grid_gap": null,
            "grid_row": null,
            "grid_template_areas": null,
            "grid_template_columns": null,
            "grid_template_rows": null,
            "height": null,
            "justify_content": null,
            "justify_items": null,
            "left": null,
            "margin": null,
            "max_height": null,
            "max_width": null,
            "min_height": null,
            "min_width": null,
            "object_fit": null,
            "object_position": null,
            "order": null,
            "overflow": null,
            "overflow_x": null,
            "overflow_y": null,
            "padding": null,
            "right": null,
            "top": null,
            "visibility": null,
            "width": null
          }
        },
        "a4975a0f0d854a81afded96a48bceab2": {
          "model_module": "@jupyter-widgets/controls",
          "model_module_version": "1.5.0",
          "model_name": "ProgressStyleModel",
          "state": {
            "_model_module": "@jupyter-widgets/controls",
            "_model_module_version": "1.5.0",
            "_model_name": "ProgressStyleModel",
            "_view_count": null,
            "_view_module": "@jupyter-widgets/base",
            "_view_module_version": "1.2.0",
            "_view_name": "StyleView",
            "bar_color": null,
            "description_width": ""
          }
        },
        "cdba7cd351db4cbeb0427363da6fb47c": {
          "model_module": "@jupyter-widgets/controls",
          "model_module_version": "1.5.0",
          "model_name": "HBoxModel",
          "state": {
            "_dom_classes": [],
            "_model_module": "@jupyter-widgets/controls",
            "_model_module_version": "1.5.0",
            "_model_name": "HBoxModel",
            "_view_count": null,
            "_view_module": "@jupyter-widgets/controls",
            "_view_module_version": "1.5.0",
            "_view_name": "HBoxView",
            "box_style": "",
            "children": [
              "IPY_MODEL_e64673a809564baf813b3deb155d7596",
              "IPY_MODEL_8a5a8d5a79ed45919e4e9597eedc1276",
              "IPY_MODEL_d5030aab92a4458c85b51b536929c694"
            ],
            "layout": "IPY_MODEL_9b5327a9b9bf462fb5a21c8c547a39ba"
          }
        },
        "d143da5476274fe0b489c3d0a61a3678": {
          "model_module": "@jupyter-widgets/base",
          "model_module_version": "1.2.0",
          "model_name": "LayoutModel",
          "state": {
            "_model_module": "@jupyter-widgets/base",
            "_model_module_version": "1.2.0",
            "_model_name": "LayoutModel",
            "_view_count": null,
            "_view_module": "@jupyter-widgets/base",
            "_view_module_version": "1.2.0",
            "_view_name": "LayoutView",
            "align_content": null,
            "align_items": null,
            "align_self": null,
            "border": null,
            "bottom": null,
            "display": null,
            "flex": null,
            "flex_flow": null,
            "grid_area": null,
            "grid_auto_columns": null,
            "grid_auto_flow": null,
            "grid_auto_rows": null,
            "grid_column": null,
            "grid_gap": null,
            "grid_row": null,
            "grid_template_areas": null,
            "grid_template_columns": null,
            "grid_template_rows": null,
            "height": null,
            "justify_content": null,
            "justify_items": null,
            "left": null,
            "margin": null,
            "max_height": null,
            "max_width": null,
            "min_height": null,
            "min_width": null,
            "object_fit": null,
            "object_position": null,
            "order": null,
            "overflow": null,
            "overflow_x": null,
            "overflow_y": null,
            "padding": null,
            "right": null,
            "top": null,
            "visibility": null,
            "width": null
          }
        },
        "d5030aab92a4458c85b51b536929c694": {
          "model_module": "@jupyter-widgets/controls",
          "model_module_version": "1.5.0",
          "model_name": "HTMLModel",
          "state": {
            "_dom_classes": [],
            "_model_module": "@jupyter-widgets/controls",
            "_model_module_version": "1.5.0",
            "_model_name": "HTMLModel",
            "_view_count": null,
            "_view_module": "@jupyter-widgets/controls",
            "_view_module_version": "1.5.0",
            "_view_name": "HTMLView",
            "description": "",
            "description_tooltip": null,
            "layout": "IPY_MODEL_f27a1a69591a4d3194dc38e85c3be894",
            "placeholder": "​",
            "style": "IPY_MODEL_9623acb113144b2d9cb262adaacaa8a1",
            "value": " 5.60k/5.60k [00:00&lt;00:00, 189kB/s]"
          }
        },
        "dabb8d4d049743bcb8d701ef5c142a16": {
          "model_module": "@jupyter-widgets/base",
          "model_module_version": "1.2.0",
          "model_name": "LayoutModel",
          "state": {
            "_model_module": "@jupyter-widgets/base",
            "_model_module_version": "1.2.0",
            "_model_name": "LayoutModel",
            "_view_count": null,
            "_view_module": "@jupyter-widgets/base",
            "_view_module_version": "1.2.0",
            "_view_name": "LayoutView",
            "align_content": null,
            "align_items": null,
            "align_self": null,
            "border": null,
            "bottom": null,
            "display": null,
            "flex": null,
            "flex_flow": null,
            "grid_area": null,
            "grid_auto_columns": null,
            "grid_auto_flow": null,
            "grid_auto_rows": null,
            "grid_column": null,
            "grid_gap": null,
            "grid_row": null,
            "grid_template_areas": null,
            "grid_template_columns": null,
            "grid_template_rows": null,
            "height": null,
            "justify_content": null,
            "justify_items": null,
            "left": null,
            "margin": null,
            "max_height": null,
            "max_width": null,
            "min_height": null,
            "min_width": null,
            "object_fit": null,
            "object_position": null,
            "order": null,
            "overflow": null,
            "overflow_x": null,
            "overflow_y": null,
            "padding": null,
            "right": null,
            "top": null,
            "visibility": null,
            "width": null
          }
        },
        "db2703a6159d4fff81eb697b3ef5bfdb": {
          "model_module": "@jupyter-widgets/base",
          "model_module_version": "1.2.0",
          "model_name": "LayoutModel",
          "state": {
            "_model_module": "@jupyter-widgets/base",
            "_model_module_version": "1.2.0",
            "_model_name": "LayoutModel",
            "_view_count": null,
            "_view_module": "@jupyter-widgets/base",
            "_view_module_version": "1.2.0",
            "_view_name": "LayoutView",
            "align_content": null,
            "align_items": null,
            "align_self": null,
            "border": null,
            "bottom": null,
            "display": null,
            "flex": null,
            "flex_flow": null,
            "grid_area": null,
            "grid_auto_columns": null,
            "grid_auto_flow": null,
            "grid_auto_rows": null,
            "grid_column": null,
            "grid_gap": null,
            "grid_row": null,
            "grid_template_areas": null,
            "grid_template_columns": null,
            "grid_template_rows": null,
            "height": null,
            "justify_content": null,
            "justify_items": null,
            "left": null,
            "margin": null,
            "max_height": null,
            "max_width": null,
            "min_height": null,
            "min_width": null,
            "object_fit": null,
            "object_position": null,
            "order": null,
            "overflow": null,
            "overflow_x": null,
            "overflow_y": null,
            "padding": null,
            "right": null,
            "top": null,
            "visibility": null,
            "width": null
          }
        },
        "e64673a809564baf813b3deb155d7596": {
          "model_module": "@jupyter-widgets/controls",
          "model_module_version": "1.5.0",
          "model_name": "HTMLModel",
          "state": {
            "_dom_classes": [],
            "_model_module": "@jupyter-widgets/controls",
            "_model_module_version": "1.5.0",
            "_model_name": "HTMLModel",
            "_view_count": null,
            "_view_module": "@jupyter-widgets/controls",
            "_view_module_version": "1.5.0",
            "_view_name": "HTMLView",
            "description": "",
            "description_tooltip": null,
            "layout": "IPY_MODEL_d143da5476274fe0b489c3d0a61a3678",
            "placeholder": "​",
            "style": "IPY_MODEL_36ba3abe89d649578cebf668932a19fa",
            "value": "Downloading builder script: 100%"
          }
        },
        "f27a1a69591a4d3194dc38e85c3be894": {
          "model_module": "@jupyter-widgets/base",
          "model_module_version": "1.2.0",
          "model_name": "LayoutModel",
          "state": {
            "_model_module": "@jupyter-widgets/base",
            "_model_module_version": "1.2.0",
            "_model_name": "LayoutModel",
            "_view_count": null,
            "_view_module": "@jupyter-widgets/base",
            "_view_module_version": "1.2.0",
            "_view_name": "LayoutView",
            "align_content": null,
            "align_items": null,
            "align_self": null,
            "border": null,
            "bottom": null,
            "display": null,
            "flex": null,
            "flex_flow": null,
            "grid_area": null,
            "grid_auto_columns": null,
            "grid_auto_flow": null,
            "grid_auto_rows": null,
            "grid_column": null,
            "grid_gap": null,
            "grid_row": null,
            "grid_template_areas": null,
            "grid_template_columns": null,
            "grid_template_rows": null,
            "height": null,
            "justify_content": null,
            "justify_items": null,
            "left": null,
            "margin": null,
            "max_height": null,
            "max_width": null,
            "min_height": null,
            "min_width": null,
            "object_fit": null,
            "object_position": null,
            "order": null,
            "overflow": null,
            "overflow_x": null,
            "overflow_y": null,
            "padding": null,
            "right": null,
            "top": null,
            "visibility": null,
            "width": null
          }
        }
      }
    }
  },
  "nbformat": 4,
  "nbformat_minor": 0
}