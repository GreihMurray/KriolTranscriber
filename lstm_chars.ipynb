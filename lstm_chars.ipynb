{
  "cells": [
    {
      "cell_type": "markdown",
      "metadata": {
        "id": "view-in-github",
        "colab_type": "text"
      },
      "source": [
        "<a href=\"https://colab.research.google.com/github/GreihMurray/KriolTranscriber/blob/master/lstm_chars.ipynb\" target=\"_parent\"><img src=\"https://colab.research.google.com/assets/colab-badge.svg\" alt=\"Open In Colab\"/></a>"
      ]
    },
    {
      "cell_type": "code",
      "source": [
        "!pip install evaluate\n",
        "!pip install jiwer"
      ],
      "metadata": {
        "colab": {
          "base_uri": "https://localhost:8080/"
        },
        "id": "E4H4aOYQJdg_",
        "outputId": "3d36c4a0-cced-4357-9dd6-5cb92ce2c71a"
      },
      "execution_count": 1,
      "outputs": [
        {
          "output_type": "stream",
          "name": "stdout",
          "text": [
            "Looking in indexes: https://pypi.org/simple, https://us-python.pkg.dev/colab-wheels/public/simple/\n",
            "Collecting evaluate\n",
            "  Downloading evaluate-0.3.0-py3-none-any.whl (72 kB)\n",
            "\u001b[K     |████████████████████████████████| 72 kB 398 kB/s \n",
            "\u001b[?25hRequirement already satisfied: packaging in /usr/local/lib/python3.8/dist-packages (from evaluate) (21.3)\n",
            "Collecting multiprocess\n",
            "  Downloading multiprocess-0.70.14-py38-none-any.whl (132 kB)\n",
            "\u001b[K     |████████████████████████████████| 132 kB 28.2 MB/s \n",
            "\u001b[?25hCollecting responses<0.19\n",
            "  Downloading responses-0.18.0-py3-none-any.whl (38 kB)\n",
            "Collecting datasets>=2.0.0\n",
            "  Downloading datasets-2.7.1-py3-none-any.whl (451 kB)\n",
            "\u001b[K     |████████████████████████████████| 451 kB 67.1 MB/s \n",
            "\u001b[?25hRequirement already satisfied: requests>=2.19.0 in /usr/local/lib/python3.8/dist-packages (from evaluate) (2.23.0)\n",
            "Requirement already satisfied: dill in /usr/local/lib/python3.8/dist-packages (from evaluate) (0.3.6)\n",
            "Requirement already satisfied: fsspec[http]>=2021.05.0 in /usr/local/lib/python3.8/dist-packages (from evaluate) (2022.11.0)\n",
            "Collecting huggingface-hub>=0.7.0\n",
            "  Downloading huggingface_hub-0.11.1-py3-none-any.whl (182 kB)\n",
            "\u001b[K     |████████████████████████████████| 182 kB 67.4 MB/s \n",
            "\u001b[?25hCollecting xxhash\n",
            "  Downloading xxhash-3.1.0-cp38-cp38-manylinux_2_17_x86_64.manylinux2014_x86_64.whl (212 kB)\n",
            "\u001b[K     |████████████████████████████████| 212 kB 73.5 MB/s \n",
            "\u001b[?25hRequirement already satisfied: pandas in /usr/local/lib/python3.8/dist-packages (from evaluate) (1.3.5)\n",
            "Requirement already satisfied: numpy>=1.17 in /usr/local/lib/python3.8/dist-packages (from evaluate) (1.21.6)\n",
            "Requirement already satisfied: tqdm>=4.62.1 in /usr/local/lib/python3.8/dist-packages (from evaluate) (4.64.1)\n",
            "Requirement already satisfied: aiohttp in /usr/local/lib/python3.8/dist-packages (from datasets>=2.0.0->evaluate) (3.8.3)\n",
            "Requirement already satisfied: pyarrow>=6.0.0 in /usr/local/lib/python3.8/dist-packages (from datasets>=2.0.0->evaluate) (9.0.0)\n",
            "Requirement already satisfied: pyyaml>=5.1 in /usr/local/lib/python3.8/dist-packages (from datasets>=2.0.0->evaluate) (6.0)\n",
            "Requirement already satisfied: attrs>=17.3.0 in /usr/local/lib/python3.8/dist-packages (from aiohttp->datasets>=2.0.0->evaluate) (22.1.0)\n",
            "Requirement already satisfied: frozenlist>=1.1.1 in /usr/local/lib/python3.8/dist-packages (from aiohttp->datasets>=2.0.0->evaluate) (1.3.3)\n",
            "Requirement already satisfied: charset-normalizer<3.0,>=2.0 in /usr/local/lib/python3.8/dist-packages (from aiohttp->datasets>=2.0.0->evaluate) (2.1.1)\n",
            "Requirement already satisfied: aiosignal>=1.1.2 in /usr/local/lib/python3.8/dist-packages (from aiohttp->datasets>=2.0.0->evaluate) (1.3.1)\n",
            "Requirement already satisfied: yarl<2.0,>=1.0 in /usr/local/lib/python3.8/dist-packages (from aiohttp->datasets>=2.0.0->evaluate) (1.8.1)\n",
            "Requirement already satisfied: async-timeout<5.0,>=4.0.0a3 in /usr/local/lib/python3.8/dist-packages (from aiohttp->datasets>=2.0.0->evaluate) (4.0.2)\n",
            "Requirement already satisfied: multidict<7.0,>=4.5 in /usr/local/lib/python3.8/dist-packages (from aiohttp->datasets>=2.0.0->evaluate) (6.0.2)\n",
            "Requirement already satisfied: typing-extensions>=3.7.4.3 in /usr/local/lib/python3.8/dist-packages (from huggingface-hub>=0.7.0->evaluate) (4.1.1)\n",
            "Requirement already satisfied: filelock in /usr/local/lib/python3.8/dist-packages (from huggingface-hub>=0.7.0->evaluate) (3.8.0)\n",
            "Requirement already satisfied: pyparsing!=3.0.5,>=2.0.2 in /usr/local/lib/python3.8/dist-packages (from packaging->evaluate) (3.0.9)\n",
            "Requirement already satisfied: urllib3!=1.25.0,!=1.25.1,<1.26,>=1.21.1 in /usr/local/lib/python3.8/dist-packages (from requests>=2.19.0->evaluate) (1.24.3)\n",
            "Requirement already satisfied: chardet<4,>=3.0.2 in /usr/local/lib/python3.8/dist-packages (from requests>=2.19.0->evaluate) (3.0.4)\n",
            "Requirement already satisfied: idna<3,>=2.5 in /usr/local/lib/python3.8/dist-packages (from requests>=2.19.0->evaluate) (2.10)\n",
            "Requirement already satisfied: certifi>=2017.4.17 in /usr/local/lib/python3.8/dist-packages (from requests>=2.19.0->evaluate) (2022.9.24)\n",
            "Collecting urllib3!=1.25.0,!=1.25.1,<1.26,>=1.21.1\n",
            "  Downloading urllib3-1.25.11-py2.py3-none-any.whl (127 kB)\n",
            "\u001b[K     |████████████████████████████████| 127 kB 40.4 MB/s \n",
            "\u001b[?25hRequirement already satisfied: pytz>=2017.3 in /usr/local/lib/python3.8/dist-packages (from pandas->evaluate) (2022.6)\n",
            "Requirement already satisfied: python-dateutil>=2.7.3 in /usr/local/lib/python3.8/dist-packages (from pandas->evaluate) (2.8.2)\n",
            "Requirement already satisfied: six>=1.5 in /usr/local/lib/python3.8/dist-packages (from python-dateutil>=2.7.3->pandas->evaluate) (1.15.0)\n",
            "Installing collected packages: urllib3, xxhash, responses, multiprocess, huggingface-hub, datasets, evaluate\n",
            "  Attempting uninstall: urllib3\n",
            "    Found existing installation: urllib3 1.24.3\n",
            "    Uninstalling urllib3-1.24.3:\n",
            "      Successfully uninstalled urllib3-1.24.3\n",
            "Successfully installed datasets-2.7.1 evaluate-0.3.0 huggingface-hub-0.11.1 multiprocess-0.70.14 responses-0.18.0 urllib3-1.25.11 xxhash-3.1.0\n",
            "Looking in indexes: https://pypi.org/simple, https://us-python.pkg.dev/colab-wheels/public/simple/\n",
            "Collecting jiwer\n",
            "  Downloading jiwer-2.5.1-py3-none-any.whl (15 kB)\n",
            "Collecting levenshtein==0.20.2\n",
            "  Downloading Levenshtein-0.20.2-cp38-cp38-manylinux_2_17_x86_64.manylinux2014_x86_64.whl (1.4 MB)\n",
            "\u001b[K     |████████████████████████████████| 1.4 MB 12.3 MB/s \n",
            "\u001b[?25hCollecting rapidfuzz<3.0.0,>=2.3.0\n",
            "  Downloading rapidfuzz-2.13.3-cp38-cp38-manylinux_2_17_x86_64.manylinux2014_x86_64.whl (2.2 MB)\n",
            "\u001b[K     |████████████████████████████████| 2.2 MB 79.0 MB/s \n",
            "\u001b[?25hInstalling collected packages: rapidfuzz, levenshtein, jiwer\n",
            "Successfully installed jiwer-2.5.1 levenshtein-0.20.2 rapidfuzz-2.13.3\n"
          ]
        }
      ]
    },
    {
      "cell_type": "code",
      "execution_count": 2,
      "metadata": {
        "id": "tiEm2CJT-ufY"
      },
      "outputs": [],
      "source": [
        "from keras.utils import to_categorical\n",
        "from tensorflow.keras.models import Sequential\n",
        "from keras.utils.vis_utils import plot_model\n",
        "import tensorflow as tf\n",
        "from tensorflow.keras import activations\n",
        "import numpy as np\n",
        "from evaluate import load\n",
        "import itertools\n",
        "from scipy.io import wavfile\n",
        "from keras import backend as K\n",
        "from tensorflow.keras.layers import LSTM, Embedding, Dense, TimeDistributed, Dropout, Bidirectional, Reshape, GRU, Flatten, Activation"
      ]
    },
    {
      "cell_type": "code",
      "execution_count": 3,
      "metadata": {
        "id": "5Yl8pSEy8_hu"
      },
      "outputs": [],
      "source": [
        "import math, random\n",
        "import torch\n",
        "import torchaudio\n",
        "from torchaudio import transforms\n",
        "import pandas as pd\n",
        "from tqdm import tqdm\n",
        "import os\n",
        "import unicodedata\n",
        "import re\n",
        "from keras.models import load_model"
      ]
    },
    {
      "cell_type": "code",
      "execution_count": 4,
      "metadata": {
        "colab": {
          "base_uri": "https://localhost:8080/"
        },
        "id": "nzyMxwpr9E2o",
        "outputId": "cf367d18-7ddc-4fce-e266-a1555630cde1"
      },
      "outputs": [
        {
          "output_type": "stream",
          "name": "stdout",
          "text": [
            "Mounted at /content/gdrive\n"
          ]
        }
      ],
      "source": [
        "from google.colab import drive\n",
        "\n",
        "drive.mount('/content/gdrive')"
      ]
    },
    {
      "cell_type": "code",
      "execution_count": 5,
      "metadata": {
        "id": "u-KbCzwD9F7D"
      },
      "outputs": [],
      "source": [
        "DEFAULT_DIR = '/content/gdrive/MyDrive/Colab_Notebooks/NLP/project/'\n",
        "SR = 44100"
      ]
    },
    {
      "cell_type": "code",
      "execution_count": 6,
      "metadata": {
        "id": "Ujj8a26e9HOp"
      },
      "outputs": [],
      "source": [
        "def load_html_data(dir_ext):\n",
        "    all_data = []\n",
        "    chars_to_replace = '.,;:<>?/\\'\\\\[]()!#$%\"”“'\n",
        "    directory = DEFAULT_DIR + 'html/' + dir_ext + '/'\n",
        "\n",
        "    dir_files = sorted(os.listdir(directory))\n",
        "\n",
        "    for file in tqdm(dir_files, desc='Loading HTML Data'):\n",
        "        file = directory + file\n",
        "        divs = []\n",
        "        with open(file, 'r', encoding='UTF-8') as in_file:\n",
        "            data = ' '.join(in_file.readlines())\n",
        "            data = unicodedata.normalize('NFC', data)\n",
        "            data = re.sub(r'<span class=.*?</span>', '', data)\n",
        "            data = re.sub(r'<a.*?</a>', '', data)\n",
        "            data = data.replace(u'\\xa0', u' ')\n",
        "            check_divs = re.findall(r'<div class=\\'mt\\'.*?>(.*?) </div>', data)\n",
        "            check_divs.extend(re.findall(r'<div class=\\'mt2\\'.*?>(.*?) </div>', data))\n",
        "            # print(data)\n",
        "            check_divs.extend(re.findall(r'<div class=\\'ip\\'>(.*)', data))\n",
        "\n",
        "            if len(check_divs) > 0:\n",
        "                full = '!'.join(check_divs)\n",
        "                full = re.sub(r'[\\,,@,#,$,%,^,&,*,(,),\\[,\\],\\',\\\",;,:,“,”,‘,’]', '', full)\n",
        "                full = re.sub('^\\s+', ' ', full).strip('\\u00A0')\n",
        "                full = re.split('[\\.,\\?,!,\\n]', str(full))\n",
        "                all_data.extend([s.strip() for s in full])\n",
        "\n",
        "            divs.extend(re.findall(r'<div class=\\'[p,s]\\'.*?>(.*?) </div>', data))\n",
        "\n",
        "        full_data = '!'.join(divs)\n",
        "        full_data = re.sub(r'[\\,,@,#,$,%,^,&,*,(,),\\[,\\],\\',\\\",;,:,“,”,‘,’]', '', full_data)\n",
        "        full_data = re.sub(' +', ' ', full_data)\n",
        "        full_data = re.split('[\\.,\\?,!,\\n]', str(full_data))\n",
        "\n",
        "        all_data.extend([s.strip() for s in full_data])\n",
        "\n",
        "        clean = []\n",
        "        for row2 in all_data:\n",
        "            if len(row2) >= 1:\n",
        "                clean.append(row2.lower())\n",
        "\n",
        "    return clean"
      ]
    },
    {
      "cell_type": "code",
      "execution_count": 7,
      "metadata": {
        "id": "WxujUpiQ9IjU"
      },
      "outputs": [],
      "source": [
        "def load_dataset(dir_ext):\n",
        "    transcripts = load_html_data(dir_ext)\n",
        "    all_x = []\n",
        "    all_y = []\n",
        "    directory = DEFAULT_DIR + 'audio/' + dir_ext + '/'\n",
        "\n",
        "    order = []\n",
        "\n",
        "    dir_files = sorted(os.listdir(directory))\n",
        "\n",
        "    for i, file in tqdm(enumerate(dir_files), desc='Loading Audio Data & Creating Dataset'):\n",
        "        file = directory + file\n",
        "        \n",
        "        sr, data = wavfile.read(file)\n",
        "\n",
        "        max_len = SR//1000 * 15000\n",
        "\n",
        "        if len(data) > max_len:\n",
        "          continue\n",
        "\n",
        "        all_x.append(data)\n",
        "        all_y.append(transcripts[i])\n",
        "\n",
        "\n",
        "    return pd.DataFrame(list(zip(all_x, all_y)), columns=['audio', 'transcription'])"
      ]
    },
    {
      "cell_type": "code",
      "execution_count": 8,
      "metadata": {
        "id": "FQb1aO129R-t"
      },
      "outputs": [],
      "source": [
        "def one_hot(data):\n",
        "    mapping = {}\n",
        "    mapped = []\n",
        "\n",
        "    i = 0\n",
        "\n",
        "    for sentence in data:\n",
        "      cur_map = []\n",
        "      for word in sentence:\n",
        "          if word in mapping.keys():\n",
        "            cur_map.append(mapping[word])\n",
        "          else:\n",
        "            i += 1\n",
        "            cur_map.append(i)\n",
        "            mapping[word] = i\n",
        "            \n",
        "      mapped.append(cur_map)\n",
        "      \n",
        "    return mapped, mapping"
      ]
    },
    {
      "cell_type": "code",
      "execution_count": 9,
      "metadata": {
        "id": "w1aYZcfH9TDQ"
      },
      "outputs": [],
      "source": [
        "def vectorize(data):\n",
        "    vecs = []\n",
        "    for row in data:\n",
        "      cur_vec = [0] * len(row[0])\n",
        "      for piece in row:\n",
        "        piece = list(piece)\n",
        "        cur_vec[piece.index(1)] += 1\n",
        "      cur_vec[2] = 1\n",
        "      vecs.append(cur_vec)\n",
        "\n",
        "    return vecs"
      ]
    },
    {
      "cell_type": "code",
      "execution_count": 10,
      "metadata": {
        "id": "oYBr-R5393cs"
      },
      "outputs": [],
      "source": [
        "def pad_audio(data):\n",
        "    max_len = SR//1000 * 15000\n",
        "\n",
        "    for i, aud in tqdm(enumerate(data), desc='Padding audio'):\n",
        "      if len(aud) < max_len:\n",
        "        data[i] = np.array(np.append(aud, np.zeros(max_len - len(aud))))\n",
        "\n",
        "    return data"
      ]
    },
    {
      "cell_type": "code",
      "execution_count": 11,
      "metadata": {
        "id": "93m3kZVEB20q"
      },
      "outputs": [],
      "source": [
        "def get_min(audio):\n",
        "    minim = 0\n",
        "\n",
        "    for row in tqdm(audio, desc='Finding min'):\n",
        "        if min(row) < minim:\n",
        "            minim = min(row)\n",
        "    \n",
        "    return minim"
      ]
    },
    {
      "cell_type": "code",
      "execution_count": 12,
      "metadata": {
        "id": "X2wjJymUDatt"
      },
      "outputs": [],
      "source": [
        "def get_max(audio):\n",
        "    maxim = 0\n",
        "\n",
        "    for row in tqdm(audio, desc='Finding max'):\n",
        "        if max(row) > maxim:\n",
        "           maxim = max(row)\n",
        "\n",
        "    return maxim"
      ]
    },
    {
      "cell_type": "code",
      "execution_count": 13,
      "metadata": {
        "id": "QqsHwHwlCRAG"
      },
      "outputs": [],
      "source": [
        "def adjust_audio(audio, minim):\n",
        "    for i, row in tqdm(enumerate(audio), desc='Adjusting Audio'):\n",
        "        for j, val in enumerate(row):\n",
        "            audio[i][j] = int(val + abs(minim))\n",
        "\n",
        "    return audio"
      ]
    },
    {
      "cell_type": "code",
      "source": [
        "def advanced_relu(x):\n",
        "    return K.relu(x, max_value=500000)"
      ],
      "metadata": {
        "id": "JH4lOO_JtToL"
      },
      "execution_count": 14,
      "outputs": []
    },
    {
      "cell_type": "code",
      "execution_count": 15,
      "metadata": {
        "id": "XDzD3p6QBLV-"
      },
      "outputs": [],
      "source": [
        "def build_model(input_len, output_len, maxim):\n",
        "    model = Sequential()\n",
        "    model.add(Dense(321, input_shape=(input_len,), activation=advanced_relu))\n",
        "    model.add(Embedding(input_dim=499999, output_dim=34))\n",
        "    model.add(Bidirectional(LSTM(units=50, return_sequences=True, recurrent_dropout=0.1)))\n",
        "    model.add(Dense(34, activation='softmax'))\n",
        "    #model.add(Reshape((321, 34)))\n",
        "    \n",
        "    model.compile(optimizer=\"adam\", metrics=[\"accuracy\"], loss='categorical_crossentropy')\n",
        "\n",
        "\n",
        "    return model"
      ]
    },
    {
      "cell_type": "code",
      "source": [
        "def load_and_process_data(folder_path):\n",
        "    df = load_dataset(folder_path)\n",
        "    clean_y = list(df['transcription'])\n",
        "\n",
        "    padded_y = list(zip(*itertools.zip_longest(*list(df['transcription']), fillvalue='!')))\n",
        "    enc_y, mapping = one_hot(padded_y)\n",
        "    cat_y = np.array(to_categorical(enc_y))\n",
        "\n",
        "    padded_x = pad_audio(df['audio'])\n",
        "\n",
        "    minim = get_min(padded_x)\n",
        "    padded_x = adjust_audio(padded_x, minim)\n",
        "    maxim = get_max(padded_x)\n",
        "\n",
        "    padded_x = np.stack(padded_x)\n",
        "\n",
        "    for entry in cat_y:\n",
        "        for row in entry:\n",
        "            if row[7] != 0:\n",
        "                row[7] = 0\n",
        "\n",
        "    return clean_y, cat_y, padded_x, minim, maxim, mapping"
      ],
      "metadata": {
        "id": "OHe43qhnHN5a"
      },
      "execution_count": 16,
      "outputs": []
    },
    {
      "cell_type": "code",
      "source": [
        "def evaluate(model, clean_y, padded_x, mapping):\n",
        "    cur_words = []\n",
        "\n",
        "    map_list = mapping.items()\n",
        "    map_key = list(mapping.keys())\n",
        "\n",
        "    last_char = False\n",
        "\n",
        "    all_words = []\n",
        "\n",
        "    preds = model.predict(padded_x)\n",
        "\n",
        "    print(len(preds))\n",
        "\n",
        "    for pred in preds:\n",
        "        cur_words = []\n",
        "        for row in pred:\n",
        "            row = list(row)\n",
        "            cur_words.append(map_key[row.index(max(row))-1])\n",
        "            \n",
        "        len_words = len(cur_words) - 1\n",
        "\n",
        "        for i in range(len_words, 0, -1):\n",
        "            if cur_words[i] != ' ':\n",
        "                joined = ''.join(cur_words)\n",
        "                all_words.append(re.sub(' +', ' ', joined))\n",
        "                break\n",
        "            else:\n",
        "                cur_words.pop()\n",
        "\n",
        "    cer = load('cer')\n",
        "    cer_score = cer.compute(predictions=all_words, references=clean_y)\n",
        "    print('Character Error Rate:', cer_score)\n",
        "\n",
        "    wer = load('wer')\n",
        "    wer_score = wer.compute(predictions=all_words, references=clean_y)\n",
        "    print('Word Error Rate:', wer_score)"
      ],
      "metadata": {
        "id": "fPKbFnrcIlDM"
      },
      "execution_count": 21,
      "outputs": []
    },
    {
      "cell_type": "code",
      "source": [
        "def main(train=False, model=''):\n",
        "    clean_y, cat_y, padded_x, minim, maxim, mapping = load_and_process_data('train')\n",
        "\n",
        "    if train:\n",
        "        model = build_model(len(padded_x[0]), len(cat_y[0]), maxim)\n",
        "        plot_model(model, show_shapes=True)\n",
        "\n",
        "        model.fit(padded_x, cat_y, epochs=100, verbose=1, batch_size=1)\n",
        "    else:\n",
        "        # '/content/gdrive/MyDrive/Colab_Notebooks/NLP/project/lstm_model_450e'\n",
        "        model = load_model(model)\n",
        "\n",
        "    evaluate(model, clean_y, padded_x, mapping)"
      ],
      "metadata": {
        "id": "WNrHFG7KHt71"
      },
      "execution_count": 19,
      "outputs": []
    },
    {
      "cell_type": "code",
      "source": [
        "main(model='/content/gdrive/MyDrive/Colab_Notebooks/NLP/project/lstm_model_450e')"
      ],
      "metadata": {
        "colab": {
          "base_uri": "https://localhost:8080/",
          "height": 257,
          "referenced_widgets": [
            "c691aa7ea9e14644802bc8daaa65b042",
            "7d52c5beb78f4631aa89e026ad34ced0",
            "8c31a9f239ad4f63a8f84714e059a9df",
            "fdb57261a9464ad29849c55504f4cac1",
            "cbb417349bfe4b11b4b86786125afd41",
            "936142914aa2451b880f174d86e67a34",
            "ab5d825de2ec45879f8e99937b6d21be",
            "103c242b045a47119d19e5c5f6b761e3",
            "65b3df12020742468180647b72dae28a",
            "bc936b369824445799c5955550e53386",
            "1743f1a075ea4bae86595ff28d75dcda"
          ]
        },
        "id": "oG2yzsQ-J1y-",
        "outputId": "9b251d46-b3a5-43c9-a491-40ef986baf34"
      },
      "execution_count": 22,
      "outputs": [
        {
          "output_type": "stream",
          "name": "stderr",
          "text": [
            "Loading HTML Data: 100%|██████████| 293/293 [00:01<00:00, 205.85it/s]\n",
            "Loading Audio Data & Creating Dataset: 0it [00:00, ?it/s]<ipython-input-7-6963f008061e>:14: WavFileWarning: Chunk (non-data) not understood, skipping it.\n",
            "  sr, data = wavfile.read(file)\n",
            "Loading Audio Data & Creating Dataset: 356it [00:02, 154.90it/s]\n",
            "Padding audio: 306it [00:01, 217.15it/s]\n",
            "Finding min: 100%|██████████| 306/306 [00:11<00:00, 27.66it/s]\n",
            "Adjusting Audio: 306it [07:36,  1.49s/it]\n",
            "Finding max: 100%|██████████| 306/306 [00:10<00:00, 28.35it/s]\n"
          ]
        },
        {
          "output_type": "stream",
          "name": "stdout",
          "text": [
            "10/10 [==============================] - 3s 300ms/step\n",
            "306\n",
            "Character Error Rate: 0.31001437470052706\n"
          ]
        },
        {
          "output_type": "display_data",
          "data": {
            "text/plain": [
              "Downloading builder script:   0%|          | 0.00/4.49k [00:00<?, ?B/s]"
            ],
            "application/vnd.jupyter.widget-view+json": {
              "version_major": 2,
              "version_minor": 0,
              "model_id": "c691aa7ea9e14644802bc8daaa65b042"
            }
          },
          "metadata": {}
        },
        {
          "output_type": "stream",
          "name": "stdout",
          "text": [
            "Word Error Rate: 0.5433209466066888\n"
          ]
        }
      ]
    }
  ],
  "metadata": {
    "colab": {
      "machine_shape": "hm",
      "provenance": [],
      "authorship_tag": "ABX9TyMSt/uo51cRKLunlwOFELzG",
      "include_colab_link": true
    },
    "gpuClass": "standard",
    "kernelspec": {
      "display_name": "Python 3",
      "name": "python3"
    },
    "language_info": {
      "name": "python"
    },
    "widgets": {
      "application/vnd.jupyter.widget-state+json": {
        "c691aa7ea9e14644802bc8daaa65b042": {
          "model_module": "@jupyter-widgets/controls",
          "model_name": "HBoxModel",
          "model_module_version": "1.5.0",
          "state": {
            "_dom_classes": [],
            "_model_module": "@jupyter-widgets/controls",
            "_model_module_version": "1.5.0",
            "_model_name": "HBoxModel",
            "_view_count": null,
            "_view_module": "@jupyter-widgets/controls",
            "_view_module_version": "1.5.0",
            "_view_name": "HBoxView",
            "box_style": "",
            "children": [
              "IPY_MODEL_7d52c5beb78f4631aa89e026ad34ced0",
              "IPY_MODEL_8c31a9f239ad4f63a8f84714e059a9df",
              "IPY_MODEL_fdb57261a9464ad29849c55504f4cac1"
            ],
            "layout": "IPY_MODEL_cbb417349bfe4b11b4b86786125afd41"
          }
        },
        "7d52c5beb78f4631aa89e026ad34ced0": {
          "model_module": "@jupyter-widgets/controls",
          "model_name": "HTMLModel",
          "model_module_version": "1.5.0",
          "state": {
            "_dom_classes": [],
            "_model_module": "@jupyter-widgets/controls",
            "_model_module_version": "1.5.0",
            "_model_name": "HTMLModel",
            "_view_count": null,
            "_view_module": "@jupyter-widgets/controls",
            "_view_module_version": "1.5.0",
            "_view_name": "HTMLView",
            "description": "",
            "description_tooltip": null,
            "layout": "IPY_MODEL_936142914aa2451b880f174d86e67a34",
            "placeholder": "​",
            "style": "IPY_MODEL_ab5d825de2ec45879f8e99937b6d21be",
            "value": "Downloading builder script: 100%"
          }
        },
        "8c31a9f239ad4f63a8f84714e059a9df": {
          "model_module": "@jupyter-widgets/controls",
          "model_name": "FloatProgressModel",
          "model_module_version": "1.5.0",
          "state": {
            "_dom_classes": [],
            "_model_module": "@jupyter-widgets/controls",
            "_model_module_version": "1.5.0",
            "_model_name": "FloatProgressModel",
            "_view_count": null,
            "_view_module": "@jupyter-widgets/controls",
            "_view_module_version": "1.5.0",
            "_view_name": "ProgressView",
            "bar_style": "success",
            "description": "",
            "description_tooltip": null,
            "layout": "IPY_MODEL_103c242b045a47119d19e5c5f6b761e3",
            "max": 4485,
            "min": 0,
            "orientation": "horizontal",
            "style": "IPY_MODEL_65b3df12020742468180647b72dae28a",
            "value": 4485
          }
        },
        "fdb57261a9464ad29849c55504f4cac1": {
          "model_module": "@jupyter-widgets/controls",
          "model_name": "HTMLModel",
          "model_module_version": "1.5.0",
          "state": {
            "_dom_classes": [],
            "_model_module": "@jupyter-widgets/controls",
            "_model_module_version": "1.5.0",
            "_model_name": "HTMLModel",
            "_view_count": null,
            "_view_module": "@jupyter-widgets/controls",
            "_view_module_version": "1.5.0",
            "_view_name": "HTMLView",
            "description": "",
            "description_tooltip": null,
            "layout": "IPY_MODEL_bc936b369824445799c5955550e53386",
            "placeholder": "​",
            "style": "IPY_MODEL_1743f1a075ea4bae86595ff28d75dcda",
            "value": " 4.49k/4.49k [00:00&lt;00:00, 144kB/s]"
          }
        },
        "cbb417349bfe4b11b4b86786125afd41": {
          "model_module": "@jupyter-widgets/base",
          "model_name": "LayoutModel",
          "model_module_version": "1.2.0",
          "state": {
            "_model_module": "@jupyter-widgets/base",
            "_model_module_version": "1.2.0",
            "_model_name": "LayoutModel",
            "_view_count": null,
            "_view_module": "@jupyter-widgets/base",
            "_view_module_version": "1.2.0",
            "_view_name": "LayoutView",
            "align_content": null,
            "align_items": null,
            "align_self": null,
            "border": null,
            "bottom": null,
            "display": null,
            "flex": null,
            "flex_flow": null,
            "grid_area": null,
            "grid_auto_columns": null,
            "grid_auto_flow": null,
            "grid_auto_rows": null,
            "grid_column": null,
            "grid_gap": null,
            "grid_row": null,
            "grid_template_areas": null,
            "grid_template_columns": null,
            "grid_template_rows": null,
            "height": null,
            "justify_content": null,
            "justify_items": null,
            "left": null,
            "margin": null,
            "max_height": null,
            "max_width": null,
            "min_height": null,
            "min_width": null,
            "object_fit": null,
            "object_position": null,
            "order": null,
            "overflow": null,
            "overflow_x": null,
            "overflow_y": null,
            "padding": null,
            "right": null,
            "top": null,
            "visibility": null,
            "width": null
          }
        },
        "936142914aa2451b880f174d86e67a34": {
          "model_module": "@jupyter-widgets/base",
          "model_name": "LayoutModel",
          "model_module_version": "1.2.0",
          "state": {
            "_model_module": "@jupyter-widgets/base",
            "_model_module_version": "1.2.0",
            "_model_name": "LayoutModel",
            "_view_count": null,
            "_view_module": "@jupyter-widgets/base",
            "_view_module_version": "1.2.0",
            "_view_name": "LayoutView",
            "align_content": null,
            "align_items": null,
            "align_self": null,
            "border": null,
            "bottom": null,
            "display": null,
            "flex": null,
            "flex_flow": null,
            "grid_area": null,
            "grid_auto_columns": null,
            "grid_auto_flow": null,
            "grid_auto_rows": null,
            "grid_column": null,
            "grid_gap": null,
            "grid_row": null,
            "grid_template_areas": null,
            "grid_template_columns": null,
            "grid_template_rows": null,
            "height": null,
            "justify_content": null,
            "justify_items": null,
            "left": null,
            "margin": null,
            "max_height": null,
            "max_width": null,
            "min_height": null,
            "min_width": null,
            "object_fit": null,
            "object_position": null,
            "order": null,
            "overflow": null,
            "overflow_x": null,
            "overflow_y": null,
            "padding": null,
            "right": null,
            "top": null,
            "visibility": null,
            "width": null
          }
        },
        "ab5d825de2ec45879f8e99937b6d21be": {
          "model_module": "@jupyter-widgets/controls",
          "model_name": "DescriptionStyleModel",
          "model_module_version": "1.5.0",
          "state": {
            "_model_module": "@jupyter-widgets/controls",
            "_model_module_version": "1.5.0",
            "_model_name": "DescriptionStyleModel",
            "_view_count": null,
            "_view_module": "@jupyter-widgets/base",
            "_view_module_version": "1.2.0",
            "_view_name": "StyleView",
            "description_width": ""
          }
        },
        "103c242b045a47119d19e5c5f6b761e3": {
          "model_module": "@jupyter-widgets/base",
          "model_name": "LayoutModel",
          "model_module_version": "1.2.0",
          "state": {
            "_model_module": "@jupyter-widgets/base",
            "_model_module_version": "1.2.0",
            "_model_name": "LayoutModel",
            "_view_count": null,
            "_view_module": "@jupyter-widgets/base",
            "_view_module_version": "1.2.0",
            "_view_name": "LayoutView",
            "align_content": null,
            "align_items": null,
            "align_self": null,
            "border": null,
            "bottom": null,
            "display": null,
            "flex": null,
            "flex_flow": null,
            "grid_area": null,
            "grid_auto_columns": null,
            "grid_auto_flow": null,
            "grid_auto_rows": null,
            "grid_column": null,
            "grid_gap": null,
            "grid_row": null,
            "grid_template_areas": null,
            "grid_template_columns": null,
            "grid_template_rows": null,
            "height": null,
            "justify_content": null,
            "justify_items": null,
            "left": null,
            "margin": null,
            "max_height": null,
            "max_width": null,
            "min_height": null,
            "min_width": null,
            "object_fit": null,
            "object_position": null,
            "order": null,
            "overflow": null,
            "overflow_x": null,
            "overflow_y": null,
            "padding": null,
            "right": null,
            "top": null,
            "visibility": null,
            "width": null
          }
        },
        "65b3df12020742468180647b72dae28a": {
          "model_module": "@jupyter-widgets/controls",
          "model_name": "ProgressStyleModel",
          "model_module_version": "1.5.0",
          "state": {
            "_model_module": "@jupyter-widgets/controls",
            "_model_module_version": "1.5.0",
            "_model_name": "ProgressStyleModel",
            "_view_count": null,
            "_view_module": "@jupyter-widgets/base",
            "_view_module_version": "1.2.0",
            "_view_name": "StyleView",
            "bar_color": null,
            "description_width": ""
          }
        },
        "bc936b369824445799c5955550e53386": {
          "model_module": "@jupyter-widgets/base",
          "model_name": "LayoutModel",
          "model_module_version": "1.2.0",
          "state": {
            "_model_module": "@jupyter-widgets/base",
            "_model_module_version": "1.2.0",
            "_model_name": "LayoutModel",
            "_view_count": null,
            "_view_module": "@jupyter-widgets/base",
            "_view_module_version": "1.2.0",
            "_view_name": "LayoutView",
            "align_content": null,
            "align_items": null,
            "align_self": null,
            "border": null,
            "bottom": null,
            "display": null,
            "flex": null,
            "flex_flow": null,
            "grid_area": null,
            "grid_auto_columns": null,
            "grid_auto_flow": null,
            "grid_auto_rows": null,
            "grid_column": null,
            "grid_gap": null,
            "grid_row": null,
            "grid_template_areas": null,
            "grid_template_columns": null,
            "grid_template_rows": null,
            "height": null,
            "justify_content": null,
            "justify_items": null,
            "left": null,
            "margin": null,
            "max_height": null,
            "max_width": null,
            "min_height": null,
            "min_width": null,
            "object_fit": null,
            "object_position": null,
            "order": null,
            "overflow": null,
            "overflow_x": null,
            "overflow_y": null,
            "padding": null,
            "right": null,
            "top": null,
            "visibility": null,
            "width": null
          }
        },
        "1743f1a075ea4bae86595ff28d75dcda": {
          "model_module": "@jupyter-widgets/controls",
          "model_name": "DescriptionStyleModel",
          "model_module_version": "1.5.0",
          "state": {
            "_model_module": "@jupyter-widgets/controls",
            "_model_module_version": "1.5.0",
            "_model_name": "DescriptionStyleModel",
            "_view_count": null,
            "_view_module": "@jupyter-widgets/base",
            "_view_module_version": "1.2.0",
            "_view_name": "StyleView",
            "description_width": ""
          }
        }
      }
    }
  },
  "nbformat": 4,
  "nbformat_minor": 0
}